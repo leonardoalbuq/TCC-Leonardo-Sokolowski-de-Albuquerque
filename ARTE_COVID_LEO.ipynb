{
  "cells": [
    {
      "cell_type": "markdown",
      "metadata": {
        "id": "sd5kQWbeKvDy"
      },
      "source": [
        "# Datasets Utilizados\n",
        "\n",
        "~500 Covid-19 Positivo \n",
        "~1600 Covid-19 Negativo\n",
        "\n",
        "## Links dos Datasets\n",
        "\n",
        "1. [Covid Chest X Ray Dataset](https://github.com/ieee8023/covid-chestxray-dataset)\n",
        "2. [Pneumonia dataset by Praveen](https://www.kaggle.com/praveengovi/coronahack-chest-xraydataset)"
      ]
    },
    {
      "cell_type": "code",
      "execution_count": null,
      "metadata": {
        "colab": {
          "base_uri": "https://localhost:8080/"
        },
        "id": "OImMUa4OLdbc",
        "outputId": "d687b523-424f-4d8b-a27e-5ba5deccd261"
      },
      "outputs": [
        {
          "output_type": "stream",
          "name": "stdout",
          "text": [
            "GPU 0: Tesla T4 (UUID: GPU-9fd7a4d2-bfe5-c8ca-d48c-b94f4fbe6226)\n"
          ]
        }
      ],
      "source": [
        "!nvidia-smi -L"
      ]
    },
    {
      "cell_type": "code",
      "execution_count": null,
      "metadata": {
        "colab": {
          "base_uri": "https://localhost:8080/"
        },
        "id": "o4TyawY-oQmm",
        "outputId": "b06cae29-73c8-485f-b5b0-42ba645fff5d"
      },
      "outputs": [
        {
          "output_type": "stream",
          "name": "stdout",
          "text": [
            "--2023-02-22 17:10:46--  https://github.com/ieee8023/covid-chestxray-dataset/archive/refs/heads/master.zip\n",
            "Resolving github.com (github.com)... 20.205.243.166\n",
            "Connecting to github.com (github.com)|20.205.243.166|:443... connected.\n",
            "HTTP request sent, awaiting response... 302 Found\n",
            "Location: https://codeload.github.com/ieee8023/covid-chestxray-dataset/zip/refs/heads/master [following]\n",
            "--2023-02-22 17:10:46--  https://codeload.github.com/ieee8023/covid-chestxray-dataset/zip/refs/heads/master\n",
            "Resolving codeload.github.com (codeload.github.com)... 20.205.243.165\n",
            "Connecting to codeload.github.com (codeload.github.com)|20.205.243.165|:443... connected.\n",
            "HTTP request sent, awaiting response... 200 OK\n",
            "Length: unspecified [application/zip]\n",
            "Saving to: ‘master.zip’\n",
            "\n",
            "master.zip              [              <=>   ] 525.03M  16.4MB/s    in 32s     \n",
            "\n",
            "2023-02-22 17:11:18 (16.6 MB/s) - ‘master.zip’ saved [550535079]\n",
            "\n"
          ]
        }
      ],
      "source": [
        "!wget https://github.com/ieee8023/covid-chestxray-dataset/archive/refs/heads/master.zip"
      ]
    },
    {
      "cell_type": "code",
      "execution_count": null,
      "metadata": {
        "colab": {
          "base_uri": "https://localhost:8080/"
        },
        "id": "WZKhLxkLgp9L",
        "outputId": "a86d7950-24af-44d6-c962-f1419842391c"
      },
      "outputs": [
        {
          "output_type": "stream",
          "name": "stdout",
          "text": [
            "Archive:  master.zip\n",
            "78543292f8b01d5e0ed1d0e15dce71949f0657bb\n",
            "   creating: covid-chestxray-dataset-master/\n",
            "   creating: covid-chestxray-dataset-master/.github/\n",
            " extracting: covid-chestxray-dataset-master/.github/FUNDING.yml  \n",
            "   creating: covid-chestxray-dataset-master/.github/workflows/\n",
            "  inflating: covid-chestxray-dataset-master/.github/workflows/tests.yml  \n",
            "  inflating: covid-chestxray-dataset-master/.gitignore  \n",
            "  inflating: covid-chestxray-dataset-master/README.md  \n",
            "  inflating: covid-chestxray-dataset-master/SCHEMA.md  \n",
            "   creating: covid-chestxray-dataset-master/annotations/\n",
            "  inflating: covid-chestxray-dataset-master/annotations/covid-severity-scores.csv  \n",
            "  inflating: covid-chestxray-dataset-master/annotations/imageannotation_ai_lung_bounding_boxes.json  \n",
            "   creating: covid-chestxray-dataset-master/annotations/lungVAE-masks/\n",
            "  inflating: covid-chestxray-dataset-master/annotations/lungVAE-masks/1-s2.0-S0140673620303706-fx1_lrg_mask.png  \n",
            "  inflating: covid-chestxray-dataset-master/annotations/lungVAE-masks/1-s2.0-S0929664620300449-gr2_lrg-a_mask.png  \n",
            "  inflating: covid-chestxray-dataset-master/annotations/lungVAE-masks/1-s2.0-S0929664620300449-gr2_lrg-b_mask.png  \n",
            "  inflating: covid-chestxray-dataset-master/annotations/lungVAE-masks/1-s2.0-S0929664620300449-gr2_lrg-c_mask.png  \n",
            "  inflating: covid-chestxray-dataset-master/annotations/lungVAE-masks/1-s2.0-S0929664620300449-gr2_lrg-d_mask.png  \n",
            "  inflating: covid-chestxray-dataset-master/annotations/lungVAE-masks/1-s2.0-S1684118220300608-main.pdf-001_mask.png  \n",
            "  inflating: covid-chestxray-dataset-master/annotations/lungVAE-masks/1-s2.0-S1684118220300608-main.pdf-002_mask.png  \n",
            "  inflating: covid-chestxray-dataset-master/annotations/lungVAE-masks/1-s2.0-S1684118220300682-main.pdf-002-a1_mask.png  \n",
            "  inflating: covid-chestxray-dataset-master/annotations/lungVAE-masks/1-s2.0-S1684118220300682-main.pdf-002-a2_mask.png  \n",
            "  inflating: covid-chestxray-dataset-master/annotations/lungVAE-masks/1-s2.0-S1684118220300682-main.pdf-003-b1_mask.png  \n",
            "  inflating: covid-chestxray-dataset-master/annotations/lungVAE-masks/1-s2.0-S1684118220300682-main.pdf-003-b2_mask.png  \n",
            "  inflating: covid-chestxray-dataset-master/annotations/lungVAE-masks/1.CXRCTThoraximagesofCOVID-19fromSingapore.pdf-000-fig1a_mask.png  \n",
            "  inflating: covid-chestxray-dataset-master/annotations/lungVAE-masks/1.CXRCTThoraximagesofCOVID-19fromSingapore.pdf-000-fig1b_mask.png  \n",
            "  inflating: covid-chestxray-dataset-master/annotations/lungVAE-masks/1.CXRCTThoraximagesofCOVID-19fromSingapore.pdf-001-fig2a_mask.png  \n",
            "  inflating: covid-chestxray-dataset-master/annotations/lungVAE-masks/1.CXRCTThoraximagesofCOVID-19fromSingapore.pdf-001-fig2b_mask.png  \n",
            "  inflating: covid-chestxray-dataset-master/annotations/lungVAE-masks/1.CXRCTThoraximagesofCOVID-19fromSingapore.pdf-002-fig3a_mask.png  \n",
            "  inflating: covid-chestxray-dataset-master/annotations/lungVAE-masks/1.CXRCTThoraximagesofCOVID-19fromSingapore.pdf-002-fig3b_mask.png  \n",
            "  inflating: covid-chestxray-dataset-master/annotations/lungVAE-masks/1.CXRCTThoraximagesofCOVID-19fromSingapore.pdf-003-fig4a_mask.png  \n",
            "  inflating: covid-chestxray-dataset-master/annotations/lungVAE-masks/1.CXRCTThoraximagesofCOVID-19fromSingapore.pdf-003-fig4b_mask.png  \n",
            "  inflating: covid-chestxray-dataset-master/annotations/lungVAE-masks/16630_2_2_mask.png  \n",
            "  inflating: covid-chestxray-dataset-master/annotations/lungVAE-masks/16654_1_1_mask.png  \n",
            "  inflating: covid-chestxray-dataset-master/annotations/lungVAE-masks/16654_2_1_mask.png  \n",
            "  inflating: covid-chestxray-dataset-master/annotations/lungVAE-masks/16654_4_1_mask.png  \n",
            "  inflating: covid-chestxray-dataset-master/annotations/lungVAE-masks/16660_1_1_mask.png  \n",
            "  inflating: covid-chestxray-dataset-master/annotations/lungVAE-masks/16660_2_1_mask.png  \n",
            "  inflating: covid-chestxray-dataset-master/annotations/lungVAE-masks/16660_3_1_mask.png  \n",
            "  inflating: covid-chestxray-dataset-master/annotations/lungVAE-masks/16660_4_1_mask.png  \n",
            "  inflating: covid-chestxray-dataset-master/annotations/lungVAE-masks/16660_5_1_mask.png  \n",
            "  inflating: covid-chestxray-dataset-master/annotations/lungVAE-masks/16663_1_1_mask.png  \n",
            "  inflating: covid-chestxray-dataset-master/annotations/lungVAE-masks/16664_1_1_mask.png  \n",
            "  inflating: covid-chestxray-dataset-master/annotations/lungVAE-masks/16672_1_1_mask.png  \n",
            "  inflating: covid-chestxray-dataset-master/annotations/lungVAE-masks/16673_2_1_mask.png  \n",
            "  inflating: covid-chestxray-dataset-master/annotations/lungVAE-masks/16674_1_1_mask.png  \n",
            "  inflating: covid-chestxray-dataset-master/annotations/lungVAE-masks/16691_1_1_mask.png  \n",
            "  inflating: covid-chestxray-dataset-master/annotations/lungVAE-masks/16706_1_1_mask.png  \n",
            "  inflating: covid-chestxray-dataset-master/annotations/lungVAE-masks/16708_1_1_mask.png  \n",
            "  inflating: covid-chestxray-dataset-master/annotations/lungVAE-masks/16708_4_1_mask.png  \n",
            "  inflating: covid-chestxray-dataset-master/annotations/lungVAE-masks/16708_5_1_mask.png  \n",
            "  inflating: covid-chestxray-dataset-master/annotations/lungVAE-masks/16724_1_1_mask.png  \n",
            "  inflating: covid-chestxray-dataset-master/annotations/lungVAE-masks/16744_1_1_mask.png  \n",
            "  inflating: covid-chestxray-dataset-master/annotations/lungVAE-masks/16745_3_1_mask.png  \n",
            "  inflating: covid-chestxray-dataset-master/annotations/lungVAE-masks/16745_4_1_mask.png  \n",
            "  inflating: covid-chestxray-dataset-master/annotations/lungVAE-masks/16745_5_1_mask.png  \n",
            "  inflating: covid-chestxray-dataset-master/annotations/lungVAE-masks/16745_6_1_mask.png  \n",
            "  inflating: covid-chestxray-dataset-master/annotations/lungVAE-masks/16747_1_1_mask.png  \n",
            "  inflating: covid-chestxray-dataset-master/annotations/lungVAE-masks/16747_2_1_mask.png  \n",
            "  inflating: covid-chestxray-dataset-master/annotations/lungVAE-masks/16747_3_1_mask.png  \n",
            "  inflating: covid-chestxray-dataset-master/annotations/lungVAE-masks/16751_3_2_mask.png  \n",
            "  inflating: covid-chestxray-dataset-master/annotations/lungVAE-masks/16751_3_3_mask.png  \n",
            "  inflating: covid-chestxray-dataset-master/annotations/lungVAE-masks/2-chest-filmc_mask.png  \n",
            "  inflating: covid-chestxray-dataset-master/annotations/lungVAE-masks/23E99E2E-447C-46E5-8EB2-D35D12473C39_mask.png  \n",
            " extracting: covid-chestxray-dataset-master/annotations/lungVAE-masks/41591_2020_819_Fig1_HTML.webp-day10_mask.png  \n",
            " extracting: covid-chestxray-dataset-master/annotations/lungVAE-masks/41591_2020_819_Fig1_HTML.webp-day5_mask.png  \n",
            "  inflating: covid-chestxray-dataset-master/annotations/lungVAE-masks/4ad30bc6-2da0-4f84-bc9b-62acabfd518a.annot.original_mask.png  \n",
            "  inflating: covid-chestxray-dataset-master/annotations/lungVAE-masks/67d668e570c242404ba82c7cbe2ca8f2-0015-0_mask.png  \n",
            "  inflating: covid-chestxray-dataset-master/annotations/lungVAE-masks/67d668e570c242404ba82c7cbe2ca8f2-05be-0_mask.png  \n",
            "  inflating: covid-chestxray-dataset-master/annotations/lungVAE-masks/6b3bdbc31f65230b8cdcc3cef5f8ba8a-40ac-0_mask.png  \n",
            " extracting: covid-chestxray-dataset-master/annotations/lungVAE-masks/7-fatal-covid19_mask.png  \n",
            "  inflating: covid-chestxray-dataset-master/annotations/lungVAE-masks/7EF28E12-F628-4BEC-A8C5-E6277C2E4F60_mask.png  \n",
            "  inflating: covid-chestxray-dataset-master/annotations/lungVAE-masks/88de9d8c39e946abd495b37cd07d89e5-0666-0_mask.png  \n",
            "  inflating: covid-chestxray-dataset-master/annotations/lungVAE-masks/88de9d8c39e946abd495b37cd07d89e5-2ee6-0_mask.png  \n",
            "  inflating: covid-chestxray-dataset-master/annotations/lungVAE-masks/88de9d8c39e946abd495b37cd07d89e5-6531-0_mask.png  \n",
            "  inflating: covid-chestxray-dataset-master/annotations/lungVAE-masks/AR-1_mask.png  \n",
            "  inflating: covid-chestxray-dataset-master/annotations/lungVAE-masks/AR-2_mask.png  \n",
            "  inflating: covid-chestxray-dataset-master/annotations/lungVAE-masks/ARDSSevere_mask.png  \n",
            "  inflating: covid-chestxray-dataset-master/annotations/lungVAE-masks/MERS-CoV-1-s2.0-S0378603X1500248X-gr4e_mask.png  \n",
            "  inflating: covid-chestxray-dataset-master/annotations/lungVAE-masks/README.md  \n",
            "  inflating: covid-chestxray-dataset-master/annotations/lungVAE-masks/X-ray_of_cyst_in_pneumocystis_pneumonia_1_mask.png  \n",
            "  inflating: covid-chestxray-dataset-master/annotations/lungVAE-masks/acute-respiratory-distress-syndrome-ards-1_mask.png  \n",
            "  inflating: covid-chestxray-dataset-master/annotations/lungVAE-masks/acute-respiratory-distress-syndrome-ards_mask.png  \n",
            "  inflating: covid-chestxray-dataset-master/annotations/lungVAE-masks/ae6c954c0039de4b5edee53865ffee43-e6c8-0_mask.png  \n",
            "  inflating: covid-chestxray-dataset-master/annotations/lungVAE-masks/ajr.20.23034.pdf-001_mask.png  \n",
            "  inflating: covid-chestxray-dataset-master/annotations/lungVAE-masks/ajr.20.23034.pdf-003_mask.png  \n",
            "  inflating: covid-chestxray-dataset-master/annotations/lungVAE-masks/all14238-fig-0001-m-b_mask.png  \n",
            "  inflating: covid-chestxray-dataset-master/annotations/lungVAE-masks/all14238-fig-0001-m-c_mask.png  \n",
            "  inflating: covid-chestxray-dataset-master/annotations/lungVAE-masks/all14238-fig-0002-m-e_mask.png  \n",
            "  inflating: covid-chestxray-dataset-master/annotations/lungVAE-masks/all14238-fig-0002-m-f_mask.png  \n",
            "  inflating: covid-chestxray-dataset-master/annotations/lungVAE-masks/ards-secondary-to-tiger-snake-bite_mask.png  \n",
            "  inflating: covid-chestxray-dataset-master/annotations/lungVAE-masks/aspiration-pneumonia-5-day0_mask.png  \n",
            "  inflating: covid-chestxray-dataset-master/annotations/lungVAE-masks/aspiration-pneumonia-5-day10_mask.png  \n",
            "  inflating: covid-chestxray-dataset-master/annotations/lungVAE-masks/aspiration-pneumonia-5-day27_mask.png  \n",
            "  inflating: covid-chestxray-dataset-master/annotations/lungVAE-masks/aspiration-pneumonia-5-day3_mask.png  \n",
            "  inflating: covid-chestxray-dataset-master/annotations/lungVAE-masks/auntminnie-2020_01_31_20_24_2322_2020_01_31_x-ray_coronavirus_US_mask.png  \n",
            "  inflating: covid-chestxray-dataset-master/annotations/lungVAE-masks/case_71_figura1_mask.png  \n",
            "  inflating: covid-chestxray-dataset-master/annotations/lungVAE-masks/case_72_RX-TORACE1_mask.png  \n",
            "  inflating: covid-chestxray-dataset-master/annotations/lungVAE-masks/case_76_1-3_mask.png  \n",
            "  inflating: covid-chestxray-dataset-master/annotations/lungVAE-masks/cavitating-pneumonia-4-day0-PA_mask.png  \n",
            "  inflating: covid-chestxray-dataset-master/annotations/lungVAE-masks/cavitating-pneumonia-4-day28-PA_mask.png  \n",
            "  inflating: covid-chestxray-dataset-master/annotations/lungVAE-masks/chlamydia-pneumonia-PA_mask.png  \n",
            "  inflating: covid-chestxray-dataset-master/annotations/lungVAE-masks/ciaa199.pdf-001-a_mask.png  \n",
            " extracting: covid-chestxray-dataset-master/annotations/lungVAE-masks/ciaa199.pdf-001-b_mask.png  \n",
            " extracting: covid-chestxray-dataset-master/annotations/lungVAE-masks/ciaa199.pdf-001-c_mask.png  \n",
            "  inflating: covid-chestxray-dataset-master/annotations/lungVAE-masks/covid-19-caso-70-1-PA_mask.png  \n",
            "  inflating: covid-chestxray-dataset-master/annotations/lungVAE-masks/covid-19-caso-70-2-APS_mask.png  \n",
            "  inflating: covid-chestxray-dataset-master/annotations/lungVAE-masks/covid-19-infection-exclusive-gastrointestinal-symptoms-pa_mask.png  \n",
            "  inflating: covid-chestxray-dataset-master/annotations/lungVAE-masks/covid-19-pneumonia-101_mask.png  \n",
            "  inflating: covid-chestxray-dataset-master/annotations/lungVAE-masks/covid-19-pneumonia-12_mask.png  \n",
            "  inflating: covid-chestxray-dataset-master/annotations/lungVAE-masks/covid-19-pneumonia-14-PA_mask.png  \n",
            "  inflating: covid-chestxray-dataset-master/annotations/lungVAE-masks/covid-19-pneumonia-15-PA_mask.png  \n",
            "  inflating: covid-chestxray-dataset-master/annotations/lungVAE-masks/covid-19-pneumonia-19_mask.png  \n",
            "  inflating: covid-chestxray-dataset-master/annotations/lungVAE-masks/covid-19-pneumonia-20-pa-on-admission_mask.png  \n",
            "  inflating: covid-chestxray-dataset-master/annotations/lungVAE-masks/covid-19-pneumonia-20_mask.png  \n",
            "  inflating: covid-chestxray-dataset-master/annotations/lungVAE-masks/covid-19-pneumonia-22-day1-pa_mask.png  \n",
            "  inflating: covid-chestxray-dataset-master/annotations/lungVAE-masks/covid-19-pneumonia-22-day2-pa_mask.png  \n",
            "  inflating: covid-chestxray-dataset-master/annotations/lungVAE-masks/covid-19-pneumonia-23-day1_mask.png  \n",
            "  inflating: covid-chestxray-dataset-master/annotations/lungVAE-masks/covid-19-pneumonia-23-day3_mask.png  \n",
            "  inflating: covid-chestxray-dataset-master/annotations/lungVAE-masks/covid-19-pneumonia-24-day12_mask.png  \n",
            "  inflating: covid-chestxray-dataset-master/annotations/lungVAE-masks/covid-19-pneumonia-24-day6_mask.png  \n",
            "  inflating: covid-chestxray-dataset-master/annotations/lungVAE-masks/covid-19-pneumonia-24-day7_mask.png  \n",
            "  inflating: covid-chestxray-dataset-master/annotations/lungVAE-masks/covid-19-pneumonia-28_mask.png  \n",
            "  inflating: covid-chestxray-dataset-master/annotations/lungVAE-masks/covid-19-pneumonia-2_mask.png  \n",
            "  inflating: covid-chestxray-dataset-master/annotations/lungVAE-masks/covid-19-pneumonia-30-PA_mask.png  \n",
            "  inflating: covid-chestxray-dataset-master/annotations/lungVAE-masks/covid-19-pneumonia-34_mask.png  \n",
            "  inflating: covid-chestxray-dataset-master/annotations/lungVAE-masks/covid-19-pneumonia-35-1_mask.png  \n",
            "  inflating: covid-chestxray-dataset-master/annotations/lungVAE-masks/covid-19-pneumonia-35-2_mask.png  \n",
            "  inflating: covid-chestxray-dataset-master/annotations/lungVAE-masks/covid-19-pneumonia-38-pa_mask.png  \n",
            "  inflating: covid-chestxray-dataset-master/annotations/lungVAE-masks/covid-19-pneumonia-40_mask.png  \n",
            "  inflating: covid-chestxray-dataset-master/annotations/lungVAE-masks/covid-19-pneumonia-41-day-0_mask.png  \n",
            "  inflating: covid-chestxray-dataset-master/annotations/lungVAE-masks/covid-19-pneumonia-41-day-2_mask.png  \n",
            "  inflating: covid-chestxray-dataset-master/annotations/lungVAE-masks/covid-19-pneumonia-49-day4_mask.png  \n",
            "  inflating: covid-chestxray-dataset-master/annotations/lungVAE-masks/covid-19-pneumonia-49-day8_mask.png  \n",
            "  inflating: covid-chestxray-dataset-master/annotations/lungVAE-masks/covid-19-pneumonia-53_mask.png  \n",
            "  inflating: covid-chestxray-dataset-master/annotations/lungVAE-masks/covid-19-pneumonia-58-day-10_mask.png  \n",
            "  inflating: covid-chestxray-dataset-master/annotations/lungVAE-masks/covid-19-pneumonia-58-day-3_mask.png  \n",
            "  inflating: covid-chestxray-dataset-master/annotations/lungVAE-masks/covid-19-pneumonia-58-day-7_mask.png  \n",
            "  inflating: covid-chestxray-dataset-master/annotations/lungVAE-masks/covid-19-pneumonia-58-day-9_mask.png  \n",
            "  inflating: covid-chestxray-dataset-master/annotations/lungVAE-masks/covid-19-pneumonia-58-prior_mask.png  \n",
            "  inflating: covid-chestxray-dataset-master/annotations/lungVAE-masks/covid-19-pneumonia-7-PA_mask.png  \n",
            "  inflating: covid-chestxray-dataset-master/annotations/lungVAE-masks/covid-19-pneumonia-93_mask.png  \n",
            "  inflating: covid-chestxray-dataset-master/annotations/lungVAE-masks/covid-19-pneumonia-bilateral_mask.png  \n",
            "  inflating: covid-chestxray-dataset-master/annotations/lungVAE-masks/covid-19-pneumonia-evolution-over-a-week-1-day0-PA_mask.png  \n",
            "  inflating: covid-chestxray-dataset-master/annotations/lungVAE-masks/covid-19-pneumonia-evolution-over-a-week-1-day3_mask.png  \n",
            "  inflating: covid-chestxray-dataset-master/annotations/lungVAE-masks/covid-19-pneumonia-evolution-over-a-week-1-day4_mask.png  \n",
            "  inflating: covid-chestxray-dataset-master/annotations/lungVAE-masks/covid-19-pneumonia-evolution-over-a-week-1-day6_mask.png  \n",
            "  inflating: covid-chestxray-dataset-master/annotations/lungVAE-masks/covid-19-pneumonia-progression-and-regression-day11_mask.png  \n",
            "  inflating: covid-chestxray-dataset-master/annotations/lungVAE-masks/covid-19-pneumonia-progression-and-regression-day13_mask.png  \n",
            "  inflating: covid-chestxray-dataset-master/annotations/lungVAE-masks/covid-19-pneumonia-progression-and-regression-day1_mask.png  \n",
            "  inflating: covid-chestxray-dataset-master/annotations/lungVAE-masks/covid-19-pneumonia-progression-and-regression-day20_mask.png  \n",
            "  inflating: covid-chestxray-dataset-master/annotations/lungVAE-masks/covid-19-pneumonia-progression-and-regression-day24_mask.png  \n",
            "  inflating: covid-chestxray-dataset-master/annotations/lungVAE-masks/covid-19-pneumonia-progression-and-regression-day28_mask.png  \n",
            "  inflating: covid-chestxray-dataset-master/annotations/lungVAE-masks/covid-19-pneumonia-progression-and-regression-day6_mask.png  \n",
            "  inflating: covid-chestxray-dataset-master/annotations/lungVAE-masks/covid-19-pneumonia-rapidly-progressive-12-hours_mask.png  \n",
            "  inflating: covid-chestxray-dataset-master/annotations/lungVAE-masks/covid-19-pneumonia-rapidly-progressive-3-days_mask.png  \n",
            "  inflating: covid-chestxray-dataset-master/annotations/lungVAE-masks/covid-19-pneumonia-rapidly-progressive-admission_mask.png  \n",
            "  inflating: covid-chestxray-dataset-master/annotations/lungVAE-masks/covid-19-rapidly-progressive-acute-respiratory-distress-syndrome-ards-admission_mask.png  \n",
            "  inflating: covid-chestxray-dataset-master/annotations/lungVAE-masks/covid-19-rapidly-progressive-acute-respiratory-distress-syndrome-ards-day-1_mask.png  \n",
            "  inflating: covid-chestxray-dataset-master/annotations/lungVAE-masks/covid-19-rapidly-progressive-acute-respiratory-distress-syndrome-ards-day-2_mask.png  \n",
            "  inflating: covid-chestxray-dataset-master/annotations/lungVAE-masks/covid-19-rapidly-progressive-acute-respiratory-distress-syndrome-ards-day-3_mask.png  \n",
            " extracting: covid-chestxray-dataset-master/annotations/lungVAE-masks/extubation-13_mask.png  \n",
            "  inflating: covid-chestxray-dataset-master/annotations/lungVAE-masks/extubation-1_mask.png  \n",
            " extracting: covid-chestxray-dataset-master/annotations/lungVAE-masks/extubation-4_mask.png  \n",
            " extracting: covid-chestxray-dataset-master/annotations/lungVAE-masks/extubation-8_mask.png  \n",
            "  inflating: covid-chestxray-dataset-master/annotations/lungVAE-masks/fff49165-b22d-4bb4-b9d1-d5d62c52436c.annot.original_mask.png  \n",
            "  inflating: covid-chestxray-dataset-master/annotations/lungVAE-masks/gr1_lrg-a_mask.png  \n",
            "  inflating: covid-chestxray-dataset-master/annotations/lungVAE-masks/gr1_lrg-b_mask.png  \n",
            " extracting: covid-chestxray-dataset-master/annotations/lungVAE-masks/jkms-35-e79-g001-l-a_mask.png  \n",
            " extracting: covid-chestxray-dataset-master/annotations/lungVAE-masks/jkms-35-e79-g001-l-b_mask.png  \n",
            "  inflating: covid-chestxray-dataset-master/annotations/lungVAE-masks/jkms-35-e79-g001-l-c_mask.png  \n",
            " extracting: covid-chestxray-dataset-master/annotations/lungVAE-masks/kjr-21-e24-g001-l-a_mask.png  \n",
            " extracting: covid-chestxray-dataset-master/annotations/lungVAE-masks/kjr-21-e24-g002-l-a_mask.png  \n",
            "  inflating: covid-chestxray-dataset-master/annotations/lungVAE-masks/kjr-21-e24-g003-l-a_mask.png  \n",
            " extracting: covid-chestxray-dataset-master/annotations/lungVAE-masks/kjr-21-e25-g001-l-a_mask.png  \n",
            "  inflating: covid-chestxray-dataset-master/annotations/lungVAE-masks/klebsiella-pneumonia-1_mask.png  \n",
            "  inflating: covid-chestxray-dataset-master/annotations/lungVAE-masks/lancet-case2a_mask.png  \n",
            "  inflating: covid-chestxray-dataset-master/annotations/lungVAE-masks/lancet-case2b_mask.png  \n",
            "  inflating: covid-chestxray-dataset-master/annotations/lungVAE-masks/legionella-pneumonia-1_mask.png  \n",
            "  inflating: covid-chestxray-dataset-master/annotations/lungVAE-masks/legionella-pneumonia-2_mask.png  \n",
            "  inflating: covid-chestxray-dataset-master/annotations/lungVAE-masks/parapneumonic-effusion-1-PA_mask.png  \n",
            " extracting: covid-chestxray-dataset-master/annotations/lungVAE-masks/paving_mask.png  \n",
            "  inflating: covid-chestxray-dataset-master/annotations/lungVAE-masks/pneumococcal-pneumonia-day0_mask.png  \n",
            "  inflating: covid-chestxray-dataset-master/annotations/lungVAE-masks/pneumococcal-pneumonia-day35_mask.png  \n",
            "  inflating: covid-chestxray-dataset-master/annotations/lungVAE-masks/pneumococcal-pneumonia-day7_mask.png  \n",
            "  inflating: covid-chestxray-dataset-master/annotations/lungVAE-masks/pneumocystis-carinii-pneumonia-1-PA_mask.png  \n",
            "  inflating: covid-chestxray-dataset-master/annotations/lungVAE-masks/pneumocystis-jiroveci-pneumonia-2_mask.png  \n",
            "  inflating: covid-chestxray-dataset-master/annotations/lungVAE-masks/pneumocystis-jiroveci-pneumonia-4-PA_mask.png  \n",
            "  inflating: covid-chestxray-dataset-master/annotations/lungVAE-masks/pneumocystis-jirovecii-pneumonia-2_mask.png  \n",
            "  inflating: covid-chestxray-dataset-master/annotations/lungVAE-masks/pneumocystis-jirovecii-pneumonia-3-1_mask.png  \n",
            "  inflating: covid-chestxray-dataset-master/annotations/lungVAE-masks/pneumocystis-jirovecii-pneumonia-3-2_mask.png  \n",
            "  inflating: covid-chestxray-dataset-master/annotations/lungVAE-masks/pneumocystis-jirovecii-pneumonia-3-3_mask.png  \n",
            "  inflating: covid-chestxray-dataset-master/annotations/lungVAE-masks/pneumocystis-pneumonia-12_mask.png  \n",
            "  inflating: covid-chestxray-dataset-master/annotations/lungVAE-masks/pneumocystis-pneumonia-1_mask.png  \n",
            "  inflating: covid-chestxray-dataset-master/annotations/lungVAE-masks/pneumocystis-pneumonia-2-PA_mask.png  \n",
            "  inflating: covid-chestxray-dataset-master/annotations/lungVAE-masks/pneumocystis-pneumonia-8_mask.png  \n",
            "  inflating: covid-chestxray-dataset-master/annotations/lungVAE-masks/pneumonia-7_mask.png  \n",
            "  inflating: covid-chestxray-dataset-master/annotations/lungVAE-masks/post-intubuation-pneumomediastium-and-pneumothorax-background-covid-19-pneumonia-day1_mask.png  \n",
            "  inflating: covid-chestxray-dataset-master/annotations/lungVAE-masks/post-intubuation-pneumomediastium-and-pneumothorax-background-covid-19-pneumonia-day1_mask.png.png  \n",
            "  inflating: covid-chestxray-dataset-master/annotations/lungVAE-masks/post-intubuation-pneumomediastium-and-pneumothorax-background-covid-19-pneumonia-day6-1_mask.png  \n",
            "  inflating: covid-chestxray-dataset-master/annotations/lungVAE-masks/post-intubuation-pneumomediastium-and-pneumothorax-background-covid-19-pneumonia-day6-1_mask.png.png  \n",
            "  inflating: covid-chestxray-dataset-master/annotations/lungVAE-masks/post-intubuation-pneumomediastium-and-pneumothorax-background-covid-19-pneumonia-day6-2_mask.png  \n",
            "  inflating: covid-chestxray-dataset-master/annotations/lungVAE-masks/post-intubuation-pneumomediastium-and-pneumothorax-background-covid-19-pneumonia-day6-2_mask.png.png  \n",
            "  inflating: covid-chestxray-dataset-master/annotations/lungVAE-masks/post-intubuation-pneumomediastium-and-pneumothorax-background-covid-19-pneumonia-day7_mask.png  \n",
            "  inflating: covid-chestxray-dataset-master/annotations/lungVAE-masks/post-intubuation-pneumomediastium-and-pneumothorax-background-covid-19-pneumonia-day7_mask.png.png  \n",
            "  inflating: covid-chestxray-dataset-master/annotations/lungVAE-masks/radiol.2020200274.fig3d_mask.png  \n",
            "  inflating: covid-chestxray-dataset-master/annotations/lungVAE-masks/radiopaedia-2019-novel-coronavirus-infected-pneumonia_mask.png  \n",
            "  inflating: covid-chestxray-dataset-master/annotations/lungVAE-masks/right-upper-lobe-pneumonia-9-PA_mask.png  \n",
            " extracting: covid-chestxray-dataset-master/annotations/lungVAE-masks/ryct.2020003.fig2-a_mask.png  \n",
            " extracting: covid-chestxray-dataset-master/annotations/lungVAE-masks/ryct.2020003.fig2-b_mask.png  \n",
            "  inflating: covid-chestxray-dataset-master/annotations/lungVAE-masks/streptococcus-pneumoniae-pneumonia-1_mask.png  \n",
            "  inflating: covid-chestxray-dataset-master/annotations/lungVAE-masks/streptococcus-pneumoniae-pneumonia-temporal-evolution-1-day0_mask.png  \n",
            "  inflating: covid-chestxray-dataset-master/annotations/lungVAE-masks/streptococcus-pneumoniae-pneumonia-temporal-evolution-1-day1_mask.png  \n",
            "  inflating: covid-chestxray-dataset-master/annotations/lungVAE-masks/streptococcus-pneumoniae-pneumonia-temporal-evolution-1-day2_mask.png  \n",
            "  inflating: covid-chestxray-dataset-master/annotations/lungVAE-masks/streptococcus-pneumoniae-pneumonia-temporal-evolution-1-day3_mask.png  \n",
            "  inflating: covid-chestxray-dataset-master/annotations/lungVAE-masks/wong-0000_mask.png  \n",
            "  inflating: covid-chestxray-dataset-master/annotations/lungVAE-masks/wong-0002_mask.png  \n",
            "  inflating: covid-chestxray-dataset-master/annotations/lungVAE-masks/wong-0003_mask.png  \n",
            "  inflating: covid-chestxray-dataset-master/annotations/lungVAE-masks/wong-0004_mask.png  \n",
            "  inflating: covid-chestxray-dataset-master/annotations/lungVAE-masks/wong-0005_mask.png  \n",
            "  inflating: covid-chestxray-dataset-master/annotations/lungVAE-masks/yxppt-2020-02-19_00-51-27_287214-day10_mask.png  \n",
            "  inflating: covid-chestxray-dataset-master/annotations/lungVAE-masks/yxppt-2020-02-19_00-51-27_287214-day12_mask.png  \n",
            "  inflating: covid-chestxray-dataset-master/annotations/lungVAE-masks/yxppt-2020-02-19_00-51-27_287214-day8_mask.png  \n",
            "   creating: covid-chestxray-dataset-master/docs/\n",
            "  inflating: covid-chestxray-dataset-master/docs/covid-xray-umap.png  \n",
            "  inflating: covid-chestxray-dataset-master/docs/hierarchy.jpg  \n",
            "  inflating: covid-chestxray-dataset-master/docs/share-image.png  \n",
            "   creating: covid-chestxray-dataset-master/images/\n",
            "  inflating: covid-chestxray-dataset-master/images/000001-1.jpg  \n",
            "  inflating: covid-chestxray-dataset-master/images/000001-1.png  \n",
            "  inflating: covid-chestxray-dataset-master/images/000001-10.jpg  \n",
            "  inflating: covid-chestxray-dataset-master/images/000001-11.jpg  \n",
            "  inflating: covid-chestxray-dataset-master/images/000001-12.jpg  \n",
            "  inflating: covid-chestxray-dataset-master/images/000001-13.jpg  \n",
            "  inflating: covid-chestxray-dataset-master/images/000001-14.jpg  \n",
            "  inflating: covid-chestxray-dataset-master/images/000001-15.jpg  \n",
            "  inflating: covid-chestxray-dataset-master/images/000001-17.jpg  \n",
            "  inflating: covid-chestxray-dataset-master/images/000001-18.jpg  \n",
            "  inflating: covid-chestxray-dataset-master/images/000001-19.jpg  \n",
            "  inflating: covid-chestxray-dataset-master/images/000001-2.jpg  \n",
            "  inflating: covid-chestxray-dataset-master/images/000001-2.png  \n",
            "  inflating: covid-chestxray-dataset-master/images/000001-20.jpg  \n",
            "  inflating: covid-chestxray-dataset-master/images/000001-24.jpg  \n",
            "  inflating: covid-chestxray-dataset-master/images/000001-266.jpg  \n",
            "  inflating: covid-chestxray-dataset-master/images/000001-27.jpg  \n",
            "  inflating: covid-chestxray-dataset-master/images/000001-272.jpg  \n",
            "  inflating: covid-chestxray-dataset-master/images/000001-3.jpg  \n",
            "  inflating: covid-chestxray-dataset-master/images/000001-3.png  \n",
            "  inflating: covid-chestxray-dataset-master/images/000001-4.jpg  \n",
            "  inflating: covid-chestxray-dataset-master/images/000001-4.png  \n",
            "  inflating: covid-chestxray-dataset-master/images/000001-5.png  \n",
            "  inflating: covid-chestxray-dataset-master/images/000001-6.jpg  \n",
            "  inflating: covid-chestxray-dataset-master/images/000001-6.png  \n",
            "  inflating: covid-chestxray-dataset-master/images/000001-7.jpg  \n",
            "  inflating: covid-chestxray-dataset-master/images/000001-8.jpg  \n",
            "  inflating: covid-chestxray-dataset-master/images/000001-9-a.jpg  \n",
            "  inflating: covid-chestxray-dataset-master/images/000001-9-b.jpg  \n",
            "  inflating: covid-chestxray-dataset-master/images/000001-9.jpg  \n",
            "  inflating: covid-chestxray-dataset-master/images/000001.jpg  \n",
            "  inflating: covid-chestxray-dataset-master/images/000001.png  \n",
            "  inflating: covid-chestxray-dataset-master/images/000002-1.jpg  \n",
            "  inflating: covid-chestxray-dataset-master/images/000002-11-a.jpg  \n",
            "  inflating: covid-chestxray-dataset-master/images/000002-11-b.jpg  \n",
            "  inflating: covid-chestxray-dataset-master/images/000002-14.jpg  \n",
            "  inflating: covid-chestxray-dataset-master/images/000002-16.jpg  \n",
            "  inflating: covid-chestxray-dataset-master/images/000002-19-a.jpg  \n",
            "  inflating: covid-chestxray-dataset-master/images/000002-19-b.jpg  \n",
            "  inflating: covid-chestxray-dataset-master/images/000002-2.jpg  \n",
            "  inflating: covid-chestxray-dataset-master/images/000002-268.jpg  \n",
            "  inflating: covid-chestxray-dataset-master/images/000002-29.jpg  \n",
            "  inflating: covid-chestxray-dataset-master/images/000002-3.jpg  \n",
            "  inflating: covid-chestxray-dataset-master/images/000002-3.png  \n",
            "  inflating: covid-chestxray-dataset-master/images/000002-4.jpg  \n",
            "  inflating: covid-chestxray-dataset-master/images/000002-4.png  \n",
            "  inflating: covid-chestxray-dataset-master/images/000002-5.jpg  \n",
            "  inflating: covid-chestxray-dataset-master/images/000002-6.jpg  \n",
            "  inflating: covid-chestxray-dataset-master/images/000002-7.jpg  \n",
            "  inflating: covid-chestxray-dataset-master/images/000002-7.png  \n",
            "  inflating: covid-chestxray-dataset-master/images/000002-8.jpg  \n",
            "  inflating: covid-chestxray-dataset-master/images/000002-9.jpg  \n",
            "  inflating: covid-chestxray-dataset-master/images/000002.jpg  \n",
            "  inflating: covid-chestxray-dataset-master/images/000002.png  \n",
            "  inflating: covid-chestxray-dataset-master/images/000003-1.jpg  \n",
            "  inflating: covid-chestxray-dataset-master/images/000003-2.jpg  \n",
            "  inflating: covid-chestxray-dataset-master/images/000003-3.jpg  \n",
            "  inflating: covid-chestxray-dataset-master/images/000003-4.jpg  \n",
            "  inflating: covid-chestxray-dataset-master/images/000003-4.png  \n",
            "  inflating: covid-chestxray-dataset-master/images/000003-5.jpg  \n",
            "  inflating: covid-chestxray-dataset-master/images/000003-6.jpg  \n",
            "  inflating: covid-chestxray-dataset-master/images/000003-7.jpg  \n",
            "  inflating: covid-chestxray-dataset-master/images/000003.jpg  \n",
            "  inflating: covid-chestxray-dataset-master/images/000004-1.jpg  \n",
            "  inflating: covid-chestxray-dataset-master/images/000004-3.png  \n",
            "  inflating: covid-chestxray-dataset-master/images/000004.jpg  \n",
            "  inflating: covid-chestxray-dataset-master/images/000004.png  \n",
            "  inflating: covid-chestxray-dataset-master/images/000005-1.jpg  \n",
            "  inflating: covid-chestxray-dataset-master/images/000005-3.png  \n",
            "  inflating: covid-chestxray-dataset-master/images/000005-5-a.jpg  \n",
            "  inflating: covid-chestxray-dataset-master/images/000005-5-b.jpg  \n",
            "  inflating: covid-chestxray-dataset-master/images/000005.jpg  \n",
            "  inflating: covid-chestxray-dataset-master/images/000006-12.jpg  \n",
            "  inflating: covid-chestxray-dataset-master/images/000006-17.jpg  \n",
            "  inflating: covid-chestxray-dataset-master/images/000006-2.png  \n",
            "  inflating: covid-chestxray-dataset-master/images/000006.jpg  \n",
            "  inflating: covid-chestxray-dataset-master/images/000007-15.jpg  \n",
            "  inflating: covid-chestxray-dataset-master/images/000007-2.png  \n",
            "  inflating: covid-chestxray-dataset-master/images/000007.jpg  \n",
            "  inflating: covid-chestxray-dataset-master/images/000007.png  \n",
            "  inflating: covid-chestxray-dataset-master/images/000008-8.jpg  \n",
            "  inflating: covid-chestxray-dataset-master/images/000008.jpg  \n",
            "  inflating: covid-chestxray-dataset-master/images/000008.png  \n",
            "  inflating: covid-chestxray-dataset-master/images/000009-5.jpg  \n",
            "  inflating: covid-chestxray-dataset-master/images/000009.jpg  \n",
            "  inflating: covid-chestxray-dataset-master/images/000010-2.png  \n",
            "  inflating: covid-chestxray-dataset-master/images/000010-5.jpg  \n",
            "  inflating: covid-chestxray-dataset-master/images/000010.jpg  \n",
            "  inflating: covid-chestxray-dataset-master/images/000011-6.jpg  \n",
            "  inflating: covid-chestxray-dataset-master/images/000012-1.jpg  \n",
            "  inflating: covid-chestxray-dataset-master/images/000012-3.jpg  \n",
            " extracting: covid-chestxray-dataset-master/images/000012.jpg  \n",
            "  inflating: covid-chestxray-dataset-master/images/000013.jpg  \n",
            "  inflating: covid-chestxray-dataset-master/images/000016.jpg  \n",
            "  inflating: covid-chestxray-dataset-master/images/000017-1.jpg  \n",
            "  inflating: covid-chestxray-dataset-master/images/000024-1.jpg  \n",
            "  inflating: covid-chestxray-dataset-master/images/000025-1.jpg  \n",
            "  inflating: covid-chestxray-dataset-master/images/006f3a8a.jpg  \n",
            " extracting: covid-chestxray-dataset-master/images/00870a9c.jpg  \n",
            "  inflating: covid-chestxray-dataset-master/images/01E392EE-69F9-4E33-BFCE-E5C968654078.jpeg  \n",
            "  inflating: covid-chestxray-dataset-master/images/01ec02c48ce0120d57456b2ee2d02f_jumbo.jpeg  \n",
            "  inflating: covid-chestxray-dataset-master/images/02b973e10caa192fd4e6825ad4aeaf_jumbo-10.jpeg  \n",
            "  inflating: covid-chestxray-dataset-master/images/03BF7561-A9BA-4C3C-B8A0-D3E585F73F3C.jpeg  \n",
            "  inflating: covid-chestxray-dataset-master/images/045ffedbd437009cab794d412571b2_jumbo.jpg  \n",
            "  inflating: covid-chestxray-dataset-master/images/071d06607edf81d70c940e043bce34_jumbo.jpeg  \n",
            "  inflating: covid-chestxray-dataset-master/images/072ecaf8c60a81980abb57150a8016_jumbo-9.jpeg  \n",
            "  inflating: covid-chestxray-dataset-master/images/073a8f93.jpg  \n",
            "  inflating: covid-chestxray-dataset-master/images/076d9f1ab85d17bcf0f4f207891974_jumbo.jpg  \n",
            "  inflating: covid-chestxray-dataset-master/images/078d2e0b3e4fec1d603efb0e818c31_jumbo.jpeg  \n",
            " extracting: covid-chestxray-dataset-master/images/08d780ae.jpg  \n",
            "  inflating: covid-chestxray-dataset-master/images/08ed451c576ee00935ee178ec85c57_jumbo-1.jpeg  \n",
            "  inflating: covid-chestxray-dataset-master/images/09258248.jpg  \n",
            "  inflating: covid-chestxray-dataset-master/images/0957ce54.jpg  \n",
            "  inflating: covid-chestxray-dataset-master/images/0a6c60063b4bae4de001caaba306d1_jumbo.jpeg  \n",
            "  inflating: covid-chestxray-dataset-master/images/0a7faa2a.jpg  \n",
            "  inflating: covid-chestxray-dataset-master/images/0ac7580d.jpg  \n",
            "  inflating: covid-chestxray-dataset-master/images/0b1cb8905fd8839a001d7a707f0c3f_jumbo.jpg  \n",
            "  inflating: covid-chestxray-dataset-master/images/0cd9fcb6.jpg  \n",
            " extracting: covid-chestxray-dataset-master/images/0cea09eb.jpg  \n",
            "  inflating: covid-chestxray-dataset-master/images/1-s2.0-S0085253820303616-gr1_lrg-a.png  \n",
            "  inflating: covid-chestxray-dataset-master/images/1-s2.0-S0085253820303616-gr1_lrg-b.png  \n",
            "  inflating: covid-chestxray-dataset-master/images/1-s2.0-S0140673620303706-fx1_lrg.jpg  \n",
            "  inflating: covid-chestxray-dataset-master/images/1-s2.0-S0196070920301691-gr3_lrg.jpg  \n",
            "  inflating: covid-chestxray-dataset-master/images/1-s2.0-S0378603X1500248X-gr2a.jpg  \n",
            "  inflating: covid-chestxray-dataset-master/images/1-s2.0-S0378603X1500248X-gr2b.jpg  \n",
            "  inflating: covid-chestxray-dataset-master/images/1-s2.0-S0378603X1500248X-gr2c.jpg  \n",
            "  inflating: covid-chestxray-dataset-master/images/1-s2.0-S0378603X1500248X-gr2d.jpg  \n",
            "  inflating: covid-chestxray-dataset-master/images/1-s2.0-S0378603X1500248X-gr3a.jpg  \n",
            "  inflating: covid-chestxray-dataset-master/images/1-s2.0-S0378603X1500248X-gr3b.jpg  \n",
            "  inflating: covid-chestxray-dataset-master/images/1-s2.0-S0378603X1500248X-gr3d.jpg  \n",
            "  inflating: covid-chestxray-dataset-master/images/1-s2.0-S0378603X1500248X-gr4a.jpg  \n",
            "  inflating: covid-chestxray-dataset-master/images/1-s2.0-S0378603X1500248X-gr4c.jpg  \n",
            "  inflating: covid-chestxray-dataset-master/images/1-s2.0-S0378603X1500248X-gr4e.jpg  \n",
            "  inflating: covid-chestxray-dataset-master/images/1-s2.0-S0735675720302746-gr1_lrg.jpg  \n",
            "  inflating: covid-chestxray-dataset-master/images/1-s2.0-S0889159120306851-gr2b_lrg.jpg  \n",
            "  inflating: covid-chestxray-dataset-master/images/1-s2.0-S0929664620300449-gr2_lrg-a.jpg  \n",
            "  inflating: covid-chestxray-dataset-master/images/1-s2.0-S0929664620300449-gr2_lrg-b.jpg  \n",
            "  inflating: covid-chestxray-dataset-master/images/1-s2.0-S0929664620300449-gr2_lrg-c.jpg  \n",
            "  inflating: covid-chestxray-dataset-master/images/1-s2.0-S0929664620300449-gr2_lrg-d.jpg  \n",
            "  inflating: covid-chestxray-dataset-master/images/1-s2.0-S0929664620300449-gr3_lrg-a.jpg  \n",
            "  inflating: covid-chestxray-dataset-master/images/1-s2.0-S0929664620300449-gr3_lrg-b.jpg  \n",
            "  inflating: covid-chestxray-dataset-master/images/1-s2.0-S0929664620300449-gr3_lrg-c.jpg  \n",
            "  inflating: covid-chestxray-dataset-master/images/1-s2.0-S0929664620300449-gr3_lrg-d.jpg  \n",
            "  inflating: covid-chestxray-dataset-master/images/1-s2.0-S1059131120301151-gr2-e.png  \n",
            "  inflating: covid-chestxray-dataset-master/images/1-s2.0-S1059131120301151-gr2-f.png  \n",
            "  inflating: covid-chestxray-dataset-master/images/1-s2.0-S1341321X20301124-gr3_lrg-a.png  \n",
            "  inflating: covid-chestxray-dataset-master/images/1-s2.0-S1341321X20301124-gr3_lrg-b.png  \n",
            "  inflating: covid-chestxray-dataset-master/images/1-s2.0-S1341321X20301124-gr3_lrg-c.png  \n",
            "  inflating: covid-chestxray-dataset-master/images/1-s2.0-S1341321X20301124-gr3_lrg-d.png  \n",
            "  inflating: covid-chestxray-dataset-master/images/1-s2.0-S1341321X20301124-gr3_lrg-e.png  \n",
            "  inflating: covid-chestxray-dataset-master/images/1-s2.0-S1521661620303314-gr1_lrg-a.png  \n",
            "  inflating: covid-chestxray-dataset-master/images/1-s2.0-S1521661620303314-gr1_lrg-b.png  \n",
            "  inflating: covid-chestxray-dataset-master/images/1-s2.0-S1684118220300372-gr1_lrg-a.png  \n",
            "  inflating: covid-chestxray-dataset-master/images/1-s2.0-S1684118220300372-gr1_lrg-b.png  \n",
            "  inflating: covid-chestxray-dataset-master/images/1-s2.0-S1684118220300608-main.pdf-001.jpg  \n",
            "  inflating: covid-chestxray-dataset-master/images/1-s2.0-S1684118220300608-main.pdf-002.jpg  \n",
            "  inflating: covid-chestxray-dataset-master/images/1-s2.0-S1684118220300682-main.pdf-002-a1.png  \n",
            "  inflating: covid-chestxray-dataset-master/images/1-s2.0-S1684118220300682-main.pdf-002-a2.png  \n",
            "  inflating: covid-chestxray-dataset-master/images/1-s2.0-S1684118220300682-main.pdf-003-b1.png  \n",
            "  inflating: covid-chestxray-dataset-master/images/1-s2.0-S1684118220300682-main.pdf-003-b2.png  \n",
            "  inflating: covid-chestxray-dataset-master/images/1-s2.0-S1931312820301852-gr1_lrg-a.png  \n",
            "  inflating: covid-chestxray-dataset-master/images/1-s2.0-S1931312820301852-gr1_lrg-b.png  \n",
            "  inflating: covid-chestxray-dataset-master/images/1-s2.0-S1931312820301852-gr1_lrg-c.png  \n",
            "  inflating: covid-chestxray-dataset-master/images/1-s2.0-S2213716520301168-gr1_lrg-a.png  \n",
            "  inflating: covid-chestxray-dataset-master/images/1-s2.0-S2213716520301168-gr1_lrg-b.png  \n",
            "  inflating: covid-chestxray-dataset-master/images/1-s2.0-S2213716520301168-gr1_lrg-c.png  \n",
            "  inflating: covid-chestxray-dataset-master/images/1-s2.0-S2214250920300706-gr1_lrg.jpg  \n",
            "  inflating: covid-chestxray-dataset-master/images/1-s2.0-S2214250920300706-gr2_lrg.jpg  \n",
            "  inflating: covid-chestxray-dataset-master/images/1-s2.0-S2214250920300706-gr5_lrg.jpg  \n",
            "  inflating: covid-chestxray-dataset-master/images/1-s2.0-S2214250920300834-gr1_lrg-b.png  \n",
            "  inflating: covid-chestxray-dataset-master/images/1-s2.0-S2214250920300834-gr1_lrg-c.png  \n",
            "  inflating: covid-chestxray-dataset-master/images/1-s2.0-S2214250920300834-gr1_lrg-d.png  \n",
            "  inflating: covid-chestxray-dataset-master/images/1-s2.0-S2387020620301959-gr3_lrg-a.png  \n",
            "  inflating: covid-chestxray-dataset-master/images/1-s2.0-S2387020620301959-gr4_lrg-a.png  \n",
            "  inflating: covid-chestxray-dataset-master/images/1-s2.0-S2387020620301959-gr4_lrg-b.png  \n",
            "  inflating: covid-chestxray-dataset-master/images/1-s2.0-S2387020620301959-gr4_lrg-c.png  \n",
            "  inflating: covid-chestxray-dataset-master/images/1-s2.0-S2531043720300921-gr1.png  \n",
            "  inflating: covid-chestxray-dataset-master/images/1.CXRCTThoraximagesofCOVID-19fromSingapore.pdf-000-fig1a.png  \n",
            "  inflating: covid-chestxray-dataset-master/images/1.CXRCTThoraximagesofCOVID-19fromSingapore.pdf-000-fig1b.png  \n",
            "  inflating: covid-chestxray-dataset-master/images/1.CXRCTThoraximagesofCOVID-19fromSingapore.pdf-001-fig2a.png  \n",
            "  inflating: covid-chestxray-dataset-master/images/1.CXRCTThoraximagesofCOVID-19fromSingapore.pdf-001-fig2b.png  \n",
            "  inflating: covid-chestxray-dataset-master/images/1.CXRCTThoraximagesofCOVID-19fromSingapore.pdf-002-fig3a.png  \n",
            "  inflating: covid-chestxray-dataset-master/images/1.CXRCTThoraximagesofCOVID-19fromSingapore.pdf-002-fig3b.png  \n",
            "  inflating: covid-chestxray-dataset-master/images/1.CXRCTThoraximagesofCOVID-19fromSingapore.pdf-003-fig4a.png  \n",
            "  inflating: covid-chestxray-dataset-master/images/1.CXRCTThoraximagesofCOVID-19fromSingapore.pdf-003-fig4b.png  \n",
            "  inflating: covid-chestxray-dataset-master/images/10.1016-slash-j.anl.2020.04.002-a.png  \n",
            "  inflating: covid-chestxray-dataset-master/images/10.1016-slash-j.anl.2020.04.002-b.png  \n",
            "  inflating: covid-chestxray-dataset-master/images/10.1016-slash-j.anl.2020.04.002-c.png  \n",
            "  inflating: covid-chestxray-dataset-master/images/10.1016-slash-j.cardfail.2020.04.007-a.png  \n",
            "  inflating: covid-chestxray-dataset-master/images/10.1016-slash-j.cardfail.2020.04.007-b.png  \n",
            "  inflating: covid-chestxray-dataset-master/images/10.1016-slash-j.chest.2020.04.024.png  \n",
            " extracting: covid-chestxray-dataset-master/images/10.1016-slash-j.crad.2020.04.002-a.png  \n",
            " extracting: covid-chestxray-dataset-master/images/10.1016-slash-j.crad.2020.04.002-b.png  \n",
            " extracting: covid-chestxray-dataset-master/images/10.1016-slash-j.healun.2020.04.004.jpg  \n",
            "  inflating: covid-chestxray-dataset-master/images/10.1016-slash-j.hrcr.2020.04.015-a.png  \n",
            "  inflating: covid-chestxray-dataset-master/images/10.1016-slash-j.hrcr.2020.04.015-b.png  \n",
            "  inflating: covid-chestxray-dataset-master/images/10.1016-slash-j.hrcr.2020.04.015-fig3-a.png  \n",
            "  inflating: covid-chestxray-dataset-master/images/10.1016-slash-j.hrcr.2020.04.015-fig3-b.png  \n",
            "  inflating: covid-chestxray-dataset-master/images/10.1016-slash-j.jhin.2020.03.036.png  \n",
            "  inflating: covid-chestxray-dataset-master/images/1052b0fe.jpg  \n",
            "  inflating: covid-chestxray-dataset-master/images/1141cc2b8b9cc394becce5d978b5a7_jumbo.jpeg  \n",
            "  inflating: covid-chestxray-dataset-master/images/11547_2020_1200_Fig2_HTML-a.png  \n",
            "  inflating: covid-chestxray-dataset-master/images/11547_2020_1200_Fig2_HTML-b.png  \n",
            "  inflating: covid-chestxray-dataset-master/images/11547_2020_1200_Fig3_HTML-a.png  \n",
            "  inflating: covid-chestxray-dataset-master/images/11547_2020_1200_Fig3_HTML-b.png  \n",
            "  inflating: covid-chestxray-dataset-master/images/11547_2020_1200_Fig3_HTML-c.png  \n",
            "  inflating: covid-chestxray-dataset-master/images/11547_2020_1202_Fig1_HTML-a.png  \n",
            "  inflating: covid-chestxray-dataset-master/images/11547_2020_1202_Fig1_HTML-b.png  \n",
            "  inflating: covid-chestxray-dataset-master/images/11547_2020_1203_Fig1_HTML-a.png  \n",
            "  inflating: covid-chestxray-dataset-master/images/11547_2020_1203_Fig1_HTML-b.png  \n",
            "  inflating: covid-chestxray-dataset-master/images/11547_2020_1203_Fig1_HTML-c.png  \n",
            "  inflating: covid-chestxray-dataset-master/images/11547_2020_1203_Fig1_HTML-d.png  \n",
            "  inflating: covid-chestxray-dataset-master/images/11547_2020_1203_Fig2_HTML-a.png  \n",
            "  inflating: covid-chestxray-dataset-master/images/11547_2020_1203_Fig2_HTML-b.png  \n",
            "  inflating: covid-chestxray-dataset-master/images/11547_2020_1203_Fig2_HTML-c.png  \n",
            "  inflating: covid-chestxray-dataset-master/images/11547_2020_1203_Fig2_HTML-d.png  \n",
            "  inflating: covid-chestxray-dataset-master/images/12941_2020_358_Fig1_HTML.jpg  \n",
            "  inflating: covid-chestxray-dataset-master/images/1312A392-67A3-4EBF-9319-810CF6DA5EF6.jpeg  \n",
            "  inflating: covid-chestxray-dataset-master/images/13cd850b02d1afe48c113a73eed882_jumbo-1.jpg  \n",
            "  inflating: covid-chestxray-dataset-master/images/14d81f378173b86cc53f21d2d67040_jumbo.jpeg  \n",
            "  inflating: covid-chestxray-dataset-master/images/1538fbfe9d0872739b00f5a51e4fdc_jumbo.jpeg  \n",
            " extracting: covid-chestxray-dataset-master/images/15d081345df9ca620ebe5e76023775_jumbo-10.jpeg  \n",
            " extracting: covid-chestxray-dataset-master/images/15d945b8.jpg  \n",
            "  inflating: covid-chestxray-dataset-master/images/16497_1_1.png  \n",
            "  inflating: covid-chestxray-dataset-master/images/16583_1_1.jpg  \n",
            "  inflating: covid-chestxray-dataset-master/images/16583_3_1.jpg  \n",
            "  inflating: covid-chestxray-dataset-master/images/16630_1_1.jpg  \n",
            "  inflating: covid-chestxray-dataset-master/images/16630_2_1.jpg  \n",
            "  inflating: covid-chestxray-dataset-master/images/16630_2_2.jpg  \n",
            "  inflating: covid-chestxray-dataset-master/images/16630_3_1.jpg  \n",
            "  inflating: covid-chestxray-dataset-master/images/16630_4_1.jpg  \n",
            "  inflating: covid-chestxray-dataset-master/images/16630_5_1.jpg  \n",
            "  inflating: covid-chestxray-dataset-master/images/16630_6_1.jpg  \n",
            "  inflating: covid-chestxray-dataset-master/images/16631_1_1.jpg  \n",
            "  inflating: covid-chestxray-dataset-master/images/16631_1_2.jpg  \n",
            "  inflating: covid-chestxray-dataset-master/images/16631_1_3.jpg  \n",
            "  inflating: covid-chestxray-dataset-master/images/16631_1_4.jpg  \n",
            " extracting: covid-chestxray-dataset-master/images/1663b242.jpg  \n",
            "  inflating: covid-chestxray-dataset-master/images/16646_1_1.jpg  \n",
            "  inflating: covid-chestxray-dataset-master/images/16646_1_2.jpg  \n",
            "  inflating: covid-chestxray-dataset-master/images/16654_1_1.png  \n",
            "  inflating: covid-chestxray-dataset-master/images/16654_2_1.jpg  \n",
            "  inflating: covid-chestxray-dataset-master/images/16654_4_1.jpg  \n",
            "  inflating: covid-chestxray-dataset-master/images/16660_1_1.jpg  \n",
            "  inflating: covid-chestxray-dataset-master/images/16660_2_1.jpg  \n",
            "  inflating: covid-chestxray-dataset-master/images/16660_3_1.jpg  \n",
            "  inflating: covid-chestxray-dataset-master/images/16660_4_1.jpg  \n",
            "  inflating: covid-chestxray-dataset-master/images/16660_5_1.jpg  \n",
            "  inflating: covid-chestxray-dataset-master/images/16663_1_1.jpg  \n",
            "  inflating: covid-chestxray-dataset-master/images/16663_1_2.jpg  \n",
            "  inflating: covid-chestxray-dataset-master/images/16664_1_1.jpg  \n",
            "  inflating: covid-chestxray-dataset-master/images/16664_2_1.jpg  \n",
            "  inflating: covid-chestxray-dataset-master/images/16669_1_1.jpeg  \n",
            "  inflating: covid-chestxray-dataset-master/images/16669_3_1.jpeg  \n",
            "  inflating: covid-chestxray-dataset-master/images/16672_1_1.jpg  \n",
            "  inflating: covid-chestxray-dataset-master/images/16673_2_1.jpg  \n",
            "  inflating: covid-chestxray-dataset-master/images/16674_1_1.jpg  \n",
            "  inflating: covid-chestxray-dataset-master/images/16689_1_1.jpg  \n",
            "  inflating: covid-chestxray-dataset-master/images/16689_1_2.png  \n",
            "  inflating: covid-chestxray-dataset-master/images/16689_1_5.png  \n",
            "  inflating: covid-chestxray-dataset-master/images/16689_1_6.jpg  \n",
            "  inflating: covid-chestxray-dataset-master/images/16689_2_1.png  \n",
            "  inflating: covid-chestxray-dataset-master/images/16689_2_2.png  \n",
            "  inflating: covid-chestxray-dataset-master/images/16689_2_4.png  \n",
            "  inflating: covid-chestxray-dataset-master/images/16691_1_1.jpg  \n",
            "  inflating: covid-chestxray-dataset-master/images/16706_1_1.png  \n",
            "  inflating: covid-chestxray-dataset-master/images/16708_1_1.jpg  \n",
            "  inflating: covid-chestxray-dataset-master/images/16708_4_1.jpg  \n",
            "  inflating: covid-chestxray-dataset-master/images/16708_5_1.jpg  \n",
            "  inflating: covid-chestxray-dataset-master/images/16724_1_1.jpg  \n",
            "  inflating: covid-chestxray-dataset-master/images/16744_1_1.jpg  \n",
            "  inflating: covid-chestxray-dataset-master/images/16744_2_1.jpg  \n",
            "  inflating: covid-chestxray-dataset-master/images/16744_2_2.jpg  \n",
            "  inflating: covid-chestxray-dataset-master/images/16744_2_3.jpg  \n",
            "  inflating: covid-chestxray-dataset-master/images/16744_2_4.jpg  \n",
            "  inflating: covid-chestxray-dataset-master/images/16745_2_1.PNG  \n",
            "  inflating: covid-chestxray-dataset-master/images/16745_2_2.PNG  \n",
            "  inflating: covid-chestxray-dataset-master/images/16745_2_3.PNG  \n",
            "  inflating: covid-chestxray-dataset-master/images/16745_3_1.png  \n",
            "  inflating: covid-chestxray-dataset-master/images/16745_3_2.png  \n",
            "  inflating: covid-chestxray-dataset-master/images/16745_4_1.png  \n",
            "  inflating: covid-chestxray-dataset-master/images/16745_4_2.png  \n",
            "  inflating: covid-chestxray-dataset-master/images/16745_4_3.png  \n",
            "  inflating: covid-chestxray-dataset-master/images/16745_5_1.png  \n",
            "  inflating: covid-chestxray-dataset-master/images/16745_5_2.png  \n",
            "  inflating: covid-chestxray-dataset-master/images/16745_5_3.png  \n",
            "  inflating: covid-chestxray-dataset-master/images/16745_6_1.png  \n",
            "  inflating: covid-chestxray-dataset-master/images/16745_6_2.png  \n",
            "  inflating: covid-chestxray-dataset-master/images/16745_6_3.png  \n",
            "  inflating: covid-chestxray-dataset-master/images/16745_7_1.png  \n",
            "  inflating: covid-chestxray-dataset-master/images/16745_7_2.png  \n",
            "  inflating: covid-chestxray-dataset-master/images/16745_7_3.png  \n",
            "  inflating: covid-chestxray-dataset-master/images/16745_7_4.png  \n",
            "  inflating: covid-chestxray-dataset-master/images/16745_7_5.PNG  \n",
            "  inflating: covid-chestxray-dataset-master/images/16747_1_1.jpg  \n",
            "  inflating: covid-chestxray-dataset-master/images/16747_2_1.jpg  \n",
            "  inflating: covid-chestxray-dataset-master/images/16747_3_1.jpg  \n",
            "  inflating: covid-chestxray-dataset-master/images/16751_2_1.jpg  \n",
            "  inflating: covid-chestxray-dataset-master/images/16751_2_2.jpg  \n",
            "  inflating: covid-chestxray-dataset-master/images/16751_3_1.jpg  \n",
            "  inflating: covid-chestxray-dataset-master/images/16751_3_2.jpg  \n",
            "  inflating: covid-chestxray-dataset-master/images/16751_3_3.jpg  \n",
            "  inflating: covid-chestxray-dataset-master/images/16755_1_1.jpg  \n",
            "  inflating: covid-chestxray-dataset-master/images/16755_3_1.jpg  \n",
            "  inflating: covid-chestxray-dataset-master/images/16858_1_1.png  \n",
            "  inflating: covid-chestxray-dataset-master/images/16858_3_1.png  \n",
            "  inflating: covid-chestxray-dataset-master/images/16865_1_1.jpg  \n",
            "  inflating: covid-chestxray-dataset-master/images/16865_1_2.jpg  \n",
            "  inflating: covid-chestxray-dataset-master/images/16883_1_1.png  \n",
            "  inflating: covid-chestxray-dataset-master/images/16892_2_1.png  \n",
            "  inflating: covid-chestxray-dataset-master/images/16953_1_1.jpg  \n",
            "  inflating: covid-chestxray-dataset-master/images/16953_3_1.jpg  \n",
            "  inflating: covid-chestxray-dataset-master/images/16953_4_1.jpg  \n",
            "  inflating: covid-chestxray-dataset-master/images/16953_5_1.jpg  \n",
            "  inflating: covid-chestxray-dataset-master/images/171CB377-62FF-4B76-906C-F3787A01CB2E.jpeg  \n",
            "  inflating: covid-chestxray-dataset-master/images/18017511.jpg  \n",
            "  inflating: covid-chestxray-dataset-master/images/180e8fe6c27840acf913013a23328a_jumbo.jpeg  \n",
            "  inflating: covid-chestxray-dataset-master/images/183af0d0.jpg  \n",
            " extracting: covid-chestxray-dataset-master/images/1880e301.jpg  \n",
            " extracting: covid-chestxray-dataset-master/images/19073f37.jpg  \n",
            "  inflating: covid-chestxray-dataset-master/images/191F3B3A-2879-4EF3-BE56-EE0D2B5AAEE3.jpeg  \n",
            "  inflating: covid-chestxray-dataset-master/images/1936394ff48c23fd353a83c5abb0ac_jumbo.jpeg  \n",
            "  inflating: covid-chestxray-dataset-master/images/19876b357ac5c998a06d9614b6148a_jumbo.jpeg  \n",
            "  inflating: covid-chestxray-dataset-master/images/19a01707.jpg  \n",
            "  inflating: covid-chestxray-dataset-master/images/19abe1f3.jpg  \n",
            "  inflating: covid-chestxray-dataset-master/images/1B734A89-A1BF-49A8-A1D3-66FAFA4FAC5D.jpeg  \n",
            "  inflating: covid-chestxray-dataset-master/images/1F6343EE-AFEC-4B7D-97F5-62797EE18767.jpeg  \n",
            "  inflating: covid-chestxray-dataset-master/images/1ae7877e.jpg  \n",
            "  inflating: covid-chestxray-dataset-master/images/1d40779e.jpg  \n",
            " extracting: covid-chestxray-dataset-master/images/1d435a4b.jpg  \n",
            "  inflating: covid-chestxray-dataset-master/images/1d6c4b7c.jpg  \n",
            "  inflating: covid-chestxray-dataset-master/images/1e33b16c.jpg  \n",
            " extracting: covid-chestxray-dataset-master/images/1e534853.jpg  \n",
            "  inflating: covid-chestxray-dataset-master/images/1e64990d1b40c1758a2aaa9c7f7a85_jumbo.jpeg  \n",
            " extracting: covid-chestxray-dataset-master/images/1f8a4a54.jpg  \n",
            "  inflating: covid-chestxray-dataset-master/images/2-chest-filmc.jpg  \n",
            "  inflating: covid-chestxray-dataset-master/images/2086b9e1.jpg  \n",
            "  inflating: covid-chestxray-dataset-master/images/2168a917.jpg  \n",
            "  inflating: covid-chestxray-dataset-master/images/21982772.jpg  \n",
            "  inflating: covid-chestxray-dataset-master/images/21DDEBFD-7F16-4E3E-8F90-CB1B8EE82828.jpeg  \n",
            "  inflating: covid-chestxray-dataset-master/images/21f0cfca1c3d5d11e9eb8f6c670f73_jumbo.jpg  \n",
            "  inflating: covid-chestxray-dataset-master/images/2264f643b18b1010ec10a850f17550_jumbo.jpeg  \n",
            "  inflating: covid-chestxray-dataset-master/images/22ebbc464e16ea1217228e3c9f4935_jumbo.jpeg  \n",
            "  inflating: covid-chestxray-dataset-master/images/23823ebc.jpg  \n",
            "  inflating: covid-chestxray-dataset-master/images/23E99E2E-447C-46E5-8EB2-D35D12473C39.png  \n",
            " extracting: covid-chestxray-dataset-master/images/24035bda.jpg  \n",
            " extracting: covid-chestxray-dataset-master/images/242a639e.jpg  \n",
            " extracting: covid-chestxray-dataset-master/images/24de8686.jpg  \n",
            "  inflating: covid-chestxray-dataset-master/images/254B82FC-817D-4E2F-AB6E-1351341F0E38.jpeg  \n",
            " extracting: covid-chestxray-dataset-master/images/262a70ca.jpg  \n",
            "  inflating: covid-chestxray-dataset-master/images/26b79d0d.jpg  \n",
            "  inflating: covid-chestxray-dataset-master/images/26e8db49.jpg  \n",
            "  inflating: covid-chestxray-dataset-master/images/26eecee1e498237cc3ea3274b79ff0_jumbo.jpg  \n",
            "  inflating: covid-chestxray-dataset-master/images/270_2020_2470_Fig1_HTML-a.png  \n",
            "  inflating: covid-chestxray-dataset-master/images/270_2020_2470_Fig1_HTML-b.png  \n",
            "  inflating: covid-chestxray-dataset-master/images/27a70642.jpg  \n",
            "  inflating: covid-chestxray-dataset-master/images/27f5a41d.jpg  \n",
            "  inflating: covid-chestxray-dataset-master/images/2833d6b457f9dbf13b3625b174a135_jumbo.jpeg  \n",
            "  inflating: covid-chestxray-dataset-master/images/2966893D-5DDF-4B68-9E2B-4979D5956C8E.jpeg  \n",
            "  inflating: covid-chestxray-dataset-master/images/296_2020_4584_Fig2_HTML-a.png  \n",
            "  inflating: covid-chestxray-dataset-master/images/296_2020_4584_Fig2_HTML-b.png  \n",
            "  inflating: covid-chestxray-dataset-master/images/296_2020_4584_Fig2_HTML-c.png  \n",
            "  inflating: covid-chestxray-dataset-master/images/2B8649B2-00C4-4233-85D5-1CE240CF233B.jpeg  \n",
            "  inflating: covid-chestxray-dataset-master/images/2C10A413-AABE-4807-8CCE-6A2025594067.jpeg  \n",
            "  inflating: covid-chestxray-dataset-master/images/2C26F453-AF3B-4517-BB9E-802CF2179543.jpeg  \n",
            "  inflating: covid-chestxray-dataset-master/images/2b4425e4afe32fa5e047fcac58f8e9_jumbo.jpeg  \n",
            "  inflating: covid-chestxray-dataset-master/images/2c35005f.jpg  \n",
            " extracting: covid-chestxray-dataset-master/images/2cd63b76.jpg  \n",
            "  inflating: covid-chestxray-dataset-master/images/2d8a60a26381b256a5a6373708950e_jumbo.jpeg  \n",
            "  inflating: covid-chestxray-dataset-master/images/2eadbbb367a0366d8c34350d083a83_jumbo.jpeg  \n",
            " extracting: covid-chestxray-dataset-master/images/2ecd360d.jpg  \n",
            "  inflating: covid-chestxray-dataset-master/images/2edb88df42cab5e5fbc18b3965e0bd_jumbo.jpeg  \n",
            "  inflating: covid-chestxray-dataset-master/images/2fc8a7c61c76f13ee7f9306b44e792_jumbo.jpg  \n",
            "  inflating: covid-chestxray-dataset-master/images/2fdd55b8.jpg  \n",
            "  inflating: covid-chestxray-dataset-master/images/31BA3780-2323-493F-8AED-62081B9C383B.jpeg  \n",
            " extracting: covid-chestxray-dataset-master/images/3248cc61.jpg  \n",
            "  inflating: covid-chestxray-dataset-master/images/3309d07c.jpg  \n",
            " extracting: covid-chestxray-dataset-master/images/333932bd.jpg  \n",
            "  inflating: covid-chestxray-dataset-master/images/3392dc7d262e28423caca517f98c2e_jumbo.jpeg  \n",
            "  inflating: covid-chestxray-dataset-master/images/33ad0dcb.jpg  \n",
            "  inflating: covid-chestxray-dataset-master/images/341e2287.jpg  \n",
            "  inflating: covid-chestxray-dataset-master/images/34d999a9.jpg  \n",
            "  inflating: covid-chestxray-dataset-master/images/353889E0-A1E8-4F9E-A0B8-F24F36BCFBFB.jpeg  \n",
            "  inflating: covid-chestxray-dataset-master/images/35AF5C3B-D04D-4B4B-92B7-CB1F67D83085.jpeg  \n",
            " extracting: covid-chestxray-dataset-master/images/35b446ce.jpg  \n",
            "  inflating: covid-chestxray-dataset-master/images/3964b961.jpg  \n",
            "  inflating: covid-chestxray-dataset-master/images/396A81A5-982C-44E9-A57E-9B1DC34E2C08.jpeg  \n",
            "  inflating: covid-chestxray-dataset-master/images/39EE8E69-5801-48DE-B6E3-BE7D1BCF3092.jpeg  \n",
            "  inflating: covid-chestxray-dataset-master/images/3ED3C0E1-4FE0-4238-8112-DDFF9E20B471.jpeg  \n",
            "  inflating: covid-chestxray-dataset-master/images/3a81faf3.jpg  \n",
            "  inflating: covid-chestxray-dataset-master/images/3b46de94.jpg  \n",
            "  inflating: covid-chestxray-dataset-master/images/3b66f98f30636b2e1fb42c1d0f18a8_jumbo.jpeg  \n",
            "  inflating: covid-chestxray-dataset-master/images/3c48faa5dc2f1540fda696bae045ba_jumbo.jpeg  \n",
            "  inflating: covid-chestxray-dataset-master/images/3d4364c0e44859e86017ee1660112e_jumbo-1.jpeg  \n",
            " extracting: covid-chestxray-dataset-master/images/3dedeb92.jpg  \n",
            "  inflating: covid-chestxray-dataset-master/images/3e9d9c9b02b9bcd81c851134667e76_jumbo.jpg  \n",
            "  inflating: covid-chestxray-dataset-master/images/3eaf15de91d4ff55e6fb0e04cadb81_jumbo.jpeg  \n",
            " extracting: covid-chestxray-dataset-master/images/3fd337c1.jpg  \n",
            "  inflating: covid-chestxray-dataset-master/images/40779_2020_233_Fig2_HTML-a.png  \n",
            "  inflating: covid-chestxray-dataset-master/images/40f355ec.jpg  \n",
            " extracting: covid-chestxray-dataset-master/images/40f67745.jpg  \n",
            "  inflating: covid-chestxray-dataset-master/images/41182_2020_203_Fig3_HTML.jpg  \n",
            "  inflating: covid-chestxray-dataset-master/images/41182_2020_203_Fig4_HTML.jpg  \n",
            "  inflating: covid-chestxray-dataset-master/images/41182_2020_203_Fig5_HTML.jpg  \n",
            "  inflating: covid-chestxray-dataset-master/images/41379_2020_536_Fig2_HTML-c1.png  \n",
            "  inflating: covid-chestxray-dataset-master/images/41379_2020_536_Fig2_HTML-c2.png  \n",
            "  inflating: covid-chestxray-dataset-master/images/41591_2020_819_Fig1_HTML.webp-day10.png  \n",
            "  inflating: covid-chestxray-dataset-master/images/41591_2020_819_Fig1_HTML.webp-day5.png  \n",
            "  inflating: covid-chestxray-dataset-master/images/430f21e7.jpg  \n",
            "  inflating: covid-chestxray-dataset-master/images/436a6348.jpg  \n",
            "  inflating: covid-chestxray-dataset-master/images/441c9cdd.jpg  \n",
            "  inflating: covid-chestxray-dataset-master/images/446B2CB6-B572-40AB-B01F-1910CA07086A.jpeg  \n",
            "  inflating: covid-chestxray-dataset-master/images/447d65b38231a1031586b304bc5837_jumbo.jpeg  \n",
            "  inflating: covid-chestxray-dataset-master/images/44C8E3D6-20DA-42E9-B33B-96FA6D6DE12F.jpeg  \n",
            " extracting: covid-chestxray-dataset-master/images/483f2ad8.jpg  \n",
            "  inflating: covid-chestxray-dataset-master/images/487354e56da5b0363458d0297446f0_jumbo-1.jpeg  \n",
            "  inflating: covid-chestxray-dataset-master/images/48c4542c.jpg  \n",
            "  inflating: covid-chestxray-dataset-master/images/49eca411aa2d4ccd73df21a209a551_jumbo.jpeg  \n",
            "  inflating: covid-chestxray-dataset-master/images/4C4DEFD8-F55D-4588-AAD6-C59017F55966.jpeg  \n",
            " extracting: covid-chestxray-dataset-master/images/4ad30bc6-2da0-4f84-bc9b-62acabfd518a.annot.original.png  \n",
            "  inflating: covid-chestxray-dataset-master/images/4b907d01.jpg  \n",
            " extracting: covid-chestxray-dataset-master/images/4c0fcf57.jpg  \n",
            "  inflating: covid-chestxray-dataset-master/images/4c8dee3d9fe81567b98ed1b0b2b4c6_jumbo.JPG  \n",
            " extracting: covid-chestxray-dataset-master/images/4cb2f877226f5e02b3064e1e52075f_jumbo.jpeg  \n",
            "  inflating: covid-chestxray-dataset-master/images/4d98e1de.jpg  \n",
            "  inflating: covid-chestxray-dataset-master/images/4e1dc09c3abe03a3efb72d494ddb6f_jumbo-2.jpeg  \n",
            "  inflating: covid-chestxray-dataset-master/images/4e43e48d52c9e2d4c6c1fb9bc1544f_jumbo.jpeg  \n",
            " extracting: covid-chestxray-dataset-master/images/4e74cbafeab0bfd317a93e1aace6cf_jumbo.jpg  \n",
            " extracting: covid-chestxray-dataset-master/images/4fcafe41.jpg  \n",
            " extracting: covid-chestxray-dataset-master/images/4fed5061.jpg  \n",
            "  inflating: covid-chestxray-dataset-master/images/503d2fbe68cd143b0f15749b4f816b_jumbo.jpeg  \n",
            "  inflating: covid-chestxray-dataset-master/images/5083A6B7-8983-472E-A427-570A3E03DDEE.jpeg  \n",
            "  inflating: covid-chestxray-dataset-master/images/50e51fcefaa760d0757eeae6eb0858_jumbo.jpeg  \n",
            "  inflating: covid-chestxray-dataset-master/images/527321ee.jpg  \n",
            "  inflating: covid-chestxray-dataset-master/images/52a8b6bf730b648d37b37d2aa51fd3_jumbo-1.jpg  \n",
            "  inflating: covid-chestxray-dataset-master/images/5359825d.jpg  \n",
            "  inflating: covid-chestxray-dataset-master/images/53EC07C9-5CC6-4BE4-9B6F-D7B0D72AAA7E.jpeg  \n",
            " extracting: covid-chestxray-dataset-master/images/53c9be49.jpg  \n",
            "  inflating: covid-chestxray-dataset-master/images/54d57e77.jpg  \n",
            "  inflating: covid-chestxray-dataset-master/images/556e19b9d38e2199dfa8722ddff25f_jumbo.jpeg  \n",
            "  inflating: covid-chestxray-dataset-master/images/55f5189d2c23688ac8dc1d58eb65cf_jumbo.jpg  \n",
            "  inflating: covid-chestxray-dataset-master/images/56bc74129531580d3c40b1f8ae77ab_jumbo.jpeg  \n",
            "  inflating: covid-chestxray-dataset-master/images/5782ae15.jpg  \n",
            "  inflating: covid-chestxray-dataset-master/images/582f068ae16494e015cf2b2ed90388_jumbo-1.jpeg  \n",
            "  inflating: covid-chestxray-dataset-master/images/587e7c1a.jpg  \n",
            "  inflating: covid-chestxray-dataset-master/images/58cb9263f16e94305c730685358e4e_jumbo.jpeg  \n",
            "  inflating: covid-chestxray-dataset-master/images/5931B64A-7B97-485D-BE60-3F1EA76BC4F0.jpeg  \n",
            "  inflating: covid-chestxray-dataset-master/images/5A78BCA9-5B7A-440D-8A4E-AE7710EA6EAD.jpeg  \n",
            "  inflating: covid-chestxray-dataset-master/images/5CBC2E94-D358-401E-8928-965CCD965C5C.jpeg  \n",
            " extracting: covid-chestxray-dataset-master/images/5acb8ac5.jpg  \n",
            "  inflating: covid-chestxray-dataset-master/images/5b324cc7.jpg  \n",
            "  inflating: covid-chestxray-dataset-master/images/5e6dd879fde9502400e58b2f.jpeg  \n",
            "  inflating: covid-chestxray-dataset-master/images/5ed7d0109672bdd3d58a7db7841f6a_jumbo.jpeg  \n",
            "  inflating: covid-chestxray-dataset-master/images/5f001e0b.jpg  \n",
            "  inflating: covid-chestxray-dataset-master/images/5f619d7e.jpg  \n",
            "  inflating: covid-chestxray-dataset-master/images/5f8aaa4e85af075412849ebf8ebb54_jumbo-1.jpg  \n",
            "  inflating: covid-chestxray-dataset-master/images/616f829f195d0cd856616586c7c35e_jumbo.jpeg  \n",
            " extracting: covid-chestxray-dataset-master/images/61bc50d1.jpg  \n",
            "  inflating: covid-chestxray-dataset-master/images/621f53af15cf08e6e13cb6812eead9_jumbo.jpg  \n",
            "  inflating: covid-chestxray-dataset-master/images/65a95c1d86c9a79e3bf88d654c517c_jumbo.jpg  \n",
            "  inflating: covid-chestxray-dataset-master/images/66298CBF-6F10-42D5-A688-741F6AC84A76.jpeg  \n",
            " extracting: covid-chestxray-dataset-master/images/6646071b.jpg  \n",
            "  inflating: covid-chestxray-dataset-master/images/665f7ed5dcf52f235d8abed8cc200c_jumbo.jpeg  \n",
            "  inflating: covid-chestxray-dataset-master/images/6770dac454c45c86bc6c2d6193b177_jumbo.jpeg  \n",
            "  inflating: covid-chestxray-dataset-master/images/67d668e570c242404ba82c7cbe2ca8f2-0015-0.jpg  \n",
            "  inflating: covid-chestxray-dataset-master/images/67d668e570c242404ba82c7cbe2ca8f2-05be-0.jpg  \n",
            "  inflating: covid-chestxray-dataset-master/images/689836b5.jpg  \n",
            "  inflating: covid-chestxray-dataset-master/images/68_2020_1364_Fig1_HTML-a.png  \n",
            "  inflating: covid-chestxray-dataset-master/images/68_2020_1364_Fig1_HTML-b.png  \n",
            "  inflating: covid-chestxray-dataset-master/images/68_2020_1364_Fig1_HTML-c.png  \n",
            "  inflating: covid-chestxray-dataset-master/images/6A7D4110-2BFC-4D9A-A2D6-E9226D91D25A.jpeg  \n",
            "  inflating: covid-chestxray-dataset-master/images/6C94A287-C059-46A0-8600-AFB95F4727B7.jpeg  \n",
            "  inflating: covid-chestxray-dataset-master/images/6CB4EFC6-68FA-4CD5-940C-BEFA8DAFE9A7.jpeg  \n",
            "  inflating: covid-chestxray-dataset-master/images/6b3bdbc31f65230b8cdcc3cef5f8ba8a-40ac-0.jpg  \n",
            "  inflating: covid-chestxray-dataset-master/images/6b44464d-73a7-4cf3-bbb6-ffe7168300e3.annot.original.jpeg  \n",
            "  inflating: covid-chestxray-dataset-master/images/6f36c4ad54047bc52b38fd8c9d1e22_jumbo.jpg  \n",
            "  inflating: covid-chestxray-dataset-master/images/6ffc98957c18d4e3f2da8da48105e3_jumbo.jpg  \n",
            "  inflating: covid-chestxray-dataset-master/images/7-fatal-covid19.jpg  \n",
            "  inflating: covid-chestxray-dataset-master/images/701_2020_4374_Fig2_HTML.png  \n",
            "  inflating: covid-chestxray-dataset-master/images/7185bd4a8cc3280902117d034c7653_jumbo.jpg  \n",
            "  inflating: covid-chestxray-dataset-master/images/71b364138ea4986831b3778081cd2e_jumbo.jpeg  \n",
            "  inflating: covid-chestxray-dataset-master/images/7223b8ad031187d9a142d7f7ca02c9_jumbo.jpeg  \n",
            "  inflating: covid-chestxray-dataset-master/images/75fb7cd80d5ca4074c474f93471ad4_jumbo.jpeg  \n",
            "  inflating: covid-chestxray-dataset-master/images/76093afc.jpg  \n",
            "  inflating: covid-chestxray-dataset-master/images/7867b1aa2d1241045c917f07a9e683_jumbo.jpeg  \n",
            " extracting: covid-chestxray-dataset-master/images/78af4c1d.jpg  \n",
            "  inflating: covid-chestxray-dataset-master/images/78b60346d1b3bce85353b6dc462d75_jumbo.jpeg  \n",
            "  inflating: covid-chestxray-dataset-master/images/7940dea2.jpg  \n",
            "  inflating: covid-chestxray-dataset-master/images/7AF6C1AF-D249-4BD2-8C26-449304105D03.jpeg  \n",
            "  inflating: covid-chestxray-dataset-master/images/7C69C012-7479-493F-8722-ABC29C60A2DD.jpeg  \n",
            "  inflating: covid-chestxray-dataset-master/images/7D2CF6CE-F529-4470-8356-D33FFAF98600.jpeg  \n",
            "  inflating: covid-chestxray-dataset-master/images/7E335538-2F86-424E-A0AB-6397783A38D0.jpeg  \n",
            "  inflating: covid-chestxray-dataset-master/images/7EF28E12-F628-4BEC-A8C5-E6277C2E4F60.png  \n",
            "  inflating: covid-chestxray-dataset-master/images/7a7044c64a87936f09fee9a7f5c5fa_jumbo.jpeg  \n",
            "  inflating: covid-chestxray-dataset-master/images/7a9ec606.jpg  \n",
            "  inflating: covid-chestxray-dataset-master/images/7afaaccc.jpg  \n",
            "  inflating: covid-chestxray-dataset-master/images/7b68340a.jpg  \n",
            "  inflating: covid-chestxray-dataset-master/images/800f798a58d0cbcc72eb234f192461_jumbo.jpeg  \n",
            "  inflating: covid-chestxray-dataset-master/images/80446565-E090-4187-A031-9D3CEAA586C8.jpeg  \n",
            "  inflating: covid-chestxray-dataset-master/images/80b5f00f.jpg  \n",
            "  inflating: covid-chestxray-dataset-master/images/81af553601a1bc1fdf81c99436a50b_jumbo.jpeg  \n",
            "  inflating: covid-chestxray-dataset-master/images/82a78c13.jpg  \n",
            "  inflating: covid-chestxray-dataset-master/images/82cb30b7678c6da229c6dc222c39c9_jumbo.jpeg  \n",
            "  inflating: covid-chestxray-dataset-master/images/83cfee622ebe92fd5c14ce5b4da35e_jumbo.jpeg  \n",
            "  inflating: covid-chestxray-dataset-master/images/84da526d0453b9b9e7896631e6b366_jumbo.jpeg  \n",
            "  inflating: covid-chestxray-dataset-master/images/85540916.jpg  \n",
            "  inflating: covid-chestxray-dataset-master/images/85E52EB3-56E9-4D67-82DA-DEA247C82886.jpeg  \n",
            " extracting: covid-chestxray-dataset-master/images/865336ed.jpg  \n",
            " extracting: covid-chestxray-dataset-master/images/86d19bba.jpg  \n",
            "  inflating: covid-chestxray-dataset-master/images/86ee6e6c.jpg  \n",
            "  inflating: covid-chestxray-dataset-master/images/8781ac6b9589f3646d2bbfff8f9015_jumbo.jpeg  \n",
            " extracting: covid-chestxray-dataset-master/images/87d50e40.jpg  \n",
            "  inflating: covid-chestxray-dataset-master/images/882fd7ec99b523aead995d78f3129f_jumbo.jpeg  \n",
            " extracting: covid-chestxray-dataset-master/images/887db78f.jpg  \n",
            " extracting: covid-chestxray-dataset-master/images/88859dc1.jpg  \n",
            "  inflating: covid-chestxray-dataset-master/images/88de9d8c39e946abd495b37cd07d89e5-0666-0.jpg  \n",
            "  inflating: covid-chestxray-dataset-master/images/88de9d8c39e946abd495b37cd07d89e5-2ee6-0.jpg  \n",
            "  inflating: covid-chestxray-dataset-master/images/88de9d8c39e946abd495b37cd07d89e5-6531-0.jpg  \n",
            "  inflating: covid-chestxray-dataset-master/images/8FDE8DBA-CFBD-4B4C-B1A4-6F36A93B7E87.jpeg  \n",
            "  inflating: covid-chestxray-dataset-master/images/8b7aeaa2063bf9a12ed6b79c173f4e_jumbo.jpeg  \n",
            "  inflating: covid-chestxray-dataset-master/images/8da14fff.jpg  \n",
            "  inflating: covid-chestxray-dataset-master/images/8eda8be6369c87e0899f6d1642e97b_jumbo.jpeg  \n",
            "  inflating: covid-chestxray-dataset-master/images/8f46c8ad3d40a93b4a313f15092e1d_jumbo.jpeg  \n",
            "  inflating: covid-chestxray-dataset-master/images/8fc103ca.jpg  \n",
            " extracting: covid-chestxray-dataset-master/images/90070cbc.jpg  \n",
            "  inflating: covid-chestxray-dataset-master/images/90986ce4.jpg  \n",
            "  inflating: covid-chestxray-dataset-master/images/90c1e3ef.jpg  \n",
            "  inflating: covid-chestxray-dataset-master/images/925446AE-B3C7-4C93-941B-AC4D2FE1F455.jpeg  \n",
            "  inflating: covid-chestxray-dataset-master/images/92d755fba55c3305419b5cac83fbf5_jumbo.jpg  \n",
            "  inflating: covid-chestxray-dataset-master/images/93FE0BB1-022D-4F24-9727-987A07975FFB.jpeg  \n",
            "  inflating: covid-chestxray-dataset-master/images/946b48f8564d681eb8950ea8a659e0_jumbo-1.jpeg  \n",
            "  inflating: covid-chestxray-dataset-master/images/94c6945194a265ae1301bec234a7e0_jumbo-1.jpg  \n",
            "  inflating: covid-chestxray-dataset-master/images/959dea122c905d6581f71b4a000bbb_jumbo-2.jpeg  \n",
            "  inflating: covid-chestxray-dataset-master/images/981f82325fcc645a78a1732ab783f1_jumbo.jpeg  \n",
            " extracting: covid-chestxray-dataset-master/images/98c24e39.jpg  \n",
            "  inflating: covid-chestxray-dataset-master/images/9C34AF49-E589-44D5-92D3-168B3B04E4A6.jpeg  \n",
            "  inflating: covid-chestxray-dataset-master/images/9a4e0141fd7681c4026b55b4e13914_jumbo-2.jpeg  \n",
            " extracting: covid-chestxray-dataset-master/images/9d36404d.jpg  \n",
            "  inflating: covid-chestxray-dataset-master/images/9fdd3c3032296fd04d2cad5d9070d4_jumbo.jpeg  \n",
            "  inflating: covid-chestxray-dataset-master/images/A7E260CE-8A00-4C5F-A7F5-27336527A981.jpeg  \n",
            "  inflating: covid-chestxray-dataset-master/images/AR-1.jpg  \n",
            "  inflating: covid-chestxray-dataset-master/images/AR-2.jpg  \n",
            "  inflating: covid-chestxray-dataset-master/images/ARDSSevere.png  \n",
            "  inflating: covid-chestxray-dataset-master/images/B2D20576-00B7-4519-A415-72DE29C90C34.jpeg  \n",
            "  inflating: covid-chestxray-dataset-master/images/B59DD164-51D5-40DF-A926-6A42DD52EBE8.jpeg  \n",
            "  inflating: covid-chestxray-dataset-master/images/BMJ-37-163-g1.jpg  \n",
            "  inflating: covid-chestxray-dataset-master/images/C6EA0BE5-B01E-4113-B194-18D956675E25.jpeg  \n",
            "  inflating: covid-chestxray-dataset-master/images/CD50BA96-6982-4C80-AE7B-5F67ACDBFA56.jpeg  \n",
            "  inflating: covid-chestxray-dataset-master/images/D5ACAA93-C779-4E22-ADFA-6A220489F840.jpeg  \n",
            "  inflating: covid-chestxray-dataset-master/images/D7AF463C-2369-492D-908D-BE1911CCD74C.jpeg  \n",
            "  inflating: covid-chestxray-dataset-master/images/DE488FE1-0C44-428B-B67A-09741C1214C0.jpeg  \n",
            "  inflating: covid-chestxray-dataset-master/images/E1724330-1866-4581-8CD8-CEC9B8AFEDDE.jpeg  \n",
            "  inflating: covid-chestxray-dataset-master/images/E63574A7-4188-4C8D-8D17-9D67A18A1AFA.jpeg  \n",
            "  inflating: covid-chestxray-dataset-master/images/F051E018-DAD1-4506-AD43-BE4CA29E960B.jpeg  \n",
            "  inflating: covid-chestxray-dataset-master/images/F2DE909F-E19C-4900-92F5-8F435B031AC6.jpeg  \n",
            "  inflating: covid-chestxray-dataset-master/images/F4341CE7-73C9-45C6-99C8-8567A5484B63.jpeg  \n",
            "  inflating: covid-chestxray-dataset-master/images/F63AB6CE-1968-4154-A70F-913AF154F53D.jpeg  \n",
            "  inflating: covid-chestxray-dataset-master/images/FAFA-A1BF-49A8-A1D3-66FAFA41B7345D.jpg  \n",
            "  inflating: covid-chestxray-dataset-master/images/FC230FE2-1DDF-40EB-AA0D-21F950933289.jpeg  \n",
            "  inflating: covid-chestxray-dataset-master/images/FE9F9A5D-2830-46F9-851B-1FF4534959BE.jpeg  \n",
            "  inflating: covid-chestxray-dataset-master/images/MERS-CoV-1-s2.0-S0378603X1500248X-gr4e.jpg  \n",
            "  inflating: covid-chestxray-dataset-master/images/RX-torace-a-letto-del-paziente-in-unica-proiezione-AP-1-1.jpeg  \n",
            "  inflating: covid-chestxray-dataset-master/images/SARS-10.1148rg.242035193-g04mr34g0-Fig8a-day0.jpeg  \n",
            "  inflating: covid-chestxray-dataset-master/images/SARS-10.1148rg.242035193-g04mr34g0-Fig8b-day5.jpeg  \n",
            "  inflating: covid-chestxray-dataset-master/images/SARS-10.1148rg.242035193-g04mr34g0-Fig8c-day10.jpeg  \n",
            "  inflating: covid-chestxray-dataset-master/images/SARS-10.1148rg.242035193-g04mr34g04a-Fig4a-day7.jpeg  \n",
            "  inflating: covid-chestxray-dataset-master/images/SARS-10.1148rg.242035193-g04mr34g04b-Fig4b-day12.jpeg  \n",
            "  inflating: covid-chestxray-dataset-master/images/SARS-10.1148rg.242035193-g04mr34g05x-Fig5-day9.jpeg  \n",
            "  inflating: covid-chestxray-dataset-master/images/SARS-10.1148rg.242035193-g04mr34g07a-Fig7a-day5.jpeg  \n",
            "  inflating: covid-chestxray-dataset-master/images/SARS-10.1148rg.242035193-g04mr34g07b-Fig7b-day12.jpeg  \n",
            "  inflating: covid-chestxray-dataset-master/images/SARS-10.1148rg.242035193-g04mr34g09a-Fig9a-day17.jpeg  \n",
            "  inflating: covid-chestxray-dataset-master/images/SARS-10.1148rg.242035193-g04mr34g09b-Fig9b-day19.jpeg  \n",
            "  inflating: covid-chestxray-dataset-master/images/SARS-10.1148rg.242035193-g04mr34g09c-Fig9c-day27.jpeg  \n",
            "  inflating: covid-chestxray-dataset-master/images/X-ray_of_cyst_in_pneumocystis_pneumonia_1.jpg  \n",
            "  inflating: covid-chestxray-dataset-master/images/a1a7d22e66f6570df523e0077c6a5a_jumbo.jpeg  \n",
            "  inflating: covid-chestxray-dataset-master/images/a1fec23b293dfe7876660cb7acce43_jumbo.jpeg  \n",
            "  inflating: covid-chestxray-dataset-master/images/a228e110.jpg  \n",
            "  inflating: covid-chestxray-dataset-master/images/a24181c437aca166f7aeccc62ba28a_jumbo.jpg  \n",
            "  inflating: covid-chestxray-dataset-master/images/a2eba651.jpg  \n",
            "  inflating: covid-chestxray-dataset-master/images/a361d7b7.jpg  \n",
            "  inflating: covid-chestxray-dataset-master/images/a38e1877.jpg  \n",
            " extracting: covid-chestxray-dataset-master/images/a4318ac9.jpg  \n",
            "  inflating: covid-chestxray-dataset-master/images/a459fb990719792f31ae2ece5665e6_jumbo.jpg  \n",
            " extracting: covid-chestxray-dataset-master/images/a47dc73e.jpg  \n",
            "  inflating: covid-chestxray-dataset-master/images/a72aeb349a63c79ed24e473c434efe_jumbo.jpg  \n",
            " extracting: covid-chestxray-dataset-master/images/a7e0a141.jpg  \n",
            "  inflating: covid-chestxray-dataset-master/images/a8685b98.jpg  \n",
            "  inflating: covid-chestxray-dataset-master/images/a8ac1969.jpg  \n",
            "  inflating: covid-chestxray-dataset-master/images/a8ef731d274b273f1526d8d0ffbe3b_jumbo.jpeg  \n",
            "  inflating: covid-chestxray-dataset-master/images/aa9655de.jpg  \n",
            "  inflating: covid-chestxray-dataset-master/images/ab63c1bdd7b06525e3537fa83e2a70_jumbo-1.jpeg  \n",
            "  inflating: covid-chestxray-dataset-master/images/ac4f6e4e.jpg  \n",
            "  inflating: covid-chestxray-dataset-master/images/acute-respiratory-distress-syndrome-ards-1.jpg  \n",
            "  inflating: covid-chestxray-dataset-master/images/acute-respiratory-distress-syndrome-ards.jpg  \n",
            "  inflating: covid-chestxray-dataset-master/images/ada8c494.jpg  \n",
            "  inflating: covid-chestxray-dataset-master/images/ae6c954c0039de4b5edee53865ffee43-e6c8-0.jpg  \n",
            "  inflating: covid-chestxray-dataset-master/images/afaa068f1.png  \n",
            "  inflating: covid-chestxray-dataset-master/images/ajr.20.23034.pdf-001.png  \n",
            " extracting: covid-chestxray-dataset-master/images/ajr.20.23034.pdf-003.png  \n",
            "  inflating: covid-chestxray-dataset-master/images/all14238-fig-0001-m-b.jpg  \n",
            "  inflating: covid-chestxray-dataset-master/images/all14238-fig-0001-m-c.jpg  \n",
            "  inflating: covid-chestxray-dataset-master/images/all14238-fig-0002-m-d.jpg  \n",
            "  inflating: covid-chestxray-dataset-master/images/all14238-fig-0002-m-e.jpg  \n",
            "  inflating: covid-chestxray-dataset-master/images/all14238-fig-0002-m-f.jpg  \n",
            "  inflating: covid-chestxray-dataset-master/images/ansu-publish-ahead-of-print-10.1097.sla.0000000000003955-g001-a.png  \n",
            "  inflating: covid-chestxray-dataset-master/images/ansu-publish-ahead-of-print-10.1097.sla.0000000000003955-g001-c.png  \n",
            "  inflating: covid-chestxray-dataset-master/images/ansu-publish-ahead-of-print-10.1097.sla.0000000000003955-g001-d.png  \n",
            "  inflating: covid-chestxray-dataset-master/images/ansu-publish-ahead-of-print-10.1097.sla.0000000000003955-g001-f.png  \n",
            " extracting: covid-chestxray-dataset-master/images/aqaa062i0002-a.png  \n",
            " extracting: covid-chestxray-dataset-master/images/aqaa062i0002-b.png  \n",
            "  inflating: covid-chestxray-dataset-master/images/ards-secondary-to-tiger-snake-bite.png  \n",
            "  inflating: covid-chestxray-dataset-master/images/article_river_1a00a3c07ea311eab70491c6fb93d336-figure-2.png  \n",
            "  inflating: covid-chestxray-dataset-master/images/article_river_2a361d607ea311ea95dbcf0c95d13492-figure-4.png  \n",
            "  inflating: covid-chestxray-dataset-master/images/article_river_c79329e06dff11eab69c95940c7c0d00-CXR-D1-COVID19.png  \n",
            "  inflating: covid-chestxray-dataset-master/images/article_river_de7471906e0011eabe5f9363acaf45c4-covid-cxr-2.png  \n",
            "  inflating: covid-chestxray-dataset-master/images/article_river_e4d185c06e3511eaa2321d8ab357a1de-c1mn.png  \n",
            "  inflating: covid-chestxray-dataset-master/images/aspiration-pneumonia-5-day0.jpg  \n",
            "  inflating: covid-chestxray-dataset-master/images/aspiration-pneumonia-5-day10.jpg  \n",
            "  inflating: covid-chestxray-dataset-master/images/aspiration-pneumonia-5-day27.jpg  \n",
            "  inflating: covid-chestxray-dataset-master/images/aspiration-pneumonia-5-day3.jpg  \n",
            "  inflating: covid-chestxray-dataset-master/images/auntminnie-a-2020_01_28_23_51_6665_2020_01_28_Vietnam_coronavirus.jpeg  \n",
            "  inflating: covid-chestxray-dataset-master/images/auntminnie-b-2020_01_28_23_51_6665_2020_01_28_Vietnam_coronavirus.jpeg  \n",
            "  inflating: covid-chestxray-dataset-master/images/auntminnie-c-2020_01_28_23_51_6665_2020_01_28_Vietnam_coronavirus.jpeg  \n",
            "  inflating: covid-chestxray-dataset-master/images/auntminnie-d-2020_01_28_23_51_6665_2020_01_28_Vietnam_coronavirus.jpeg  \n",
            "  inflating: covid-chestxray-dataset-master/images/b03ef875.jpg  \n",
            "  inflating: covid-chestxray-dataset-master/images/b0500187.jpg  \n",
            "  inflating: covid-chestxray-dataset-master/images/b0f1684d1ee90dc09deef015e29dae_jumbo.jpeg  \n",
            "  inflating: covid-chestxray-dataset-master/images/b2f42e0cdfcbe32f189eb467b05e24_jumbo.jpg  \n",
            " extracting: covid-chestxray-dataset-master/images/b343e657.jpg  \n",
            " extracting: covid-chestxray-dataset-master/images/b37c225f.jpg  \n",
            " extracting: covid-chestxray-dataset-master/images/b39f5cf9.jpg  \n",
            "  inflating: covid-chestxray-dataset-master/images/b3bf8a2639dc735c8b5c9d75be18a7_jumbo.jpeg  \n",
            "  inflating: covid-chestxray-dataset-master/images/b50c02b92f2b98f5e1477ff759ce94_jumbo-1.jpg  \n",
            "  inflating: covid-chestxray-dataset-master/images/b85b6449f7c3bfc841a973cca0ada7_jumbo.jpg  \n",
            "  inflating: covid-chestxray-dataset-master/images/b9673e89.jpg  \n",
            "  inflating: covid-chestxray-dataset-master/images/ba040c5e.jpg  \n",
            "  inflating: covid-chestxray-dataset-master/images/ba45a47c3ef5060ec39891046be7ca_jumbo.jpg  \n",
            " extracting: covid-chestxray-dataset-master/images/bb0e626a.jpg  \n",
            "  inflating: covid-chestxray-dataset-master/images/bb25b35e1cc5cb0984ead37363db0e_jumbo-2.jpeg  \n",
            "  inflating: covid-chestxray-dataset-master/images/bc370d0566b31259c2d9544748eb21_jumbo.jpeg  \n",
            "  inflating: covid-chestxray-dataset-master/images/bcb814aa.jpg  \n",
            "  inflating: covid-chestxray-dataset-master/images/bd10d5e2.jpg  \n",
            " extracting: covid-chestxray-dataset-master/images/bd3ceeb6.jpg  \n",
            " extracting: covid-chestxray-dataset-master/images/bdc40f9ad2395d88c92479089f5d1b_jumbo-10.jpeg  \n",
            "  inflating: covid-chestxray-dataset-master/images/be835db3a56b5f76d607061dbb82a5_jumbo.jpeg  \n",
            "  inflating: covid-chestxray-dataset-master/images/bf551b8b.jpg  \n",
            " extracting: covid-chestxray-dataset-master/images/bfefde5d.jpg  \n",
            "  inflating: covid-chestxray-dataset-master/images/c0f74558.jpg  \n",
            "  inflating: covid-chestxray-dataset-master/images/c17cdd3972b233b97770bb57f7bba6_jumbo.jpeg  \n",
            "  inflating: covid-chestxray-dataset-master/images/c3829ecb.jpg  \n",
            "  inflating: covid-chestxray-dataset-master/images/c4a0e11a.jpg  \n",
            "  inflating: covid-chestxray-dataset-master/images/c601f50d.jpg  \n",
            "  inflating: covid-chestxray-dataset-master/images/c7c4f142dea9fcabbb660318f07cbb_jumbo.jpeg  \n",
            " extracting: covid-chestxray-dataset-master/images/c828e894.jpg  \n",
            "  inflating: covid-chestxray-dataset-master/images/c873402e.jpg  \n",
            "  inflating: covid-chestxray-dataset-master/images/c94ef38ddb2d94aa11828716777139_jumbo.jpeg  \n",
            "  inflating: covid-chestxray-dataset-master/images/c98c6fce880dbec0d1eb3045cec103_jumbo.jpg  \n",
            "  inflating: covid-chestxray-dataset-master/images/ca21ce8053252fb93cbbe0f7729ce3_jumbo.jpg  \n",
            " extracting: covid-chestxray-dataset-master/images/case_71_figura1.png  \n",
            "  inflating: covid-chestxray-dataset-master/images/case_72_RX-TORACE1.jpg  \n",
            "  inflating: covid-chestxray-dataset-master/images/case_76_1-3.png  \n",
            "  inflating: covid-chestxray-dataset-master/images/cavitating-pneumonia-4-day0-L.jpg  \n",
            "  inflating: covid-chestxray-dataset-master/images/cavitating-pneumonia-4-day0-PA.jpg  \n",
            "  inflating: covid-chestxray-dataset-master/images/cavitating-pneumonia-4-day28-L.png  \n",
            "  inflating: covid-chestxray-dataset-master/images/cavitating-pneumonia-4-day28-PA.png  \n",
            " extracting: covid-chestxray-dataset-master/images/cb60786c.jpg  \n",
            " extracting: covid-chestxray-dataset-master/images/cb706009.jpg  \n",
            "  inflating: covid-chestxray-dataset-master/images/cdf5605e45874c28262c81b7ab80b3_jumbo.jpeg  \n",
            "  inflating: covid-chestxray-dataset-master/images/ce09cfab.jpg  \n",
            "  inflating: covid-chestxray-dataset-master/images/ce68550a.jpg  \n",
            " extracting: covid-chestxray-dataset-master/images/cfcdf8d9.jpg  \n",
            "  inflating: covid-chestxray-dataset-master/images/chlamydia-pneumonia-L.png  \n",
            "  inflating: covid-chestxray-dataset-master/images/chlamydia-pneumonia-PA.png  \n",
            "  inflating: covid-chestxray-dataset-master/images/ciaa199.pdf-001-a.png  \n",
            "  inflating: covid-chestxray-dataset-master/images/ciaa199.pdf-001-b.png  \n",
            "  inflating: covid-chestxray-dataset-master/images/covid-19-caso-111-1-21.png  \n",
            "  inflating: covid-chestxray-dataset-master/images/covid-19-caso-70-1-L.jpg  \n",
            "  inflating: covid-chestxray-dataset-master/images/covid-19-caso-70-1-PA.jpg  \n",
            "  inflating: covid-chestxray-dataset-master/images/covid-19-caso-70-2-APS.jpg  \n",
            " extracting: covid-chestxray-dataset-master/images/covid-19-caso-82-1-8.png  \n",
            "  inflating: covid-chestxray-dataset-master/images/covid-19-caso-85-1-9.png  \n",
            "  inflating: covid-chestxray-dataset-master/images/covid-19-caso-85-4-6.png  \n",
            "  inflating: covid-chestxray-dataset-master/images/covid-19-caso-85-5-4.png  \n",
            "  inflating: covid-chestxray-dataset-master/images/covid-19-caso-86-RX-Torace-2.jpg  \n",
            "  inflating: covid-chestxray-dataset-master/images/covid-19-caso-86-Rx-torace-1.jpg  \n",
            "  inflating: covid-chestxray-dataset-master/images/covid-19-caso-91-1-12.png  \n",
            "  inflating: covid-chestxray-dataset-master/images/covid-19-caso-91-2-13.png  \n",
            "  inflating: covid-chestxray-dataset-master/images/covid-19-caso-94-1-14.png  \n",
            "  inflating: covid-chestxray-dataset-master/images/covid-19-caso-95-1-15.png  \n",
            "  inflating: covid-chestxray-dataset-master/images/covid-19-caso-95-2-16.png  \n",
            "  inflating: covid-chestxray-dataset-master/images/covid-19-caso-95-3-14.png  \n",
            "  inflating: covid-chestxray-dataset-master/images/covid-19-caso-95-4-12.png  \n",
            "  inflating: covid-chestxray-dataset-master/images/covid-19-caso-99-1-19.png  \n",
            "  inflating: covid-chestxray-dataset-master/images/covid-19-infection-exclusive-gastrointestinal-symptoms-l.png  \n",
            "  inflating: covid-chestxray-dataset-master/images/covid-19-infection-exclusive-gastrointestinal-symptoms-pa.png  \n",
            "  inflating: covid-chestxray-dataset-master/images/covid-19-pneumonia-101.png  \n",
            "  inflating: covid-chestxray-dataset-master/images/covid-19-pneumonia-12.jpg  \n",
            "  inflating: covid-chestxray-dataset-master/images/covid-19-pneumonia-14-L.png  \n",
            "  inflating: covid-chestxray-dataset-master/images/covid-19-pneumonia-14-PA.png  \n",
            "  inflating: covid-chestxray-dataset-master/images/covid-19-pneumonia-15-L.jpg  \n",
            "  inflating: covid-chestxray-dataset-master/images/covid-19-pneumonia-15-PA.jpg  \n",
            "  inflating: covid-chestxray-dataset-master/images/covid-19-pneumonia-19.jpg  \n",
            "  inflating: covid-chestxray-dataset-master/images/covid-19-pneumonia-2.jpg  \n",
            "  inflating: covid-chestxray-dataset-master/images/covid-19-pneumonia-20-l-on-admission.jpg  \n",
            "  inflating: covid-chestxray-dataset-master/images/covid-19-pneumonia-20-pa-on-admission.jpg  \n",
            "  inflating: covid-chestxray-dataset-master/images/covid-19-pneumonia-20.jpg  \n",
            "  inflating: covid-chestxray-dataset-master/images/covid-19-pneumonia-22-day1-l.png  \n",
            "  inflating: covid-chestxray-dataset-master/images/covid-19-pneumonia-22-day1-pa.png  \n",
            "  inflating: covid-chestxray-dataset-master/images/covid-19-pneumonia-22-day2-pa.png  \n",
            "  inflating: covid-chestxray-dataset-master/images/covid-19-pneumonia-23-day1.jpg  \n",
            "  inflating: covid-chestxray-dataset-master/images/covid-19-pneumonia-23-day3.jpg  \n",
            "  inflating: covid-chestxray-dataset-master/images/covid-19-pneumonia-23-day9.jpg  \n",
            "  inflating: covid-chestxray-dataset-master/images/covid-19-pneumonia-24-day12.jpg  \n",
            "  inflating: covid-chestxray-dataset-master/images/covid-19-pneumonia-24-day6.jpg  \n",
            "  inflating: covid-chestxray-dataset-master/images/covid-19-pneumonia-24-day7.jpg  \n",
            " extracting: covid-chestxray-dataset-master/images/covid-19-pneumonia-28.png  \n",
            "  inflating: covid-chestxray-dataset-master/images/covid-19-pneumonia-30-L.jpg  \n",
            "  inflating: covid-chestxray-dataset-master/images/covid-19-pneumonia-30-PA.jpg  \n",
            "  inflating: covid-chestxray-dataset-master/images/covid-19-pneumonia-34.png  \n",
            "  inflating: covid-chestxray-dataset-master/images/covid-19-pneumonia-35-1.jpg  \n",
            "  inflating: covid-chestxray-dataset-master/images/covid-19-pneumonia-35-2.jpg  \n",
            "  inflating: covid-chestxray-dataset-master/images/covid-19-pneumonia-38-l.jpg  \n",
            "  inflating: covid-chestxray-dataset-master/images/covid-19-pneumonia-38-pa.jpg  \n",
            "  inflating: covid-chestxray-dataset-master/images/covid-19-pneumonia-40.jpg  \n",
            "  inflating: covid-chestxray-dataset-master/images/covid-19-pneumonia-41-day-0.jpg  \n",
            "  inflating: covid-chestxray-dataset-master/images/covid-19-pneumonia-41-day-2.jpg  \n",
            "  inflating: covid-chestxray-dataset-master/images/covid-19-pneumonia-42.jpeg  \n",
            "  inflating: covid-chestxray-dataset-master/images/covid-19-pneumonia-43-day0.jpeg  \n",
            "  inflating: covid-chestxray-dataset-master/images/covid-19-pneumonia-43-day2.jpeg  \n",
            "  inflating: covid-chestxray-dataset-master/images/covid-19-pneumonia-44-day-0.jpeg  \n",
            "  inflating: covid-chestxray-dataset-master/images/covid-19-pneumonia-44-day-8.jpeg  \n",
            "  inflating: covid-chestxray-dataset-master/images/covid-19-pneumonia-49-day4.jpg  \n",
            "  inflating: covid-chestxray-dataset-master/images/covid-19-pneumonia-49-day8.jpg  \n",
            "  inflating: covid-chestxray-dataset-master/images/covid-19-pneumonia-53.jpg  \n",
            "  inflating: covid-chestxray-dataset-master/images/covid-19-pneumonia-58-day-10.jpg  \n",
            "  inflating: covid-chestxray-dataset-master/images/covid-19-pneumonia-58-day-3.jpg  \n",
            "  inflating: covid-chestxray-dataset-master/images/covid-19-pneumonia-58-day-7.jpg  \n",
            "  inflating: covid-chestxray-dataset-master/images/covid-19-pneumonia-58-day-9.jpg  \n",
            "  inflating: covid-chestxray-dataset-master/images/covid-19-pneumonia-58-prior.jpg  \n",
            "  inflating: covid-chestxray-dataset-master/images/covid-19-pneumonia-67.jpeg  \n",
            "  inflating: covid-chestxray-dataset-master/images/covid-19-pneumonia-7-L.jpg  \n",
            "  inflating: covid-chestxray-dataset-master/images/covid-19-pneumonia-7-PA.jpg  \n",
            "  inflating: covid-chestxray-dataset-master/images/covid-19-pneumonia-8.jpg  \n",
            " extracting: covid-chestxray-dataset-master/images/covid-19-pneumonia-93.png  \n",
            "  inflating: covid-chestxray-dataset-master/images/covid-19-pneumonia-bilateral.jpg  \n",
            "  inflating: covid-chestxray-dataset-master/images/covid-19-pneumonia-evolution-over-a-week-1-day0-L.jpg  \n",
            "  inflating: covid-chestxray-dataset-master/images/covid-19-pneumonia-evolution-over-a-week-1-day0-PA.jpg  \n",
            "  inflating: covid-chestxray-dataset-master/images/covid-19-pneumonia-evolution-over-a-week-1-day3.jpg  \n",
            "  inflating: covid-chestxray-dataset-master/images/covid-19-pneumonia-evolution-over-a-week-1-day4.jpg  \n",
            "  inflating: covid-chestxray-dataset-master/images/covid-19-pneumonia-evolution-over-a-week-1-day6.jpg  \n",
            "  inflating: covid-chestxray-dataset-master/images/covid-19-pneumonia-mild.JPG  \n",
            "  inflating: covid-chestxray-dataset-master/images/covid-19-pneumonia-progression-and-regression-day1.jpg  \n",
            "  inflating: covid-chestxray-dataset-master/images/covid-19-pneumonia-progression-and-regression-day11.jpg  \n",
            "  inflating: covid-chestxray-dataset-master/images/covid-19-pneumonia-progression-and-regression-day13.jpg  \n",
            "  inflating: covid-chestxray-dataset-master/images/covid-19-pneumonia-progression-and-regression-day20.jpg  \n",
            "  inflating: covid-chestxray-dataset-master/images/covid-19-pneumonia-progression-and-regression-day24.jpg  \n",
            "  inflating: covid-chestxray-dataset-master/images/covid-19-pneumonia-progression-and-regression-day28.jpg  \n",
            "  inflating: covid-chestxray-dataset-master/images/covid-19-pneumonia-progression-and-regression-day6.jpg  \n",
            "  inflating: covid-chestxray-dataset-master/images/covid-19-pneumonia-rapidly-progressive-12-hours.jpg  \n",
            "  inflating: covid-chestxray-dataset-master/images/covid-19-pneumonia-rapidly-progressive-3-days.jpg  \n",
            "  inflating: covid-chestxray-dataset-master/images/covid-19-pneumonia-rapidly-progressive-admission.jpg  \n",
            "  inflating: covid-chestxray-dataset-master/images/covid-19-rapidly-progressive-acute-respiratory-distress-syndrome-ards-admission.jpg  \n",
            "  inflating: covid-chestxray-dataset-master/images/covid-19-rapidly-progressive-acute-respiratory-distress-syndrome-ards-day-1.jpg  \n",
            "  inflating: covid-chestxray-dataset-master/images/covid-19-rapidly-progressive-acute-respiratory-distress-syndrome-ards-day-2.jpg  \n",
            "  inflating: covid-chestxray-dataset-master/images/covid-19-rapidly-progressive-acute-respiratory-distress-syndrome-ards-day-3.jpg  \n",
            "  inflating: covid-chestxray-dataset-master/images/d009d61f.jpg  \n",
            "  inflating: covid-chestxray-dataset-master/images/d2af569b.jpg  \n",
            "  inflating: covid-chestxray-dataset-master/images/d2c83bde.jpg  \n",
            "  inflating: covid-chestxray-dataset-master/images/d2c8a74b37d8d1581ea2a8fe865ef3_jumbo-10.jpeg  \n",
            "  inflating: covid-chestxray-dataset-master/images/d2cdf41a662113279d2ec21af3a4e2_jumbo.jpg  \n",
            " extracting: covid-chestxray-dataset-master/images/d6494b39.jpg  \n",
            " extracting: covid-chestxray-dataset-master/images/d680397c.jpg  \n",
            " extracting: covid-chestxray-dataset-master/images/d7f2ee0f.jpg  \n",
            " extracting: covid-chestxray-dataset-master/images/d806f9a1.jpg  \n",
            "  inflating: covid-chestxray-dataset-master/images/d815245ec98b5f0efc73b89daef72c_jumbo.jpg  \n",
            "  inflating: covid-chestxray-dataset-master/images/d84789f9ece74ea65e7ec2c4faaaf3_jumbo.jpeg  \n",
            "  inflating: covid-chestxray-dataset-master/images/d9d6ca9a.jpg  \n",
            "  inflating: covid-chestxray-dataset-master/images/da9e9aac-de8c-44c7-ba57-e7cc8e4caaba.annot.original.jpeg  \n",
            " extracting: covid-chestxray-dataset-master/images/db96a050.jpg  \n",
            "  inflating: covid-chestxray-dataset-master/images/dc025523f07c043550a2c9de68ae50_jumbo.jpeg  \n",
            "  inflating: covid-chestxray-dataset-master/images/defc5c87e473bdaf4f57e4c4c22e3b_jumbo.jpeg  \n",
            "  inflating: covid-chestxray-dataset-master/images/e0e3a6526a3fecadfca2be13242798_jumbo.jpg  \n",
            "  inflating: covid-chestxray-dataset-master/images/e104f46d.jpg  \n",
            "  inflating: covid-chestxray-dataset-master/images/e1446fe8.jpg  \n",
            " extracting: covid-chestxray-dataset-master/images/e1a4f870.jpg  \n",
            "  inflating: covid-chestxray-dataset-master/images/e53ea41a.jpg  \n",
            " extracting: covid-chestxray-dataset-master/images/e6eaadf0.jpg  \n",
            "  inflating: covid-chestxray-dataset-master/images/e73d6e89fcd781b8afd159cf533358_jumbo-1.jpeg  \n",
            "  inflating: covid-chestxray-dataset-master/images/e87352fc.jpg  \n",
            "  inflating: covid-chestxray-dataset-master/images/e9877113.jpg  \n",
            "  inflating: covid-chestxray-dataset-master/images/e9cc806fc1c90195d999dc8d022d28_jumbo-2.jpeg  \n",
            "  inflating: covid-chestxray-dataset-master/images/ec083e35.jpg  \n",
            "  inflating: covid-chestxray-dataset-master/images/ec3a480c0926ded74429df416cfb05_jumbo.jpeg  \n",
            " extracting: covid-chestxray-dataset-master/images/ee2d1bf6.jpg  \n",
            "  inflating: covid-chestxray-dataset-master/images/extubation-1.jpg  \n",
            "  inflating: covid-chestxray-dataset-master/images/extubation-13.jpg  \n",
            "  inflating: covid-chestxray-dataset-master/images/extubation-4.jpg  \n",
            "  inflating: covid-chestxray-dataset-master/images/extubation-8.jpg  \n",
            "  inflating: covid-chestxray-dataset-master/images/f0a93ef2.jpg  \n",
            "  inflating: covid-chestxray-dataset-master/images/f410057190635755d60158d1595d67_jumbo-1.jpeg  \n",
            "  inflating: covid-chestxray-dataset-master/images/f44373474437c99b2740062c914438_jumbo.jpeg  \n",
            "  inflating: covid-chestxray-dataset-master/images/f46a9bfc7222e61e099a25ab9267da_jumbo.jpeg  \n",
            "  inflating: covid-chestxray-dataset-master/images/f5c69a3d9dcf2d5d4e54d0d080b666_jumbo.jpeg  \n",
            "  inflating: covid-chestxray-dataset-master/images/f64132c8.jpg  \n",
            "  inflating: covid-chestxray-dataset-master/images/f6575117.jpg  \n",
            "  inflating: covid-chestxray-dataset-master/images/f6d980a0.jpg  \n",
            "  inflating: covid-chestxray-dataset-master/images/f6ece95b172eadba762bf3daef7441_jumbo-1.jpeg  \n",
            " extracting: covid-chestxray-dataset-master/images/f722466f.jpg  \n",
            "  inflating: covid-chestxray-dataset-master/images/f72b17e863d0f958b65379b3669238_jumbo.jpg  \n",
            "  inflating: covid-chestxray-dataset-master/images/f7ea5303f5e3ea16bdd4fd93df84fb_jumbo-1.jpeg  \n",
            "  inflating: covid-chestxray-dataset-master/images/f8335316.jpg  \n",
            "  inflating: covid-chestxray-dataset-master/images/f875007a.jpg  \n",
            "  inflating: covid-chestxray-dataset-master/images/facc859f173d0ae052a1a52997c6b5_jumbo.jpg  \n",
            " extracting: covid-chestxray-dataset-master/images/fbb18dc0.jpg  \n",
            "  inflating: covid-chestxray-dataset-master/images/fedd6c94d5dbd12d88c81a1020a3e4_jumbo.jpeg  \n",
            "  inflating: covid-chestxray-dataset-master/images/ff33c406392b968d483174c97eb857_jumbo-9.jpeg  \n",
            "  inflating: covid-chestxray-dataset-master/images/ffad3e6c27fe36031249c81647800f_jumbo.jpeg  \n",
            "  inflating: covid-chestxray-dataset-master/images/fff13f3a.jpg  \n",
            "  inflating: covid-chestxray-dataset-master/images/fff49165-b22d-4bb4-b9d1-d5d62c52436c.annot.original.png  \n",
            "  inflating: covid-chestxray-dataset-master/images/figure1-5e71be566aa8714a04de3386-98-left.jpeg  \n",
            "  inflating: covid-chestxray-dataset-master/images/figure1-5e73d7ae897e27ff066a30cb-98.jpeg  \n",
            "  inflating: covid-chestxray-dataset-master/images/figure1-5e75d0940b71e1b702629659-98-right.jpeg  \n",
            "  inflating: covid-chestxray-dataset-master/images/figure1-5e7c1b8d98c29ab001275405-98-later.jpeg  \n",
            "  inflating: covid-chestxray-dataset-master/images/figure1-5e7c1b8d98c29ab001275405-98.jpeg  \n",
            "  inflating: covid-chestxray-dataset-master/images/fx1_lrg.jpg  \n",
            "  inflating: covid-chestxray-dataset-master/images/gr1_lrg-a.jpg  \n",
            "  inflating: covid-chestxray-dataset-master/images/gr1_lrg-b.jpg  \n",
            "  inflating: covid-chestxray-dataset-master/images/gr2_lrg-a.png  \n",
            "  inflating: covid-chestxray-dataset-master/images/gr2_lrg-b.png  \n",
            "  inflating: covid-chestxray-dataset-master/images/gr2_lrg-c.png  \n",
            "  inflating: covid-chestxray-dataset-master/images/jkms-35-e79-g001-l-a.jpg  \n",
            "  inflating: covid-chestxray-dataset-master/images/jkms-35-e79-g001-l-b.jpg  \n",
            "  inflating: covid-chestxray-dataset-master/images/jkms-35-e79-g001-l-c.jpg  \n",
            "  inflating: covid-chestxray-dataset-master/images/jkms-35-e79-g001-l-d.jpg  \n",
            "  inflating: covid-chestxray-dataset-master/images/jkms-35-e79-g001-l-e.jpg  \n",
            "  inflating: covid-chestxray-dataset-master/images/kjr-21-e24-g001-l-a.jpg  \n",
            "  inflating: covid-chestxray-dataset-master/images/kjr-21-e24-g001-l-b.jpg  \n",
            "  inflating: covid-chestxray-dataset-master/images/kjr-21-e24-g001-l-c.jpg  \n",
            "  inflating: covid-chestxray-dataset-master/images/kjr-21-e24-g002-l-a.jpg  \n",
            "  inflating: covid-chestxray-dataset-master/images/kjr-21-e24-g002-l-b.jpg  \n",
            "  inflating: covid-chestxray-dataset-master/images/kjr-21-e24-g002-l-c.jpg  \n",
            "  inflating: covid-chestxray-dataset-master/images/kjr-21-e24-g003-l-a.jpg  \n",
            "  inflating: covid-chestxray-dataset-master/images/kjr-21-e24-g003-l-b.jpg  \n",
            "  inflating: covid-chestxray-dataset-master/images/kjr-21-e24-g004-l-a.jpg  \n",
            "  inflating: covid-chestxray-dataset-master/images/kjr-21-e24-g004-l-b.jpg  \n",
            "  inflating: covid-chestxray-dataset-master/images/kjr-21-e25-g001-l-a.jpg  \n",
            "  inflating: covid-chestxray-dataset-master/images/klebsiella-pneumonia-1.jpg  \n",
            "  inflating: covid-chestxray-dataset-master/images/lancet-case2a.jpg  \n",
            "  inflating: covid-chestxray-dataset-master/images/lancet-case2b.jpg  \n",
            " extracting: covid-chestxray-dataset-master/images/legionella-pneumonia-1.png  \n",
            "  inflating: covid-chestxray-dataset-master/images/legionella-pneumonia-2.jpg  \n",
            "  inflating: covid-chestxray-dataset-master/images/lightbox_78f27a80685411ea93cde791fb7cd172-CXR.png  \n",
            "  inflating: covid-chestxray-dataset-master/images/nCoV-radiol.2020200269.fig1-day7.jpeg  \n",
            "  inflating: covid-chestxray-dataset-master/images/nejmc2001573_f1a.jpeg  \n",
            "  inflating: covid-chestxray-dataset-master/images/nejmc2001573_f1b.jpeg  \n",
            "  inflating: covid-chestxray-dataset-master/images/nejmoa2001017_f1-a.png  \n",
            "  inflating: covid-chestxray-dataset-master/images/nejmoa2001017_f1-b.png  \n",
            "  inflating: covid-chestxray-dataset-master/images/nejmoa2001191_f1-L.jpeg  \n",
            "  inflating: covid-chestxray-dataset-master/images/nejmoa2001191_f1-PA.jpeg  \n",
            "  inflating: covid-chestxray-dataset-master/images/nejmoa2001191_f3-L.jpeg  \n",
            "  inflating: covid-chestxray-dataset-master/images/nejmoa2001191_f3-PA.jpeg  \n",
            "  inflating: covid-chestxray-dataset-master/images/nejmoa2001191_f4.jpeg  \n",
            "  inflating: covid-chestxray-dataset-master/images/nejmoa2001191_f5-L.jpeg  \n",
            "  inflating: covid-chestxray-dataset-master/images/nejmoa2001191_f5-PA.jpeg  \n",
            "  inflating: covid-chestxray-dataset-master/images/nejmoa2004500_f1-a.png  \n",
            "  inflating: covid-chestxray-dataset-master/images/nejmoa2004500_f1-b.png  \n",
            "  inflating: covid-chestxray-dataset-master/images/parapneumonic-effusion-1-L.png  \n",
            "  inflating: covid-chestxray-dataset-master/images/parapneumonic-effusion-1-PA.png  \n",
            "  inflating: covid-chestxray-dataset-master/images/paving.jpg  \n",
            "  inflating: covid-chestxray-dataset-master/images/pneumococcal-pneumonia-day0.jpg  \n",
            "  inflating: covid-chestxray-dataset-master/images/pneumococcal-pneumonia-day35.jpg  \n",
            "  inflating: covid-chestxray-dataset-master/images/pneumococcal-pneumonia-day7.jpg  \n",
            "  inflating: covid-chestxray-dataset-master/images/pneumocystis-carinii-pneumonia-1-L.jpg  \n",
            "  inflating: covid-chestxray-dataset-master/images/pneumocystis-carinii-pneumonia-1-PA.jpg  \n",
            "  inflating: covid-chestxray-dataset-master/images/pneumocystis-jiroveci-pneumonia-2.png  \n",
            "  inflating: covid-chestxray-dataset-master/images/pneumocystis-jiroveci-pneumonia-4-L.png  \n",
            "  inflating: covid-chestxray-dataset-master/images/pneumocystis-jiroveci-pneumonia-4-PA.png  \n",
            "  inflating: covid-chestxray-dataset-master/images/pneumocystis-jirovecii-pneumonia-2.jpg  \n",
            "  inflating: covid-chestxray-dataset-master/images/pneumocystis-jirovecii-pneumonia-3-1.jpg  \n",
            "  inflating: covid-chestxray-dataset-master/images/pneumocystis-jirovecii-pneumonia-3-2.jpg  \n",
            "  inflating: covid-chestxray-dataset-master/images/pneumocystis-jirovecii-pneumonia-3-3.jpg  \n",
            "  inflating: covid-chestxray-dataset-master/images/pneumocystis-pneumonia-1.jpg  \n",
            " extracting: covid-chestxray-dataset-master/images/pneumocystis-pneumonia-12.png  \n",
            "  inflating: covid-chestxray-dataset-master/images/pneumocystis-pneumonia-2-L.png  \n",
            "  inflating: covid-chestxray-dataset-master/images/pneumocystis-pneumonia-2-PA.png  \n",
            "  inflating: covid-chestxray-dataset-master/images/pneumocystis-pneumonia-8.jpg  \n",
            "  inflating: covid-chestxray-dataset-master/images/pneumonia-7.jpg  \n",
            "  inflating: covid-chestxray-dataset-master/images/post-intubuation-pneumomediastium-and-pneumothorax-background-covid-19-pneumonia-day1.jpg  \n",
            "  inflating: covid-chestxray-dataset-master/images/post-intubuation-pneumomediastium-and-pneumothorax-background-covid-19-pneumonia-day6-1.jpg  \n",
            "  inflating: covid-chestxray-dataset-master/images/post-intubuation-pneumomediastium-and-pneumothorax-background-covid-19-pneumonia-day6-2.jpg  \n",
            "  inflating: covid-chestxray-dataset-master/images/post-intubuation-pneumomediastium-and-pneumothorax-background-covid-19-pneumonia-day7.jpg  \n",
            "  inflating: covid-chestxray-dataset-master/images/radiol.2020200274.fig3d.png  \n",
            "  inflating: covid-chestxray-dataset-master/images/radiol.2020200490.fig3.jpeg  \n",
            "  inflating: covid-chestxray-dataset-master/images/radiol.2020201160.fig2a.jpeg  \n",
            "  inflating: covid-chestxray-dataset-master/images/radiol.2020201160.fig2b.jpeg  \n",
            "  inflating: covid-chestxray-dataset-master/images/radiol.2020201160.fig2c.jpeg  \n",
            "  inflating: covid-chestxray-dataset-master/images/radiol.2020201160.fig2d.jpeg  \n",
            "  inflating: covid-chestxray-dataset-master/images/radiol.2020201160.fig3a.jpeg  \n",
            "  inflating: covid-chestxray-dataset-master/images/radiol.2020201160.fig3b.jpeg  \n",
            "  inflating: covid-chestxray-dataset-master/images/radiol.2020201160.fig3c.jpeg  \n",
            "  inflating: covid-chestxray-dataset-master/images/radiol.2020201160.fig3d.jpeg  \n",
            "  inflating: covid-chestxray-dataset-master/images/radiol.2020201160.fig6b.jpeg  \n",
            "  inflating: covid-chestxray-dataset-master/images/right-upper-lobe-pneumonia-9-L.jpg  \n",
            "  inflating: covid-chestxray-dataset-master/images/right-upper-lobe-pneumonia-9-PA.jpg  \n",
            "  inflating: covid-chestxray-dataset-master/images/ryct.2020003.fig2-a.png  \n",
            "  inflating: covid-chestxray-dataset-master/images/ryct.2020003.fig2-b.png  \n",
            "  inflating: covid-chestxray-dataset-master/images/ryct.2020003.fig2-c.png  \n",
            "  inflating: covid-chestxray-dataset-master/images/ryct.2020200028.fig1a.jpeg  \n",
            "  inflating: covid-chestxray-dataset-master/images/ryct.2020200034.fig2.jpeg  \n",
            "  inflating: covid-chestxray-dataset-master/images/ryct.2020200034.fig5-day0.jpeg  \n",
            "  inflating: covid-chestxray-dataset-master/images/ryct.2020200034.fig5-day4.jpeg  \n",
            "  inflating: covid-chestxray-dataset-master/images/ryct.2020200034.fig5-day7.jpeg  \n",
            "  inflating: covid-chestxray-dataset-master/images/streptococcus-pneumoniae-pneumonia-1.jpg  \n",
            "  inflating: covid-chestxray-dataset-master/images/streptococcus-pneumoniae-pneumonia-temporal-evolution-1-day0.jpg  \n",
            "  inflating: covid-chestxray-dataset-master/images/streptococcus-pneumoniae-pneumonia-temporal-evolution-1-day1.jpg  \n",
            "  inflating: covid-chestxray-dataset-master/images/streptococcus-pneumoniae-pneumonia-temporal-evolution-1-day2.jpg  \n",
            "  inflating: covid-chestxray-dataset-master/images/streptococcus-pneumoniae-pneumonia-temporal-evolution-1-day3.jpg  \n",
            "  inflating: covid-chestxray-dataset-master/images/thnov10p5641g006-c.png  \n",
            " extracting: covid-chestxray-dataset-master/images/tpmd200203f2-a.png  \n",
            " extracting: covid-chestxray-dataset-master/images/tpmd200203f2-b.png  \n",
            " extracting: covid-chestxray-dataset-master/images/tpmd200203f2-c.png  \n",
            "  inflating: covid-chestxray-dataset-master/images/untitled.001_0.jpeg  \n",
            "  inflating: covid-chestxray-dataset-master/images/wong-0000.jpg  \n",
            "  inflating: covid-chestxray-dataset-master/images/wong-0002.jpg  \n",
            "  inflating: covid-chestxray-dataset-master/images/wong-0003.jpg  \n",
            "  inflating: covid-chestxray-dataset-master/images/wong-0004.jpg  \n",
            "  inflating: covid-chestxray-dataset-master/images/wong-0005.jpg  \n",
            "  inflating: covid-chestxray-dataset-master/images/yxppt-2020-02-19_00-51-27_287214-day10.jpg  \n",
            "  inflating: covid-chestxray-dataset-master/images/yxppt-2020-02-19_00-51-27_287214-day12.jpg  \n",
            "  inflating: covid-chestxray-dataset-master/images/yxppt-2020-02-19_00-51-27_287214-day8.jpg  \n",
            "  inflating: covid-chestxray-dataset-master/metadata.csv  \n",
            " extracting: covid-chestxray-dataset-master/requirements.txt  \n",
            "   creating: covid-chestxray-dataset-master/scripts/\n",
            "  inflating: covid-chestxray-dataset-master/scripts/access_metadata_json.py  \n",
            "  inflating: covid-chestxray-dataset-master/scripts/browse_page_from_cache.py  \n",
            "  inflating: covid-chestxray-dataset-master/scripts/browser.py  \n",
            "  inflating: covid-chestxray-dataset-master/scripts/caches.py  \n",
            "  inflating: covid-chestxray-dataset-master/scripts/combined_interface.py  \n",
            "  inflating: covid-chestxray-dataset-master/scripts/extension.crx  \n",
            "   creating: covid-chestxray-dataset-master/scripts/extension/\n",
            "  inflating: covid-chestxray-dataset-master/scripts/extension/content.js  \n",
            "  inflating: covid-chestxray-dataset-master/scripts/extension/manifest.json  \n",
            "  inflating: covid-chestxray-dataset-master/scripts/extension/script.js  \n",
            "  inflating: covid-chestxray-dataset-master/scripts/generate_html_database.py  \n",
            "  inflating: covid-chestxray-dataset-master/scripts/hannover-skip.csv  \n",
            "  inflating: covid-chestxray-dataset-master/scripts/hannover.py  \n",
            "  inflating: covid-chestxray-dataset-master/scripts/metadata_visualization.ipynb  \n",
            "  inflating: covid-chestxray-dataset-master/scripts/radiopedia.ipynb  \n",
            "  inflating: covid-chestxray-dataset-master/scripts/requirements.txt  \n",
            "  inflating: covid-chestxray-dataset-master/scripts/select_covid_patient_X_ray_images.py  \n",
            "  inflating: covid-chestxray-dataset-master/scripts/test_dataloader.py  \n",
            "  inflating: covid-chestxray-dataset-master/scripts/utils.py  \n",
            "  inflating: covid-chestxray-dataset-master/scripts/verify_and_modify_dataset.ipynb  \n",
            "   creating: covid-chestxray-dataset-master/tests/\n",
            "  inflating: covid-chestxray-dataset-master/tests/test_dataloader.py  \n",
            "  inflating: covid-chestxray-dataset-master/tests/test_dataset_assumptions.py  \n",
            "   creating: covid-chestxray-dataset-master/volumes/\n",
            "  inflating: covid-chestxray-dataset-master/volumes/DOWNLOAD.md  \n"
          ]
        }
      ],
      "source": [
        "!unzip 'master.zip'"
      ]
    },
    {
      "cell_type": "code",
      "execution_count": null,
      "metadata": {
        "colab": {
          "base_uri": "https://localhost:8080/"
        },
        "id": "iY24XisJmDO6",
        "outputId": "18d1a26f-4d30-4430-c367-5ae7e9b60976"
      },
      "outputs": [
        {
          "output_type": "stream",
          "name": "stdout",
          "text": [
            "Looking in indexes: https://pypi.org/simple, https://us-python.pkg.dev/colab-wheels/public/simple/\n",
            "Requirement already satisfied: kaggle in /usr/local/lib/python3.8/dist-packages (1.5.12)\n",
            "Requirement already satisfied: urllib3 in /usr/local/lib/python3.8/dist-packages (from kaggle) (1.24.3)\n",
            "Requirement already satisfied: python-dateutil in /usr/local/lib/python3.8/dist-packages (from kaggle) (2.8.2)\n",
            "Requirement already satisfied: six>=1.10 in /usr/local/lib/python3.8/dist-packages (from kaggle) (1.15.0)\n",
            "Requirement already satisfied: python-slugify in /usr/local/lib/python3.8/dist-packages (from kaggle) (8.0.0)\n",
            "Requirement already satisfied: requests in /usr/local/lib/python3.8/dist-packages (from kaggle) (2.25.1)\n",
            "Requirement already satisfied: certifi in /usr/local/lib/python3.8/dist-packages (from kaggle) (2022.12.7)\n",
            "Requirement already satisfied: tqdm in /usr/local/lib/python3.8/dist-packages (from kaggle) (4.64.1)\n",
            "Requirement already satisfied: text-unidecode>=1.3 in /usr/local/lib/python3.8/dist-packages (from python-slugify->kaggle) (1.3)\n",
            "Requirement already satisfied: idna<3,>=2.5 in /usr/local/lib/python3.8/dist-packages (from requests->kaggle) (2.10)\n",
            "Requirement already satisfied: chardet<5,>=3.0.2 in /usr/local/lib/python3.8/dist-packages (from requests->kaggle) (4.0.0)\n"
          ]
        }
      ],
      "source": [
        "!pip install kaggle"
      ]
    },
    {
      "cell_type": "code",
      "execution_count": null,
      "metadata": {
        "colab": {
          "base_uri": "https://localhost:8080/",
          "height": 88
        },
        "id": "g7KbpVL-m5yi",
        "outputId": "442eeb94-19c4-40bc-cbf7-0fae4423bba4"
      },
      "outputs": [
        {
          "output_type": "display_data",
          "data": {
            "text/plain": [
              "<IPython.core.display.HTML object>"
            ],
            "text/html": [
              "\n",
              "     <input type=\"file\" id=\"files-6a718ac3-d565-4db2-afe8-e780a7189266\" name=\"files[]\" multiple disabled\n",
              "        style=\"border:none\" />\n",
              "     <output id=\"result-6a718ac3-d565-4db2-afe8-e780a7189266\">\n",
              "      Upload widget is only available when the cell has been executed in the\n",
              "      current browser session. Please rerun this cell to enable.\n",
              "      </output>\n",
              "      <script>// Copyright 2017 Google LLC\n",
              "//\n",
              "// Licensed under the Apache License, Version 2.0 (the \"License\");\n",
              "// you may not use this file except in compliance with the License.\n",
              "// You may obtain a copy of the License at\n",
              "//\n",
              "//      http://www.apache.org/licenses/LICENSE-2.0\n",
              "//\n",
              "// Unless required by applicable law or agreed to in writing, software\n",
              "// distributed under the License is distributed on an \"AS IS\" BASIS,\n",
              "// WITHOUT WARRANTIES OR CONDITIONS OF ANY KIND, either express or implied.\n",
              "// See the License for the specific language governing permissions and\n",
              "// limitations under the License.\n",
              "\n",
              "/**\n",
              " * @fileoverview Helpers for google.colab Python module.\n",
              " */\n",
              "(function(scope) {\n",
              "function span(text, styleAttributes = {}) {\n",
              "  const element = document.createElement('span');\n",
              "  element.textContent = text;\n",
              "  for (const key of Object.keys(styleAttributes)) {\n",
              "    element.style[key] = styleAttributes[key];\n",
              "  }\n",
              "  return element;\n",
              "}\n",
              "\n",
              "// Max number of bytes which will be uploaded at a time.\n",
              "const MAX_PAYLOAD_SIZE = 100 * 1024;\n",
              "\n",
              "function _uploadFiles(inputId, outputId) {\n",
              "  const steps = uploadFilesStep(inputId, outputId);\n",
              "  const outputElement = document.getElementById(outputId);\n",
              "  // Cache steps on the outputElement to make it available for the next call\n",
              "  // to uploadFilesContinue from Python.\n",
              "  outputElement.steps = steps;\n",
              "\n",
              "  return _uploadFilesContinue(outputId);\n",
              "}\n",
              "\n",
              "// This is roughly an async generator (not supported in the browser yet),\n",
              "// where there are multiple asynchronous steps and the Python side is going\n",
              "// to poll for completion of each step.\n",
              "// This uses a Promise to block the python side on completion of each step,\n",
              "// then passes the result of the previous step as the input to the next step.\n",
              "function _uploadFilesContinue(outputId) {\n",
              "  const outputElement = document.getElementById(outputId);\n",
              "  const steps = outputElement.steps;\n",
              "\n",
              "  const next = steps.next(outputElement.lastPromiseValue);\n",
              "  return Promise.resolve(next.value.promise).then((value) => {\n",
              "    // Cache the last promise value to make it available to the next\n",
              "    // step of the generator.\n",
              "    outputElement.lastPromiseValue = value;\n",
              "    return next.value.response;\n",
              "  });\n",
              "}\n",
              "\n",
              "/**\n",
              " * Generator function which is called between each async step of the upload\n",
              " * process.\n",
              " * @param {string} inputId Element ID of the input file picker element.\n",
              " * @param {string} outputId Element ID of the output display.\n",
              " * @return {!Iterable<!Object>} Iterable of next steps.\n",
              " */\n",
              "function* uploadFilesStep(inputId, outputId) {\n",
              "  const inputElement = document.getElementById(inputId);\n",
              "  inputElement.disabled = false;\n",
              "\n",
              "  const outputElement = document.getElementById(outputId);\n",
              "  outputElement.innerHTML = '';\n",
              "\n",
              "  const pickedPromise = new Promise((resolve) => {\n",
              "    inputElement.addEventListener('change', (e) => {\n",
              "      resolve(e.target.files);\n",
              "    });\n",
              "  });\n",
              "\n",
              "  const cancel = document.createElement('button');\n",
              "  inputElement.parentElement.appendChild(cancel);\n",
              "  cancel.textContent = 'Cancel upload';\n",
              "  const cancelPromise = new Promise((resolve) => {\n",
              "    cancel.onclick = () => {\n",
              "      resolve(null);\n",
              "    };\n",
              "  });\n",
              "\n",
              "  // Wait for the user to pick the files.\n",
              "  const files = yield {\n",
              "    promise: Promise.race([pickedPromise, cancelPromise]),\n",
              "    response: {\n",
              "      action: 'starting',\n",
              "    }\n",
              "  };\n",
              "\n",
              "  cancel.remove();\n",
              "\n",
              "  // Disable the input element since further picks are not allowed.\n",
              "  inputElement.disabled = true;\n",
              "\n",
              "  if (!files) {\n",
              "    return {\n",
              "      response: {\n",
              "        action: 'complete',\n",
              "      }\n",
              "    };\n",
              "  }\n",
              "\n",
              "  for (const file of files) {\n",
              "    const li = document.createElement('li');\n",
              "    li.append(span(file.name, {fontWeight: 'bold'}));\n",
              "    li.append(span(\n",
              "        `(${file.type || 'n/a'}) - ${file.size} bytes, ` +\n",
              "        `last modified: ${\n",
              "            file.lastModifiedDate ? file.lastModifiedDate.toLocaleDateString() :\n",
              "                                    'n/a'} - `));\n",
              "    const percent = span('0% done');\n",
              "    li.appendChild(percent);\n",
              "\n",
              "    outputElement.appendChild(li);\n",
              "\n",
              "    const fileDataPromise = new Promise((resolve) => {\n",
              "      const reader = new FileReader();\n",
              "      reader.onload = (e) => {\n",
              "        resolve(e.target.result);\n",
              "      };\n",
              "      reader.readAsArrayBuffer(file);\n",
              "    });\n",
              "    // Wait for the data to be ready.\n",
              "    let fileData = yield {\n",
              "      promise: fileDataPromise,\n",
              "      response: {\n",
              "        action: 'continue',\n",
              "      }\n",
              "    };\n",
              "\n",
              "    // Use a chunked sending to avoid message size limits. See b/62115660.\n",
              "    let position = 0;\n",
              "    do {\n",
              "      const length = Math.min(fileData.byteLength - position, MAX_PAYLOAD_SIZE);\n",
              "      const chunk = new Uint8Array(fileData, position, length);\n",
              "      position += length;\n",
              "\n",
              "      const base64 = btoa(String.fromCharCode.apply(null, chunk));\n",
              "      yield {\n",
              "        response: {\n",
              "          action: 'append',\n",
              "          file: file.name,\n",
              "          data: base64,\n",
              "        },\n",
              "      };\n",
              "\n",
              "      let percentDone = fileData.byteLength === 0 ?\n",
              "          100 :\n",
              "          Math.round((position / fileData.byteLength) * 100);\n",
              "      percent.textContent = `${percentDone}% done`;\n",
              "\n",
              "    } while (position < fileData.byteLength);\n",
              "  }\n",
              "\n",
              "  // All done.\n",
              "  yield {\n",
              "    response: {\n",
              "      action: 'complete',\n",
              "    }\n",
              "  };\n",
              "}\n",
              "\n",
              "scope.google = scope.google || {};\n",
              "scope.google.colab = scope.google.colab || {};\n",
              "scope.google.colab._files = {\n",
              "  _uploadFiles,\n",
              "  _uploadFilesContinue,\n",
              "};\n",
              "})(self);\n",
              "</script> "
            ]
          },
          "metadata": {}
        },
        {
          "output_type": "stream",
          "name": "stdout",
          "text": [
            "Saving kaggle.json to kaggle.json\n"
          ]
        },
        {
          "output_type": "execute_result",
          "data": {
            "text/plain": [
              "{'kaggle.json': b'{\"username\":\"leonardoalb\",\"key\":\"f4c83b2bf734f5c1f30f4ff42fb3bc47\"}'}"
            ]
          },
          "metadata": {},
          "execution_count": 6
        }
      ],
      "source": [
        "from google.colab import files\n",
        "files.upload()         # substitiu token anterior e carrega token novo"
      ]
    },
    {
      "cell_type": "code",
      "execution_count": null,
      "metadata": {
        "colab": {
          "base_uri": "https://localhost:8080/"
        },
        "id": "or8zyqukm503",
        "outputId": "e815e60f-0f7e-40fd-f02e-1038f956a280"
      },
      "outputs": [
        {
          "output_type": "stream",
          "name": "stdout",
          "text": [
            "rm: cannot remove '/root/.kaggle': No such file or directory\n",
            "ref                                                        title                                       size  lastUpdated          downloadCount  voteCount  usabilityRating  \n",
            "---------------------------------------------------------  -----------------------------------------  -----  -------------------  -------------  ---------  ---------------  \n",
            "themrityunjaypathak/covid-cases-and-deaths-worldwide       Covid Cases and Deaths WorldWide             8KB  2023-02-01 12:22:51           5011        145  1.0              \n",
            "datascientistanna/customers-dataset                        Shop Customer Data                          23KB  2023-02-07 18:42:21           3718         98  1.0              \n",
            "rajugc/imdb-top-250-movies-dataset                         IMDB Top 250 Movies Dataset                 52KB  2023-02-11 16:02:01           1584         47  1.0              \n",
            "ahsan81/hotel-reservations-classification-dataset          Hotel Reservations Dataset                 480KB  2023-01-04 12:50:31          13418        408  1.0              \n",
            "adityamishraml/nasaexoplanets                              NASA Exoplanets                            114KB  2023-02-15 18:12:58            609         28  1.0              \n",
            "georgejnr/used-and-new-cars-datasets                       Used and New Cars Datasets                   2MB  2023-02-09 12:37:06           1160         36  0.88235295       \n",
            "mattop/nutrition-physical-activity-and-obesity             Nutrition, Physical Activity, and Obesity    3MB  2023-02-12 15:24:33           1226         38  1.0              \n",
            "karkavelrajaj/amazon-sales-dataset                         Amazon Sales Dataset                         2MB  2023-01-17 06:21:15           6385        111  1.0              \n",
            "thedevastator/domestic-food-prices-after-covid-19          Domestic Food Prices After COVID-19          1MB  2023-02-13 01:45:15           1216         34  0.9411765        \n",
            "themrityunjaypathak/most-subscribed-1000-youtube-channels  Most Subscribed 1000 Youtube Channels       28KB  2023-01-21 14:42:05           4662        125  1.0              \n",
            "googleai/musiccaps                                         MusicCaps                                  793KB  2023-01-25 09:25:48           3225        261  0.9411765        \n",
            "anas123siddiqui/laptops                                    Laptops                                     44KB  2023-02-05 18:11:41           1913         50  1.0              \n",
            "ulrikthygepedersen/airlines-delay                          Airlines Delay                               6MB  2023-02-01 13:49:34           1106         29  1.0              \n",
            "anas123siddiqui/happiness-index-data                       Happiness Index data                         5KB  2023-02-13 16:17:17            689         32  1.0              \n",
            "antonkozyriev/game-recommendations-on-steam                Game Recommendations on Steam              112MB  2023-02-17 20:52:42            799         30  1.0              \n",
            "ulrikthygepedersen/speed-dating                            Speed Dating                               434KB  2023-02-10 08:58:51            514         29  1.0              \n",
            "thedevastator/high-tech-companies-on-nasdaq                High-Tech Companies on NASDAQ              383KB  2023-02-11 12:09:00            461         29  0.9411765        \n",
            "thedevastator/employee-attrition-and-factors               Employee Attrition and Factors              50KB  2023-02-11 04:31:57            852         33  1.0              \n",
            "tusharsingh1411/formula1-data-1950-2022                    🏎️ Formula1_GrandPrix_dataset               47KB  2023-02-09 20:18:07            529         31  1.0              \n",
            "slider2k/interest-rate                                      Interest Rate of Banks                      7KB  2023-02-08 11:38:08            554         27  0.9411765        \n"
          ]
        }
      ],
      "source": [
        "!rm -r ~/.kaggle\n",
        "!mkdir ~/.kaggle\n",
        "!mv ./kaggle.json ~/.kaggle/\n",
        "!chmod 600 ~/.kaggle/kaggle.json\n",
        "!kaggle datasets list"
      ]
    },
    {
      "cell_type": "code",
      "execution_count": null,
      "metadata": {
        "colab": {
          "base_uri": "https://localhost:8080/"
        },
        "id": "qHzEFmZfrOzH",
        "outputId": "367440ad-0da4-48f7-999f-2c4266a902b4"
      },
      "outputs": [
        {
          "output_type": "stream",
          "name": "stdout",
          "text": [
            "Downloading coronahack-chest-xraydataset.zip to /content\n",
            "100% 1.19G/1.19G [01:04<00:00, 19.0MB/s]\n",
            "100% 1.19G/1.19G [01:04<00:00, 19.7MB/s]\n"
          ]
        }
      ],
      "source": [
        "!kaggle datasets download -d praveengovi/coronahack-chest-xraydataset --unzip"
      ]
    },
    {
      "cell_type": "code",
      "execution_count": null,
      "metadata": {
        "colab": {
          "base_uri": "https://localhost:8080/"
        },
        "id": "Le2RarTIKvD1",
        "outputId": "5628929d-5622-4478-f578-ec30e4d00c82"
      },
      "outputs": [
        {
          "output_type": "stream",
          "name": "stdout",
          "text": [
            "['Covid19_Negative', 'Covid19_Positive']\n"
          ]
        }
      ],
      "source": [
        "#importando as bibliotecas e os datasets que serão utilizados\n",
        "\n",
        "import pandas as pd\n",
        "import os\n",
        "import numpy as np\n",
        "\n",
        "datapath1='covid-chestxray-dataset-master'\n",
        "dataset_path='dataset'\n",
        "\n",
        "!mkdir -p {dataset_path}/Covid19_Negative\n",
        "!mkdir -p {dataset_path}/Covid19_Positive\n",
        "\n",
        "categories=os.listdir(dataset_path)\n",
        "print(categories)\n",
        "\n",
        "dataset=pd.read_csv(os.path.join(datapath1,'metadata.csv'))\n",
        "findings=dataset['finding']\n",
        "image_names=dataset['filename']"
      ]
    },
    {
      "cell_type": "code",
      "execution_count": null,
      "metadata": {
        "colab": {
          "base_uri": "https://localhost:8080/"
        },
        "id": "gLnZJecZ6Qy8",
        "outputId": "62000bd3-e54b-41a0-ebee-6721a4ccbad5"
      },
      "outputs": [
        {
          "output_type": "execute_result",
          "data": {
            "text/plain": [
              "0      Pneumonia/Viral/COVID-19\n",
              "1      Pneumonia/Viral/COVID-19\n",
              "2      Pneumonia/Viral/COVID-19\n",
              "3      Pneumonia/Viral/COVID-19\n",
              "4      Pneumonia/Viral/COVID-19\n",
              "                 ...           \n",
              "945                   Pneumonia\n",
              "946                   Pneumonia\n",
              "947                   Pneumonia\n",
              "948                   Pneumonia\n",
              "949                   Pneumonia\n",
              "Name: finding, Length: 950, dtype: object"
            ]
          },
          "metadata": {},
          "execution_count": 10
        }
      ],
      "source": [
        "findings"
      ]
    },
    {
      "cell_type": "code",
      "execution_count": null,
      "metadata": {
        "colab": {
          "base_uri": "https://localhost:8080/"
        },
        "id": "polydPOw6kxh",
        "outputId": "7c3bf1d7-a0c7-466e-8565-303419b71aaf"
      },
      "outputs": [
        {
          "output_type": "execute_result",
          "data": {
            "text/plain": [
              "pandas.core.series.Series"
            ]
          },
          "metadata": {},
          "execution_count": 11
        }
      ],
      "source": [
        "type(findings)"
      ]
    },
    {
      "cell_type": "code",
      "execution_count": null,
      "metadata": {
        "colab": {
          "base_uri": "https://localhost:8080/"
        },
        "id": "bzBxs88O6qaX",
        "outputId": "a12f8485-4cec-44f4-bcc5-068296627ab4"
      },
      "outputs": [
        {
          "output_type": "execute_result",
          "data": {
            "text/plain": [
              "0       True\n",
              "1       True\n",
              "2       True\n",
              "3       True\n",
              "4       True\n",
              "       ...  \n",
              "945    False\n",
              "946    False\n",
              "947    False\n",
              "948    False\n",
              "949    False\n",
              "Name: finding, Length: 950, dtype: bool"
            ]
          },
          "metadata": {},
          "execution_count": 12
        }
      ],
      "source": [
        "findings=='Pneumonia/Viral/COVID-19'"
      ]
    },
    {
      "cell_type": "code",
      "execution_count": null,
      "metadata": {
        "colab": {
          "base_uri": "https://localhost:8080/"
        },
        "id": "r1X76RDY7FPD",
        "outputId": "dfd46789-826d-4b8c-dde4-1e545f42b60e"
      },
      "outputs": [
        {
          "output_type": "execute_result",
          "data": {
            "text/plain": [
              "0      False\n",
              "1      False\n",
              "2      False\n",
              "3      False\n",
              "4      False\n",
              "       ...  \n",
              "945    False\n",
              "946    False\n",
              "947    False\n",
              "948    False\n",
              "949    False\n",
              "Name: finding, Length: 950, dtype: bool"
            ]
          },
          "metadata": {},
          "execution_count": 13
        }
      ],
      "source": [
        "findings=='Pneumonia/Viral/SARS'"
      ]
    },
    {
      "cell_type": "code",
      "execution_count": null,
      "metadata": {
        "id": "0ZW0fv0X7M7T"
      },
      "outputs": [],
      "source": [
        "positives_index=np.concatenate((np.where(findings=='Pneumonia/Viral/COVID-19')[0],np.where(findings=='Pneumonia/Viral/SARS')[0]))\n",
        "positive_image_names=image_names[positives_index]"
      ]
    },
    {
      "cell_type": "code",
      "execution_count": null,
      "metadata": {
        "colab": {
          "base_uri": "https://localhost:8080/"
        },
        "id": "szNVKQfM4aUv",
        "outputId": "f0606e4b-a953-456a-87ba-53ca428f5446"
      },
      "outputs": [
        {
          "output_type": "execute_result",
          "data": {
            "text/plain": [
              "array([  0,   1,   2,   3,   4,   5,   7,   8,  20,  21,  22,  23,  24,\n",
              "        25,  26,  27,  28,  29,  30,  31,  32,  33,  34,  35,  36,  37,\n",
              "        38,  39,  40,  41,  42,  43,  44,  45,  46,  47,  48,  49,  50,\n",
              "        51,  52,  53,  54,  55,  56,  57,  69,  70,  71,  72,  73,  74,\n",
              "        75,  76,  77,  78,  79,  80,  81,  82,  83,  84,  85,  88,  89,\n",
              "        90,  91,  92,  93,  94,  95,  96,  97,  98,  99, 100, 101, 102,\n",
              "       103, 104, 105, 106, 107, 108, 109, 110, 111, 112, 113, 114, 115,\n",
              "       116, 117, 118, 119, 120, 121, 122, 123, 124, 125, 126, 127, 128,\n",
              "       129, 130, 131, 132, 133, 134, 135, 136, 137, 138, 139, 140, 141,\n",
              "       142, 143, 144, 145, 146, 147, 148, 149, 150, 151, 152, 153, 154,\n",
              "       155, 156, 157, 158, 176, 177, 178, 179, 180, 181, 182, 183, 184,\n",
              "       185, 186, 187, 188, 189, 190, 191, 208, 209, 210, 211, 212, 213,\n",
              "       214, 215, 216, 217, 218, 219, 220, 221, 222, 223, 224, 225, 226,\n",
              "       227, 228, 229, 230, 231, 232, 233, 234, 235, 236, 237, 238, 239,\n",
              "       240, 241, 242, 243, 244, 245, 246, 247, 248, 249, 250, 251, 252,\n",
              "       253, 254, 255, 256, 257, 258, 259, 260, 261, 262, 263, 264, 265,\n",
              "       266, 267, 268, 269, 270, 271, 272, 273, 274, 275, 276, 277, 278,\n",
              "       279, 280, 281, 282, 283, 284, 285, 286, 287, 288, 289, 290, 291,\n",
              "       292, 293, 294, 295, 296, 297, 304, 305, 306, 307, 308, 309, 310,\n",
              "       311, 312, 313, 314, 315, 316, 317, 318, 319, 320, 321, 322, 323,\n",
              "       324, 325, 326, 327, 328, 329, 330, 331, 332, 333, 334, 335, 336,\n",
              "       337, 338, 339, 340, 341, 342, 343, 344, 345, 346, 347, 348, 349,\n",
              "       350, 351, 352, 353, 354, 355, 356, 357, 358, 359, 360, 361, 362,\n",
              "       363, 364, 365, 366, 367, 368, 369, 370, 371, 372, 373, 374, 375,\n",
              "       376, 377, 378, 379, 380, 381, 383, 384, 386, 387, 388, 389, 390,\n",
              "       391, 392, 394, 395, 396, 397, 398, 399, 400, 401, 402, 403, 404,\n",
              "       405, 407, 408, 409, 410, 411, 412, 415, 416, 417, 418, 420, 421,\n",
              "       422, 423, 424, 425, 426, 427, 428, 429, 430, 431, 432, 433, 434,\n",
              "       435, 436, 437, 438, 439, 440, 441, 442, 443, 444, 445, 446, 447,\n",
              "       448, 449, 450, 451, 452, 453, 454, 455, 456, 457, 458, 459, 460,\n",
              "       461, 462, 463, 464, 465, 466, 467, 468, 469, 470, 471, 473, 474,\n",
              "       475, 476, 478, 479, 480, 481, 482, 483, 484, 485, 486, 487, 488,\n",
              "       489, 490, 491, 492, 493, 494, 495, 496, 497, 498, 540, 541, 542,\n",
              "       543, 544, 545, 546, 547, 548, 549, 550, 551, 552, 553, 554, 555,\n",
              "       556, 557, 558, 559, 560, 561, 562, 563, 564, 565, 566, 567, 568,\n",
              "       569, 570, 571, 572, 573, 574, 575, 576, 577, 578, 579, 580, 581,\n",
              "       582, 583, 584, 585, 586, 588, 589, 590, 591, 592, 593, 595, 596,\n",
              "       598, 601, 602, 603, 604, 605, 606, 607, 608, 609, 610, 611, 612,\n",
              "       613, 614, 615, 617, 618, 619, 620, 621, 622, 623, 624, 625, 626,\n",
              "       627, 628, 629, 630, 631, 632, 633, 634, 635, 636, 642, 643, 644,\n",
              "       645, 646, 647, 648, 649, 650, 651, 652, 653, 654, 655, 656, 657,\n",
              "       658, 659, 660, 662, 663, 664, 665, 666, 667, 668, 669, 670, 671,\n",
              "       672, 673, 674, 675, 676, 677, 678, 679, 754, 808, 820, 821, 822,\n",
              "       823, 824, 825, 886, 887, 888, 889, 890, 891, 892, 893, 894, 909,\n",
              "       919, 930, 931, 932, 933, 934, 935, 936, 937, 938, 939, 940,   9,\n",
              "        10,  11,  12,  13,  14,  15,  16,  17,  18,  19, 298, 299, 300,\n",
              "       301, 302])"
            ]
          },
          "metadata": {},
          "execution_count": 15
        }
      ],
      "source": [
        "positives_index"
      ]
    },
    {
      "cell_type": "code",
      "execution_count": null,
      "metadata": {
        "colab": {
          "base_uri": "https://localhost:8080/"
        },
        "id": "KLY4Qs1dJCLq",
        "outputId": "d89760f7-9052-4d14-d38a-0dfa62c2ca28"
      },
      "outputs": [
        {
          "output_type": "execute_result",
          "data": {
            "text/plain": [
              "600"
            ]
          },
          "metadata": {},
          "execution_count": 16
        }
      ],
      "source": [
        "len(positives_index)"
      ]
    },
    {
      "cell_type": "code",
      "execution_count": null,
      "metadata": {
        "colab": {
          "base_uri": "https://localhost:8080/",
          "height": 35
        },
        "id": "-x7NvGWW7kgR",
        "outputId": "c4941ceb-0d2b-4610-b6e2-f5db77992ac8"
      },
      "outputs": [
        {
          "output_type": "execute_result",
          "data": {
            "text/plain": [
              "'Pneumonia/Viral/COVID-19'"
            ],
            "application/vnd.google.colaboratory.intrinsic+json": {
              "type": "string"
            }
          },
          "metadata": {},
          "execution_count": 17
        }
      ],
      "source": [
        "findings[887]"
      ]
    },
    {
      "cell_type": "code",
      "execution_count": null,
      "metadata": {
        "colab": {
          "base_uri": "https://localhost:8080/",
          "height": 35
        },
        "id": "vk4EdW-S7oga",
        "outputId": "19b0c4f3-0f2c-41a9-bb6c-8fc5126f5a6d"
      },
      "outputs": [
        {
          "output_type": "execute_result",
          "data": {
            "text/plain": [
              "'Pneumonia/Viral/SARS'"
            ],
            "application/vnd.google.colaboratory.intrinsic+json": {
              "type": "string"
            }
          },
          "metadata": {},
          "execution_count": 18
        }
      ],
      "source": [
        "findings[300]"
      ]
    },
    {
      "cell_type": "code",
      "execution_count": null,
      "metadata": {
        "colab": {
          "base_uri": "https://localhost:8080/"
        },
        "id": "-HdUpFwh8x6T",
        "outputId": "602c197c-0604-471b-ec68-d255e921f545"
      },
      "outputs": [
        {
          "output_type": "execute_result",
          "data": {
            "text/plain": [
              "['Covid19_Negative', 'Covid19_Positive']"
            ]
          },
          "metadata": {},
          "execution_count": 19
        }
      ],
      "source": [
        "categories"
      ]
    },
    {
      "cell_type": "code",
      "execution_count": null,
      "metadata": {
        "colab": {
          "base_uri": "https://localhost:8080/"
        },
        "id": "ymxXmbBQKvD4",
        "outputId": "6812479a-0c2a-40a7-8984-0c91dc157662"
      },
      "outputs": [
        {
          "output_type": "stream",
          "name": "stdout",
          "text": [
            "OpenCV(4.6.0) /io/opencv/modules/imgcodecs/src/loadsave.cpp:801: error: (-215:Assertion failed) !_img.empty() in function 'imwrite'\n",
            "\n",
            "OpenCV(4.6.0) /io/opencv/modules/imgcodecs/src/loadsave.cpp:801: error: (-215:Assertion failed) !_img.empty() in function 'imwrite'\n",
            "\n",
            "OpenCV(4.6.0) /io/opencv/modules/imgcodecs/src/loadsave.cpp:801: error: (-215:Assertion failed) !_img.empty() in function 'imwrite'\n",
            "\n",
            "OpenCV(4.6.0) /io/opencv/modules/imgcodecs/src/loadsave.cpp:801: error: (-215:Assertion failed) !_img.empty() in function 'imwrite'\n",
            "\n",
            "OpenCV(4.6.0) /io/opencv/modules/imgcodecs/src/loadsave.cpp:801: error: (-215:Assertion failed) !_img.empty() in function 'imwrite'\n",
            "\n",
            "OpenCV(4.6.0) /io/opencv/modules/imgcodecs/src/loadsave.cpp:801: error: (-215:Assertion failed) !_img.empty() in function 'imwrite'\n",
            "\n",
            "OpenCV(4.6.0) /io/opencv/modules/imgcodecs/src/loadsave.cpp:801: error: (-215:Assertion failed) !_img.empty() in function 'imwrite'\n",
            "\n",
            "OpenCV(4.6.0) /io/opencv/modules/imgcodecs/src/loadsave.cpp:801: error: (-215:Assertion failed) !_img.empty() in function 'imwrite'\n",
            "\n",
            "OpenCV(4.6.0) /io/opencv/modules/imgcodecs/src/loadsave.cpp:801: error: (-215:Assertion failed) !_img.empty() in function 'imwrite'\n",
            "\n",
            "OpenCV(4.6.0) /io/opencv/modules/imgcodecs/src/loadsave.cpp:801: error: (-215:Assertion failed) !_img.empty() in function 'imwrite'\n",
            "\n",
            "OpenCV(4.6.0) /io/opencv/modules/imgcodecs/src/loadsave.cpp:801: error: (-215:Assertion failed) !_img.empty() in function 'imwrite'\n",
            "\n",
            "OpenCV(4.6.0) /io/opencv/modules/imgcodecs/src/loadsave.cpp:801: error: (-215:Assertion failed) !_img.empty() in function 'imwrite'\n",
            "\n",
            "OpenCV(4.6.0) /io/opencv/modules/imgcodecs/src/loadsave.cpp:801: error: (-215:Assertion failed) !_img.empty() in function 'imwrite'\n",
            "\n",
            "OpenCV(4.6.0) /io/opencv/modules/imgcodecs/src/loadsave.cpp:801: error: (-215:Assertion failed) !_img.empty() in function 'imwrite'\n",
            "\n",
            "OpenCV(4.6.0) /io/opencv/modules/imgcodecs/src/loadsave.cpp:801: error: (-215:Assertion failed) !_img.empty() in function 'imwrite'\n",
            "\n",
            "OpenCV(4.6.0) /io/opencv/modules/imgcodecs/src/loadsave.cpp:801: error: (-215:Assertion failed) !_img.empty() in function 'imwrite'\n",
            "\n",
            "OpenCV(4.6.0) /io/opencv/modules/imgcodecs/src/loadsave.cpp:801: error: (-215:Assertion failed) !_img.empty() in function 'imwrite'\n",
            "\n",
            "OpenCV(4.6.0) /io/opencv/modules/imgcodecs/src/loadsave.cpp:801: error: (-215:Assertion failed) !_img.empty() in function 'imwrite'\n",
            "\n",
            "OpenCV(4.6.0) /io/opencv/modules/imgcodecs/src/loadsave.cpp:801: error: (-215:Assertion failed) !_img.empty() in function 'imwrite'\n",
            "\n",
            "OpenCV(4.6.0) /io/opencv/modules/imgcodecs/src/loadsave.cpp:801: error: (-215:Assertion failed) !_img.empty() in function 'imwrite'\n",
            "\n",
            "OpenCV(4.6.0) /io/opencv/modules/imgcodecs/src/loadsave.cpp:801: error: (-215:Assertion failed) !_img.empty() in function 'imwrite'\n",
            "\n"
          ]
        }
      ],
      "source": [
        "import cv2\n",
        "\n",
        "for positive_image_name in positive_image_names:\n",
        "    image=cv2.imread(os.path.join(datapath1,'images',positive_image_name))\n",
        "    try:\n",
        "        cv2.imwrite(os.path.join(dataset_path,categories[0],positive_image_name),image)\n",
        "    except Exception as e:\n",
        "        print(e)"
      ]
    },
    {
      "cell_type": "code",
      "execution_count": null,
      "metadata": {
        "id": "tgrIz_C_wlSW"
      },
      "outputs": [],
      "source": [
        "dataset=pd.read_csv('Chest_xray_Corona_Metadata.csv')"
      ]
    },
    {
      "cell_type": "code",
      "execution_count": null,
      "metadata": {
        "colab": {
          "base_uri": "https://localhost:8080/",
          "height": 424
        },
        "id": "dW2C-nRyAOO_",
        "outputId": "eec58c64-ccec-422a-9473-3fca0f81ed2c"
      },
      "outputs": [
        {
          "output_type": "execute_result",
          "data": {
            "text/plain": [
              "      Unnamed: 0            X_ray_image_name     Label Dataset_type  \\\n",
              "0              0           IM-0128-0001.jpeg    Normal        TRAIN   \n",
              "1              1           IM-0127-0001.jpeg    Normal        TRAIN   \n",
              "2              2           IM-0125-0001.jpeg    Normal        TRAIN   \n",
              "3              3           IM-0122-0001.jpeg    Normal        TRAIN   \n",
              "4              4           IM-0119-0001.jpeg    Normal        TRAIN   \n",
              "...          ...                         ...       ...          ...   \n",
              "5905        5928  person1637_virus_2834.jpeg  Pnemonia         TEST   \n",
              "5906        5929  person1635_virus_2831.jpeg  Pnemonia         TEST   \n",
              "5907        5930  person1634_virus_2830.jpeg  Pnemonia         TEST   \n",
              "5908        5931  person1633_virus_2829.jpeg  Pnemonia         TEST   \n",
              "5909        5932  person1632_virus_2827.jpeg  Pnemonia         TEST   \n",
              "\n",
              "     Label_2_Virus_category Label_1_Virus_category  \n",
              "0                       NaN                    NaN  \n",
              "1                       NaN                    NaN  \n",
              "2                       NaN                    NaN  \n",
              "3                       NaN                    NaN  \n",
              "4                       NaN                    NaN  \n",
              "...                     ...                    ...  \n",
              "5905                    NaN                  Virus  \n",
              "5906                    NaN                  Virus  \n",
              "5907                    NaN                  Virus  \n",
              "5908                    NaN                  Virus  \n",
              "5909                    NaN                  Virus  \n",
              "\n",
              "[5910 rows x 6 columns]"
            ],
            "text/html": [
              "\n",
              "  <div id=\"df-698f55ef-0af3-4dfa-937c-8571e378ec97\">\n",
              "    <div class=\"colab-df-container\">\n",
              "      <div>\n",
              "<style scoped>\n",
              "    .dataframe tbody tr th:only-of-type {\n",
              "        vertical-align: middle;\n",
              "    }\n",
              "\n",
              "    .dataframe tbody tr th {\n",
              "        vertical-align: top;\n",
              "    }\n",
              "\n",
              "    .dataframe thead th {\n",
              "        text-align: right;\n",
              "    }\n",
              "</style>\n",
              "<table border=\"1\" class=\"dataframe\">\n",
              "  <thead>\n",
              "    <tr style=\"text-align: right;\">\n",
              "      <th></th>\n",
              "      <th>Unnamed: 0</th>\n",
              "      <th>X_ray_image_name</th>\n",
              "      <th>Label</th>\n",
              "      <th>Dataset_type</th>\n",
              "      <th>Label_2_Virus_category</th>\n",
              "      <th>Label_1_Virus_category</th>\n",
              "    </tr>\n",
              "  </thead>\n",
              "  <tbody>\n",
              "    <tr>\n",
              "      <th>0</th>\n",
              "      <td>0</td>\n",
              "      <td>IM-0128-0001.jpeg</td>\n",
              "      <td>Normal</td>\n",
              "      <td>TRAIN</td>\n",
              "      <td>NaN</td>\n",
              "      <td>NaN</td>\n",
              "    </tr>\n",
              "    <tr>\n",
              "      <th>1</th>\n",
              "      <td>1</td>\n",
              "      <td>IM-0127-0001.jpeg</td>\n",
              "      <td>Normal</td>\n",
              "      <td>TRAIN</td>\n",
              "      <td>NaN</td>\n",
              "      <td>NaN</td>\n",
              "    </tr>\n",
              "    <tr>\n",
              "      <th>2</th>\n",
              "      <td>2</td>\n",
              "      <td>IM-0125-0001.jpeg</td>\n",
              "      <td>Normal</td>\n",
              "      <td>TRAIN</td>\n",
              "      <td>NaN</td>\n",
              "      <td>NaN</td>\n",
              "    </tr>\n",
              "    <tr>\n",
              "      <th>3</th>\n",
              "      <td>3</td>\n",
              "      <td>IM-0122-0001.jpeg</td>\n",
              "      <td>Normal</td>\n",
              "      <td>TRAIN</td>\n",
              "      <td>NaN</td>\n",
              "      <td>NaN</td>\n",
              "    </tr>\n",
              "    <tr>\n",
              "      <th>4</th>\n",
              "      <td>4</td>\n",
              "      <td>IM-0119-0001.jpeg</td>\n",
              "      <td>Normal</td>\n",
              "      <td>TRAIN</td>\n",
              "      <td>NaN</td>\n",
              "      <td>NaN</td>\n",
              "    </tr>\n",
              "    <tr>\n",
              "      <th>...</th>\n",
              "      <td>...</td>\n",
              "      <td>...</td>\n",
              "      <td>...</td>\n",
              "      <td>...</td>\n",
              "      <td>...</td>\n",
              "      <td>...</td>\n",
              "    </tr>\n",
              "    <tr>\n",
              "      <th>5905</th>\n",
              "      <td>5928</td>\n",
              "      <td>person1637_virus_2834.jpeg</td>\n",
              "      <td>Pnemonia</td>\n",
              "      <td>TEST</td>\n",
              "      <td>NaN</td>\n",
              "      <td>Virus</td>\n",
              "    </tr>\n",
              "    <tr>\n",
              "      <th>5906</th>\n",
              "      <td>5929</td>\n",
              "      <td>person1635_virus_2831.jpeg</td>\n",
              "      <td>Pnemonia</td>\n",
              "      <td>TEST</td>\n",
              "      <td>NaN</td>\n",
              "      <td>Virus</td>\n",
              "    </tr>\n",
              "    <tr>\n",
              "      <th>5907</th>\n",
              "      <td>5930</td>\n",
              "      <td>person1634_virus_2830.jpeg</td>\n",
              "      <td>Pnemonia</td>\n",
              "      <td>TEST</td>\n",
              "      <td>NaN</td>\n",
              "      <td>Virus</td>\n",
              "    </tr>\n",
              "    <tr>\n",
              "      <th>5908</th>\n",
              "      <td>5931</td>\n",
              "      <td>person1633_virus_2829.jpeg</td>\n",
              "      <td>Pnemonia</td>\n",
              "      <td>TEST</td>\n",
              "      <td>NaN</td>\n",
              "      <td>Virus</td>\n",
              "    </tr>\n",
              "    <tr>\n",
              "      <th>5909</th>\n",
              "      <td>5932</td>\n",
              "      <td>person1632_virus_2827.jpeg</td>\n",
              "      <td>Pnemonia</td>\n",
              "      <td>TEST</td>\n",
              "      <td>NaN</td>\n",
              "      <td>Virus</td>\n",
              "    </tr>\n",
              "  </tbody>\n",
              "</table>\n",
              "<p>5910 rows × 6 columns</p>\n",
              "</div>\n",
              "      <button class=\"colab-df-convert\" onclick=\"convertToInteractive('df-698f55ef-0af3-4dfa-937c-8571e378ec97')\"\n",
              "              title=\"Convert this dataframe to an interactive table.\"\n",
              "              style=\"display:none;\">\n",
              "        \n",
              "  <svg xmlns=\"http://www.w3.org/2000/svg\" height=\"24px\"viewBox=\"0 0 24 24\"\n",
              "       width=\"24px\">\n",
              "    <path d=\"M0 0h24v24H0V0z\" fill=\"none\"/>\n",
              "    <path d=\"M18.56 5.44l.94 2.06.94-2.06 2.06-.94-2.06-.94-.94-2.06-.94 2.06-2.06.94zm-11 1L8.5 8.5l.94-2.06 2.06-.94-2.06-.94L8.5 2.5l-.94 2.06-2.06.94zm10 10l.94 2.06.94-2.06 2.06-.94-2.06-.94-.94-2.06-.94 2.06-2.06.94z\"/><path d=\"M17.41 7.96l-1.37-1.37c-.4-.4-.92-.59-1.43-.59-.52 0-1.04.2-1.43.59L10.3 9.45l-7.72 7.72c-.78.78-.78 2.05 0 2.83L4 21.41c.39.39.9.59 1.41.59.51 0 1.02-.2 1.41-.59l7.78-7.78 2.81-2.81c.8-.78.8-2.07 0-2.86zM5.41 20L4 18.59l7.72-7.72 1.47 1.35L5.41 20z\"/>\n",
              "  </svg>\n",
              "      </button>\n",
              "      \n",
              "  <style>\n",
              "    .colab-df-container {\n",
              "      display:flex;\n",
              "      flex-wrap:wrap;\n",
              "      gap: 12px;\n",
              "    }\n",
              "\n",
              "    .colab-df-convert {\n",
              "      background-color: #E8F0FE;\n",
              "      border: none;\n",
              "      border-radius: 50%;\n",
              "      cursor: pointer;\n",
              "      display: none;\n",
              "      fill: #1967D2;\n",
              "      height: 32px;\n",
              "      padding: 0 0 0 0;\n",
              "      width: 32px;\n",
              "    }\n",
              "\n",
              "    .colab-df-convert:hover {\n",
              "      background-color: #E2EBFA;\n",
              "      box-shadow: 0px 1px 2px rgba(60, 64, 67, 0.3), 0px 1px 3px 1px rgba(60, 64, 67, 0.15);\n",
              "      fill: #174EA6;\n",
              "    }\n",
              "\n",
              "    [theme=dark] .colab-df-convert {\n",
              "      background-color: #3B4455;\n",
              "      fill: #D2E3FC;\n",
              "    }\n",
              "\n",
              "    [theme=dark] .colab-df-convert:hover {\n",
              "      background-color: #434B5C;\n",
              "      box-shadow: 0px 1px 3px 1px rgba(0, 0, 0, 0.15);\n",
              "      filter: drop-shadow(0px 1px 2px rgba(0, 0, 0, 0.3));\n",
              "      fill: #FFFFFF;\n",
              "    }\n",
              "  </style>\n",
              "\n",
              "      <script>\n",
              "        const buttonEl =\n",
              "          document.querySelector('#df-698f55ef-0af3-4dfa-937c-8571e378ec97 button.colab-df-convert');\n",
              "        buttonEl.style.display =\n",
              "          google.colab.kernel.accessAllowed ? 'block' : 'none';\n",
              "\n",
              "        async function convertToInteractive(key) {\n",
              "          const element = document.querySelector('#df-698f55ef-0af3-4dfa-937c-8571e378ec97');\n",
              "          const dataTable =\n",
              "            await google.colab.kernel.invokeFunction('convertToInteractive',\n",
              "                                                     [key], {});\n",
              "          if (!dataTable) return;\n",
              "\n",
              "          const docLinkHtml = 'Like what you see? Visit the ' +\n",
              "            '<a target=\"_blank\" href=https://colab.research.google.com/notebooks/data_table.ipynb>data table notebook</a>'\n",
              "            + ' to learn more about interactive tables.';\n",
              "          element.innerHTML = '';\n",
              "          dataTable['output_type'] = 'display_data';\n",
              "          await google.colab.output.renderOutput(dataTable, element);\n",
              "          const docLink = document.createElement('div');\n",
              "          docLink.innerHTML = docLinkHtml;\n",
              "          element.appendChild(docLink);\n",
              "        }\n",
              "      </script>\n",
              "    </div>\n",
              "  </div>\n",
              "  "
            ]
          },
          "metadata": {},
          "execution_count": 22
        }
      ],
      "source": [
        "dataset"
      ]
    },
    {
      "cell_type": "code",
      "execution_count": null,
      "metadata": {
        "id": "f8vQPw6vD0va"
      },
      "outputs": [],
      "source": [
        "dataset_train = dataset[ (dataset['Label']=='Normal') & (dataset['Dataset_type']=='TRAIN') ]"
      ]
    },
    {
      "cell_type": "code",
      "execution_count": null,
      "metadata": {
        "id": "hgkJuKrxEsba"
      },
      "outputs": [],
      "source": [
        "dataset_test = dataset[ (dataset['Label']=='Normal') & (dataset['Dataset_type']=='TEST') ]"
      ]
    },
    {
      "cell_type": "code",
      "execution_count": null,
      "metadata": {
        "id": "vx-UP0fwU6dS"
      },
      "outputs": [],
      "source": [
        "findings=dataset['Label']\n",
        "image_names=dataset['X_ray_image_name']"
      ]
    },
    {
      "cell_type": "code",
      "execution_count": null,
      "metadata": {
        "id": "MHzD5xXBFIcv"
      },
      "outputs": [],
      "source": [
        "findings_train=dataset_train['Label']\n",
        "image_names_train=dataset_train['X_ray_image_name']\n",
        "findings_test=dataset_test['Label']\n",
        "image_names_test=dataset_test['X_ray_image_name']"
      ]
    },
    {
      "cell_type": "code",
      "execution_count": null,
      "metadata": {
        "id": "gcDt44wjKvD5"
      },
      "outputs": [],
      "source": [
        "negative_index_dataset_type_train=np.where(findings_train=='Normal')[0]\n",
        "negative_index_dataset_type_test=np.where(findings_test=='Normal')[0]"
      ]
    },
    {
      "cell_type": "code",
      "execution_count": null,
      "metadata": {
        "id": "r6An2dmKKvD5"
      },
      "outputs": [],
      "source": [
        "negative_image_names_dataset_type_train=image_names[negative_index_dataset_type_train]\n",
        "negative_image_names_dataset_type_test=image_names[negative_index_dataset_type_test]"
      ]
    },
    {
      "cell_type": "code",
      "execution_count": null,
      "metadata": {
        "colab": {
          "base_uri": "https://localhost:8080/"
        },
        "id": "vJagolJX97gu",
        "outputId": "182da031-2536-4f80-d83d-2a27deaffee1"
      },
      "outputs": [
        {
          "output_type": "execute_result",
          "data": {
            "text/plain": [
              "['Covid19_Negative', 'Covid19_Positive']"
            ]
          },
          "metadata": {},
          "execution_count": 29
        }
      ],
      "source": [
        "categories"
      ]
    },
    {
      "cell_type": "code",
      "execution_count": null,
      "metadata": {
        "id": "sBgLPYPg_-qU"
      },
      "outputs": [],
      "source": [
        "datapath2='Coronahack-Chest-XRay-Dataset/Coronahack-Chest-XRay-Dataset/'"
      ]
    },
    {
      "cell_type": "code",
      "execution_count": null,
      "metadata": {
        "id": "lM-n4hCiCuDb"
      },
      "outputs": [],
      "source": [
        "for negative_image_name in negative_image_names_dataset_type_train:\n",
        "    image=cv2.imread(os.path.join(datapath2,'train',negative_image_name))\n",
        "    try:\n",
        "        cv2.imwrite(os.path.join(dataset_path,categories[1],negative_image_name),image)\n",
        "    except Exception as e:\n",
        "        print(e)"
      ]
    },
    {
      "cell_type": "code",
      "execution_count": null,
      "metadata": {
        "colab": {
          "base_uri": "https://localhost:8080/"
        },
        "id": "R-y4v1Kfw7xm",
        "outputId": "03952ee2-ad7a-423f-afec-9bf2d667bd07"
      },
      "outputs": [
        {
          "output_type": "stream",
          "name": "stdout",
          "text": [
            "OpenCV(4.6.0) /io/opencv/modules/imgcodecs/src/loadsave.cpp:801: error: (-215:Assertion failed) !_img.empty() in function 'imwrite'\n",
            "\n",
            "OpenCV(4.6.0) /io/opencv/modules/imgcodecs/src/loadsave.cpp:801: error: (-215:Assertion failed) !_img.empty() in function 'imwrite'\n",
            "\n",
            "OpenCV(4.6.0) /io/opencv/modules/imgcodecs/src/loadsave.cpp:801: error: (-215:Assertion failed) !_img.empty() in function 'imwrite'\n",
            "\n",
            "OpenCV(4.6.0) /io/opencv/modules/imgcodecs/src/loadsave.cpp:801: error: (-215:Assertion failed) !_img.empty() in function 'imwrite'\n",
            "\n",
            "OpenCV(4.6.0) /io/opencv/modules/imgcodecs/src/loadsave.cpp:801: error: (-215:Assertion failed) !_img.empty() in function 'imwrite'\n",
            "\n",
            "OpenCV(4.6.0) /io/opencv/modules/imgcodecs/src/loadsave.cpp:801: error: (-215:Assertion failed) !_img.empty() in function 'imwrite'\n",
            "\n",
            "OpenCV(4.6.0) /io/opencv/modules/imgcodecs/src/loadsave.cpp:801: error: (-215:Assertion failed) !_img.empty() in function 'imwrite'\n",
            "\n",
            "OpenCV(4.6.0) /io/opencv/modules/imgcodecs/src/loadsave.cpp:801: error: (-215:Assertion failed) !_img.empty() in function 'imwrite'\n",
            "\n",
            "OpenCV(4.6.0) /io/opencv/modules/imgcodecs/src/loadsave.cpp:801: error: (-215:Assertion failed) !_img.empty() in function 'imwrite'\n",
            "\n",
            "OpenCV(4.6.0) /io/opencv/modules/imgcodecs/src/loadsave.cpp:801: error: (-215:Assertion failed) !_img.empty() in function 'imwrite'\n",
            "\n",
            "OpenCV(4.6.0) /io/opencv/modules/imgcodecs/src/loadsave.cpp:801: error: (-215:Assertion failed) !_img.empty() in function 'imwrite'\n",
            "\n",
            "OpenCV(4.6.0) /io/opencv/modules/imgcodecs/src/loadsave.cpp:801: error: (-215:Assertion failed) !_img.empty() in function 'imwrite'\n",
            "\n",
            "OpenCV(4.6.0) /io/opencv/modules/imgcodecs/src/loadsave.cpp:801: error: (-215:Assertion failed) !_img.empty() in function 'imwrite'\n",
            "\n",
            "OpenCV(4.6.0) /io/opencv/modules/imgcodecs/src/loadsave.cpp:801: error: (-215:Assertion failed) !_img.empty() in function 'imwrite'\n",
            "\n",
            "OpenCV(4.6.0) /io/opencv/modules/imgcodecs/src/loadsave.cpp:801: error: (-215:Assertion failed) !_img.empty() in function 'imwrite'\n",
            "\n",
            "OpenCV(4.6.0) /io/opencv/modules/imgcodecs/src/loadsave.cpp:801: error: (-215:Assertion failed) !_img.empty() in function 'imwrite'\n",
            "\n",
            "OpenCV(4.6.0) /io/opencv/modules/imgcodecs/src/loadsave.cpp:801: error: (-215:Assertion failed) !_img.empty() in function 'imwrite'\n",
            "\n",
            "OpenCV(4.6.0) /io/opencv/modules/imgcodecs/src/loadsave.cpp:801: error: (-215:Assertion failed) !_img.empty() in function 'imwrite'\n",
            "\n",
            "OpenCV(4.6.0) /io/opencv/modules/imgcodecs/src/loadsave.cpp:801: error: (-215:Assertion failed) !_img.empty() in function 'imwrite'\n",
            "\n",
            "OpenCV(4.6.0) /io/opencv/modules/imgcodecs/src/loadsave.cpp:801: error: (-215:Assertion failed) !_img.empty() in function 'imwrite'\n",
            "\n",
            "OpenCV(4.6.0) /io/opencv/modules/imgcodecs/src/loadsave.cpp:801: error: (-215:Assertion failed) !_img.empty() in function 'imwrite'\n",
            "\n",
            "OpenCV(4.6.0) /io/opencv/modules/imgcodecs/src/loadsave.cpp:801: error: (-215:Assertion failed) !_img.empty() in function 'imwrite'\n",
            "\n",
            "OpenCV(4.6.0) /io/opencv/modules/imgcodecs/src/loadsave.cpp:801: error: (-215:Assertion failed) !_img.empty() in function 'imwrite'\n",
            "\n",
            "OpenCV(4.6.0) /io/opencv/modules/imgcodecs/src/loadsave.cpp:801: error: (-215:Assertion failed) !_img.empty() in function 'imwrite'\n",
            "\n",
            "OpenCV(4.6.0) /io/opencv/modules/imgcodecs/src/loadsave.cpp:801: error: (-215:Assertion failed) !_img.empty() in function 'imwrite'\n",
            "\n",
            "OpenCV(4.6.0) /io/opencv/modules/imgcodecs/src/loadsave.cpp:801: error: (-215:Assertion failed) !_img.empty() in function 'imwrite'\n",
            "\n",
            "OpenCV(4.6.0) /io/opencv/modules/imgcodecs/src/loadsave.cpp:801: error: (-215:Assertion failed) !_img.empty() in function 'imwrite'\n",
            "\n",
            "OpenCV(4.6.0) /io/opencv/modules/imgcodecs/src/loadsave.cpp:801: error: (-215:Assertion failed) !_img.empty() in function 'imwrite'\n",
            "\n",
            "OpenCV(4.6.0) /io/opencv/modules/imgcodecs/src/loadsave.cpp:801: error: (-215:Assertion failed) !_img.empty() in function 'imwrite'\n",
            "\n",
            "OpenCV(4.6.0) /io/opencv/modules/imgcodecs/src/loadsave.cpp:801: error: (-215:Assertion failed) !_img.empty() in function 'imwrite'\n",
            "\n",
            "OpenCV(4.6.0) /io/opencv/modules/imgcodecs/src/loadsave.cpp:801: error: (-215:Assertion failed) !_img.empty() in function 'imwrite'\n",
            "\n",
            "OpenCV(4.6.0) /io/opencv/modules/imgcodecs/src/loadsave.cpp:801: error: (-215:Assertion failed) !_img.empty() in function 'imwrite'\n",
            "\n",
            "OpenCV(4.6.0) /io/opencv/modules/imgcodecs/src/loadsave.cpp:801: error: (-215:Assertion failed) !_img.empty() in function 'imwrite'\n",
            "\n",
            "OpenCV(4.6.0) /io/opencv/modules/imgcodecs/src/loadsave.cpp:801: error: (-215:Assertion failed) !_img.empty() in function 'imwrite'\n",
            "\n",
            "OpenCV(4.6.0) /io/opencv/modules/imgcodecs/src/loadsave.cpp:801: error: (-215:Assertion failed) !_img.empty() in function 'imwrite'\n",
            "\n",
            "OpenCV(4.6.0) /io/opencv/modules/imgcodecs/src/loadsave.cpp:801: error: (-215:Assertion failed) !_img.empty() in function 'imwrite'\n",
            "\n",
            "OpenCV(4.6.0) /io/opencv/modules/imgcodecs/src/loadsave.cpp:801: error: (-215:Assertion failed) !_img.empty() in function 'imwrite'\n",
            "\n",
            "OpenCV(4.6.0) /io/opencv/modules/imgcodecs/src/loadsave.cpp:801: error: (-215:Assertion failed) !_img.empty() in function 'imwrite'\n",
            "\n",
            "OpenCV(4.6.0) /io/opencv/modules/imgcodecs/src/loadsave.cpp:801: error: (-215:Assertion failed) !_img.empty() in function 'imwrite'\n",
            "\n",
            "OpenCV(4.6.0) /io/opencv/modules/imgcodecs/src/loadsave.cpp:801: error: (-215:Assertion failed) !_img.empty() in function 'imwrite'\n",
            "\n",
            "OpenCV(4.6.0) /io/opencv/modules/imgcodecs/src/loadsave.cpp:801: error: (-215:Assertion failed) !_img.empty() in function 'imwrite'\n",
            "\n",
            "OpenCV(4.6.0) /io/opencv/modules/imgcodecs/src/loadsave.cpp:801: error: (-215:Assertion failed) !_img.empty() in function 'imwrite'\n",
            "\n",
            "OpenCV(4.6.0) /io/opencv/modules/imgcodecs/src/loadsave.cpp:801: error: (-215:Assertion failed) !_img.empty() in function 'imwrite'\n",
            "\n",
            "OpenCV(4.6.0) /io/opencv/modules/imgcodecs/src/loadsave.cpp:801: error: (-215:Assertion failed) !_img.empty() in function 'imwrite'\n",
            "\n",
            "OpenCV(4.6.0) /io/opencv/modules/imgcodecs/src/loadsave.cpp:801: error: (-215:Assertion failed) !_img.empty() in function 'imwrite'\n",
            "\n",
            "OpenCV(4.6.0) /io/opencv/modules/imgcodecs/src/loadsave.cpp:801: error: (-215:Assertion failed) !_img.empty() in function 'imwrite'\n",
            "\n",
            "OpenCV(4.6.0) /io/opencv/modules/imgcodecs/src/loadsave.cpp:801: error: (-215:Assertion failed) !_img.empty() in function 'imwrite'\n",
            "\n",
            "OpenCV(4.6.0) /io/opencv/modules/imgcodecs/src/loadsave.cpp:801: error: (-215:Assertion failed) !_img.empty() in function 'imwrite'\n",
            "\n",
            "OpenCV(4.6.0) /io/opencv/modules/imgcodecs/src/loadsave.cpp:801: error: (-215:Assertion failed) !_img.empty() in function 'imwrite'\n",
            "\n",
            "OpenCV(4.6.0) /io/opencv/modules/imgcodecs/src/loadsave.cpp:801: error: (-215:Assertion failed) !_img.empty() in function 'imwrite'\n",
            "\n",
            "OpenCV(4.6.0) /io/opencv/modules/imgcodecs/src/loadsave.cpp:801: error: (-215:Assertion failed) !_img.empty() in function 'imwrite'\n",
            "\n",
            "OpenCV(4.6.0) /io/opencv/modules/imgcodecs/src/loadsave.cpp:801: error: (-215:Assertion failed) !_img.empty() in function 'imwrite'\n",
            "\n",
            "OpenCV(4.6.0) /io/opencv/modules/imgcodecs/src/loadsave.cpp:801: error: (-215:Assertion failed) !_img.empty() in function 'imwrite'\n",
            "\n",
            "OpenCV(4.6.0) /io/opencv/modules/imgcodecs/src/loadsave.cpp:801: error: (-215:Assertion failed) !_img.empty() in function 'imwrite'\n",
            "\n",
            "OpenCV(4.6.0) /io/opencv/modules/imgcodecs/src/loadsave.cpp:801: error: (-215:Assertion failed) !_img.empty() in function 'imwrite'\n",
            "\n",
            "OpenCV(4.6.0) /io/opencv/modules/imgcodecs/src/loadsave.cpp:801: error: (-215:Assertion failed) !_img.empty() in function 'imwrite'\n",
            "\n",
            "OpenCV(4.6.0) /io/opencv/modules/imgcodecs/src/loadsave.cpp:801: error: (-215:Assertion failed) !_img.empty() in function 'imwrite'\n",
            "\n",
            "OpenCV(4.6.0) /io/opencv/modules/imgcodecs/src/loadsave.cpp:801: error: (-215:Assertion failed) !_img.empty() in function 'imwrite'\n",
            "\n",
            "OpenCV(4.6.0) /io/opencv/modules/imgcodecs/src/loadsave.cpp:801: error: (-215:Assertion failed) !_img.empty() in function 'imwrite'\n",
            "\n",
            "OpenCV(4.6.0) /io/opencv/modules/imgcodecs/src/loadsave.cpp:801: error: (-215:Assertion failed) !_img.empty() in function 'imwrite'\n",
            "\n",
            "OpenCV(4.6.0) /io/opencv/modules/imgcodecs/src/loadsave.cpp:801: error: (-215:Assertion failed) !_img.empty() in function 'imwrite'\n",
            "\n",
            "OpenCV(4.6.0) /io/opencv/modules/imgcodecs/src/loadsave.cpp:801: error: (-215:Assertion failed) !_img.empty() in function 'imwrite'\n",
            "\n",
            "OpenCV(4.6.0) /io/opencv/modules/imgcodecs/src/loadsave.cpp:801: error: (-215:Assertion failed) !_img.empty() in function 'imwrite'\n",
            "\n",
            "OpenCV(4.6.0) /io/opencv/modules/imgcodecs/src/loadsave.cpp:801: error: (-215:Assertion failed) !_img.empty() in function 'imwrite'\n",
            "\n",
            "OpenCV(4.6.0) /io/opencv/modules/imgcodecs/src/loadsave.cpp:801: error: (-215:Assertion failed) !_img.empty() in function 'imwrite'\n",
            "\n",
            "OpenCV(4.6.0) /io/opencv/modules/imgcodecs/src/loadsave.cpp:801: error: (-215:Assertion failed) !_img.empty() in function 'imwrite'\n",
            "\n",
            "OpenCV(4.6.0) /io/opencv/modules/imgcodecs/src/loadsave.cpp:801: error: (-215:Assertion failed) !_img.empty() in function 'imwrite'\n",
            "\n",
            "OpenCV(4.6.0) /io/opencv/modules/imgcodecs/src/loadsave.cpp:801: error: (-215:Assertion failed) !_img.empty() in function 'imwrite'\n",
            "\n",
            "OpenCV(4.6.0) /io/opencv/modules/imgcodecs/src/loadsave.cpp:801: error: (-215:Assertion failed) !_img.empty() in function 'imwrite'\n",
            "\n",
            "OpenCV(4.6.0) /io/opencv/modules/imgcodecs/src/loadsave.cpp:801: error: (-215:Assertion failed) !_img.empty() in function 'imwrite'\n",
            "\n",
            "OpenCV(4.6.0) /io/opencv/modules/imgcodecs/src/loadsave.cpp:801: error: (-215:Assertion failed) !_img.empty() in function 'imwrite'\n",
            "\n",
            "OpenCV(4.6.0) /io/opencv/modules/imgcodecs/src/loadsave.cpp:801: error: (-215:Assertion failed) !_img.empty() in function 'imwrite'\n",
            "\n",
            "OpenCV(4.6.0) /io/opencv/modules/imgcodecs/src/loadsave.cpp:801: error: (-215:Assertion failed) !_img.empty() in function 'imwrite'\n",
            "\n",
            "OpenCV(4.6.0) /io/opencv/modules/imgcodecs/src/loadsave.cpp:801: error: (-215:Assertion failed) !_img.empty() in function 'imwrite'\n",
            "\n",
            "OpenCV(4.6.0) /io/opencv/modules/imgcodecs/src/loadsave.cpp:801: error: (-215:Assertion failed) !_img.empty() in function 'imwrite'\n",
            "\n",
            "OpenCV(4.6.0) /io/opencv/modules/imgcodecs/src/loadsave.cpp:801: error: (-215:Assertion failed) !_img.empty() in function 'imwrite'\n",
            "\n",
            "OpenCV(4.6.0) /io/opencv/modules/imgcodecs/src/loadsave.cpp:801: error: (-215:Assertion failed) !_img.empty() in function 'imwrite'\n",
            "\n",
            "OpenCV(4.6.0) /io/opencv/modules/imgcodecs/src/loadsave.cpp:801: error: (-215:Assertion failed) !_img.empty() in function 'imwrite'\n",
            "\n",
            "OpenCV(4.6.0) /io/opencv/modules/imgcodecs/src/loadsave.cpp:801: error: (-215:Assertion failed) !_img.empty() in function 'imwrite'\n",
            "\n",
            "OpenCV(4.6.0) /io/opencv/modules/imgcodecs/src/loadsave.cpp:801: error: (-215:Assertion failed) !_img.empty() in function 'imwrite'\n",
            "\n",
            "OpenCV(4.6.0) /io/opencv/modules/imgcodecs/src/loadsave.cpp:801: error: (-215:Assertion failed) !_img.empty() in function 'imwrite'\n",
            "\n",
            "OpenCV(4.6.0) /io/opencv/modules/imgcodecs/src/loadsave.cpp:801: error: (-215:Assertion failed) !_img.empty() in function 'imwrite'\n",
            "\n",
            "OpenCV(4.6.0) /io/opencv/modules/imgcodecs/src/loadsave.cpp:801: error: (-215:Assertion failed) !_img.empty() in function 'imwrite'\n",
            "\n",
            "OpenCV(4.6.0) /io/opencv/modules/imgcodecs/src/loadsave.cpp:801: error: (-215:Assertion failed) !_img.empty() in function 'imwrite'\n",
            "\n",
            "OpenCV(4.6.0) /io/opencv/modules/imgcodecs/src/loadsave.cpp:801: error: (-215:Assertion failed) !_img.empty() in function 'imwrite'\n",
            "\n",
            "OpenCV(4.6.0) /io/opencv/modules/imgcodecs/src/loadsave.cpp:801: error: (-215:Assertion failed) !_img.empty() in function 'imwrite'\n",
            "\n",
            "OpenCV(4.6.0) /io/opencv/modules/imgcodecs/src/loadsave.cpp:801: error: (-215:Assertion failed) !_img.empty() in function 'imwrite'\n",
            "\n",
            "OpenCV(4.6.0) /io/opencv/modules/imgcodecs/src/loadsave.cpp:801: error: (-215:Assertion failed) !_img.empty() in function 'imwrite'\n",
            "\n",
            "OpenCV(4.6.0) /io/opencv/modules/imgcodecs/src/loadsave.cpp:801: error: (-215:Assertion failed) !_img.empty() in function 'imwrite'\n",
            "\n",
            "OpenCV(4.6.0) /io/opencv/modules/imgcodecs/src/loadsave.cpp:801: error: (-215:Assertion failed) !_img.empty() in function 'imwrite'\n",
            "\n",
            "OpenCV(4.6.0) /io/opencv/modules/imgcodecs/src/loadsave.cpp:801: error: (-215:Assertion failed) !_img.empty() in function 'imwrite'\n",
            "\n",
            "OpenCV(4.6.0) /io/opencv/modules/imgcodecs/src/loadsave.cpp:801: error: (-215:Assertion failed) !_img.empty() in function 'imwrite'\n",
            "\n",
            "OpenCV(4.6.0) /io/opencv/modules/imgcodecs/src/loadsave.cpp:801: error: (-215:Assertion failed) !_img.empty() in function 'imwrite'\n",
            "\n",
            "OpenCV(4.6.0) /io/opencv/modules/imgcodecs/src/loadsave.cpp:801: error: (-215:Assertion failed) !_img.empty() in function 'imwrite'\n",
            "\n",
            "OpenCV(4.6.0) /io/opencv/modules/imgcodecs/src/loadsave.cpp:801: error: (-215:Assertion failed) !_img.empty() in function 'imwrite'\n",
            "\n",
            "OpenCV(4.6.0) /io/opencv/modules/imgcodecs/src/loadsave.cpp:801: error: (-215:Assertion failed) !_img.empty() in function 'imwrite'\n",
            "\n",
            "OpenCV(4.6.0) /io/opencv/modules/imgcodecs/src/loadsave.cpp:801: error: (-215:Assertion failed) !_img.empty() in function 'imwrite'\n",
            "\n",
            "OpenCV(4.6.0) /io/opencv/modules/imgcodecs/src/loadsave.cpp:801: error: (-215:Assertion failed) !_img.empty() in function 'imwrite'\n",
            "\n",
            "OpenCV(4.6.0) /io/opencv/modules/imgcodecs/src/loadsave.cpp:801: error: (-215:Assertion failed) !_img.empty() in function 'imwrite'\n",
            "\n",
            "OpenCV(4.6.0) /io/opencv/modules/imgcodecs/src/loadsave.cpp:801: error: (-215:Assertion failed) !_img.empty() in function 'imwrite'\n",
            "\n",
            "OpenCV(4.6.0) /io/opencv/modules/imgcodecs/src/loadsave.cpp:801: error: (-215:Assertion failed) !_img.empty() in function 'imwrite'\n",
            "\n",
            "OpenCV(4.6.0) /io/opencv/modules/imgcodecs/src/loadsave.cpp:801: error: (-215:Assertion failed) !_img.empty() in function 'imwrite'\n",
            "\n",
            "OpenCV(4.6.0) /io/opencv/modules/imgcodecs/src/loadsave.cpp:801: error: (-215:Assertion failed) !_img.empty() in function 'imwrite'\n",
            "\n",
            "OpenCV(4.6.0) /io/opencv/modules/imgcodecs/src/loadsave.cpp:801: error: (-215:Assertion failed) !_img.empty() in function 'imwrite'\n",
            "\n",
            "OpenCV(4.6.0) /io/opencv/modules/imgcodecs/src/loadsave.cpp:801: error: (-215:Assertion failed) !_img.empty() in function 'imwrite'\n",
            "\n",
            "OpenCV(4.6.0) /io/opencv/modules/imgcodecs/src/loadsave.cpp:801: error: (-215:Assertion failed) !_img.empty() in function 'imwrite'\n",
            "\n",
            "OpenCV(4.6.0) /io/opencv/modules/imgcodecs/src/loadsave.cpp:801: error: (-215:Assertion failed) !_img.empty() in function 'imwrite'\n",
            "\n",
            "OpenCV(4.6.0) /io/opencv/modules/imgcodecs/src/loadsave.cpp:801: error: (-215:Assertion failed) !_img.empty() in function 'imwrite'\n",
            "\n",
            "OpenCV(4.6.0) /io/opencv/modules/imgcodecs/src/loadsave.cpp:801: error: (-215:Assertion failed) !_img.empty() in function 'imwrite'\n",
            "\n",
            "OpenCV(4.6.0) /io/opencv/modules/imgcodecs/src/loadsave.cpp:801: error: (-215:Assertion failed) !_img.empty() in function 'imwrite'\n",
            "\n",
            "OpenCV(4.6.0) /io/opencv/modules/imgcodecs/src/loadsave.cpp:801: error: (-215:Assertion failed) !_img.empty() in function 'imwrite'\n",
            "\n",
            "OpenCV(4.6.0) /io/opencv/modules/imgcodecs/src/loadsave.cpp:801: error: (-215:Assertion failed) !_img.empty() in function 'imwrite'\n",
            "\n",
            "OpenCV(4.6.0) /io/opencv/modules/imgcodecs/src/loadsave.cpp:801: error: (-215:Assertion failed) !_img.empty() in function 'imwrite'\n",
            "\n",
            "OpenCV(4.6.0) /io/opencv/modules/imgcodecs/src/loadsave.cpp:801: error: (-215:Assertion failed) !_img.empty() in function 'imwrite'\n",
            "\n",
            "OpenCV(4.6.0) /io/opencv/modules/imgcodecs/src/loadsave.cpp:801: error: (-215:Assertion failed) !_img.empty() in function 'imwrite'\n",
            "\n",
            "OpenCV(4.6.0) /io/opencv/modules/imgcodecs/src/loadsave.cpp:801: error: (-215:Assertion failed) !_img.empty() in function 'imwrite'\n",
            "\n",
            "OpenCV(4.6.0) /io/opencv/modules/imgcodecs/src/loadsave.cpp:801: error: (-215:Assertion failed) !_img.empty() in function 'imwrite'\n",
            "\n",
            "OpenCV(4.6.0) /io/opencv/modules/imgcodecs/src/loadsave.cpp:801: error: (-215:Assertion failed) !_img.empty() in function 'imwrite'\n",
            "\n",
            "OpenCV(4.6.0) /io/opencv/modules/imgcodecs/src/loadsave.cpp:801: error: (-215:Assertion failed) !_img.empty() in function 'imwrite'\n",
            "\n",
            "OpenCV(4.6.0) /io/opencv/modules/imgcodecs/src/loadsave.cpp:801: error: (-215:Assertion failed) !_img.empty() in function 'imwrite'\n",
            "\n",
            "OpenCV(4.6.0) /io/opencv/modules/imgcodecs/src/loadsave.cpp:801: error: (-215:Assertion failed) !_img.empty() in function 'imwrite'\n",
            "\n",
            "OpenCV(4.6.0) /io/opencv/modules/imgcodecs/src/loadsave.cpp:801: error: (-215:Assertion failed) !_img.empty() in function 'imwrite'\n",
            "\n",
            "OpenCV(4.6.0) /io/opencv/modules/imgcodecs/src/loadsave.cpp:801: error: (-215:Assertion failed) !_img.empty() in function 'imwrite'\n",
            "\n",
            "OpenCV(4.6.0) /io/opencv/modules/imgcodecs/src/loadsave.cpp:801: error: (-215:Assertion failed) !_img.empty() in function 'imwrite'\n",
            "\n",
            "OpenCV(4.6.0) /io/opencv/modules/imgcodecs/src/loadsave.cpp:801: error: (-215:Assertion failed) !_img.empty() in function 'imwrite'\n",
            "\n",
            "OpenCV(4.6.0) /io/opencv/modules/imgcodecs/src/loadsave.cpp:801: error: (-215:Assertion failed) !_img.empty() in function 'imwrite'\n",
            "\n",
            "OpenCV(4.6.0) /io/opencv/modules/imgcodecs/src/loadsave.cpp:801: error: (-215:Assertion failed) !_img.empty() in function 'imwrite'\n",
            "\n",
            "OpenCV(4.6.0) /io/opencv/modules/imgcodecs/src/loadsave.cpp:801: error: (-215:Assertion failed) !_img.empty() in function 'imwrite'\n",
            "\n",
            "OpenCV(4.6.0) /io/opencv/modules/imgcodecs/src/loadsave.cpp:801: error: (-215:Assertion failed) !_img.empty() in function 'imwrite'\n",
            "\n",
            "OpenCV(4.6.0) /io/opencv/modules/imgcodecs/src/loadsave.cpp:801: error: (-215:Assertion failed) !_img.empty() in function 'imwrite'\n",
            "\n",
            "OpenCV(4.6.0) /io/opencv/modules/imgcodecs/src/loadsave.cpp:801: error: (-215:Assertion failed) !_img.empty() in function 'imwrite'\n",
            "\n",
            "OpenCV(4.6.0) /io/opencv/modules/imgcodecs/src/loadsave.cpp:801: error: (-215:Assertion failed) !_img.empty() in function 'imwrite'\n",
            "\n",
            "OpenCV(4.6.0) /io/opencv/modules/imgcodecs/src/loadsave.cpp:801: error: (-215:Assertion failed) !_img.empty() in function 'imwrite'\n",
            "\n",
            "OpenCV(4.6.0) /io/opencv/modules/imgcodecs/src/loadsave.cpp:801: error: (-215:Assertion failed) !_img.empty() in function 'imwrite'\n",
            "\n",
            "OpenCV(4.6.0) /io/opencv/modules/imgcodecs/src/loadsave.cpp:801: error: (-215:Assertion failed) !_img.empty() in function 'imwrite'\n",
            "\n",
            "OpenCV(4.6.0) /io/opencv/modules/imgcodecs/src/loadsave.cpp:801: error: (-215:Assertion failed) !_img.empty() in function 'imwrite'\n",
            "\n",
            "OpenCV(4.6.0) /io/opencv/modules/imgcodecs/src/loadsave.cpp:801: error: (-215:Assertion failed) !_img.empty() in function 'imwrite'\n",
            "\n",
            "OpenCV(4.6.0) /io/opencv/modules/imgcodecs/src/loadsave.cpp:801: error: (-215:Assertion failed) !_img.empty() in function 'imwrite'\n",
            "\n",
            "OpenCV(4.6.0) /io/opencv/modules/imgcodecs/src/loadsave.cpp:801: error: (-215:Assertion failed) !_img.empty() in function 'imwrite'\n",
            "\n",
            "OpenCV(4.6.0) /io/opencv/modules/imgcodecs/src/loadsave.cpp:801: error: (-215:Assertion failed) !_img.empty() in function 'imwrite'\n",
            "\n",
            "OpenCV(4.6.0) /io/opencv/modules/imgcodecs/src/loadsave.cpp:801: error: (-215:Assertion failed) !_img.empty() in function 'imwrite'\n",
            "\n",
            "OpenCV(4.6.0) /io/opencv/modules/imgcodecs/src/loadsave.cpp:801: error: (-215:Assertion failed) !_img.empty() in function 'imwrite'\n",
            "\n",
            "OpenCV(4.6.0) /io/opencv/modules/imgcodecs/src/loadsave.cpp:801: error: (-215:Assertion failed) !_img.empty() in function 'imwrite'\n",
            "\n",
            "OpenCV(4.6.0) /io/opencv/modules/imgcodecs/src/loadsave.cpp:801: error: (-215:Assertion failed) !_img.empty() in function 'imwrite'\n",
            "\n",
            "OpenCV(4.6.0) /io/opencv/modules/imgcodecs/src/loadsave.cpp:801: error: (-215:Assertion failed) !_img.empty() in function 'imwrite'\n",
            "\n",
            "OpenCV(4.6.0) /io/opencv/modules/imgcodecs/src/loadsave.cpp:801: error: (-215:Assertion failed) !_img.empty() in function 'imwrite'\n",
            "\n",
            "OpenCV(4.6.0) /io/opencv/modules/imgcodecs/src/loadsave.cpp:801: error: (-215:Assertion failed) !_img.empty() in function 'imwrite'\n",
            "\n",
            "OpenCV(4.6.0) /io/opencv/modules/imgcodecs/src/loadsave.cpp:801: error: (-215:Assertion failed) !_img.empty() in function 'imwrite'\n",
            "\n",
            "OpenCV(4.6.0) /io/opencv/modules/imgcodecs/src/loadsave.cpp:801: error: (-215:Assertion failed) !_img.empty() in function 'imwrite'\n",
            "\n",
            "OpenCV(4.6.0) /io/opencv/modules/imgcodecs/src/loadsave.cpp:801: error: (-215:Assertion failed) !_img.empty() in function 'imwrite'\n",
            "\n",
            "OpenCV(4.6.0) /io/opencv/modules/imgcodecs/src/loadsave.cpp:801: error: (-215:Assertion failed) !_img.empty() in function 'imwrite'\n",
            "\n",
            "OpenCV(4.6.0) /io/opencv/modules/imgcodecs/src/loadsave.cpp:801: error: (-215:Assertion failed) !_img.empty() in function 'imwrite'\n",
            "\n",
            "OpenCV(4.6.0) /io/opencv/modules/imgcodecs/src/loadsave.cpp:801: error: (-215:Assertion failed) !_img.empty() in function 'imwrite'\n",
            "\n",
            "OpenCV(4.6.0) /io/opencv/modules/imgcodecs/src/loadsave.cpp:801: error: (-215:Assertion failed) !_img.empty() in function 'imwrite'\n",
            "\n",
            "OpenCV(4.6.0) /io/opencv/modules/imgcodecs/src/loadsave.cpp:801: error: (-215:Assertion failed) !_img.empty() in function 'imwrite'\n",
            "\n",
            "OpenCV(4.6.0) /io/opencv/modules/imgcodecs/src/loadsave.cpp:801: error: (-215:Assertion failed) !_img.empty() in function 'imwrite'\n",
            "\n",
            "OpenCV(4.6.0) /io/opencv/modules/imgcodecs/src/loadsave.cpp:801: error: (-215:Assertion failed) !_img.empty() in function 'imwrite'\n",
            "\n",
            "OpenCV(4.6.0) /io/opencv/modules/imgcodecs/src/loadsave.cpp:801: error: (-215:Assertion failed) !_img.empty() in function 'imwrite'\n",
            "\n",
            "OpenCV(4.6.0) /io/opencv/modules/imgcodecs/src/loadsave.cpp:801: error: (-215:Assertion failed) !_img.empty() in function 'imwrite'\n",
            "\n",
            "OpenCV(4.6.0) /io/opencv/modules/imgcodecs/src/loadsave.cpp:801: error: (-215:Assertion failed) !_img.empty() in function 'imwrite'\n",
            "\n",
            "OpenCV(4.6.0) /io/opencv/modules/imgcodecs/src/loadsave.cpp:801: error: (-215:Assertion failed) !_img.empty() in function 'imwrite'\n",
            "\n",
            "OpenCV(4.6.0) /io/opencv/modules/imgcodecs/src/loadsave.cpp:801: error: (-215:Assertion failed) !_img.empty() in function 'imwrite'\n",
            "\n",
            "OpenCV(4.6.0) /io/opencv/modules/imgcodecs/src/loadsave.cpp:801: error: (-215:Assertion failed) !_img.empty() in function 'imwrite'\n",
            "\n",
            "OpenCV(4.6.0) /io/opencv/modules/imgcodecs/src/loadsave.cpp:801: error: (-215:Assertion failed) !_img.empty() in function 'imwrite'\n",
            "\n",
            "OpenCV(4.6.0) /io/opencv/modules/imgcodecs/src/loadsave.cpp:801: error: (-215:Assertion failed) !_img.empty() in function 'imwrite'\n",
            "\n",
            "OpenCV(4.6.0) /io/opencv/modules/imgcodecs/src/loadsave.cpp:801: error: (-215:Assertion failed) !_img.empty() in function 'imwrite'\n",
            "\n",
            "OpenCV(4.6.0) /io/opencv/modules/imgcodecs/src/loadsave.cpp:801: error: (-215:Assertion failed) !_img.empty() in function 'imwrite'\n",
            "\n",
            "OpenCV(4.6.0) /io/opencv/modules/imgcodecs/src/loadsave.cpp:801: error: (-215:Assertion failed) !_img.empty() in function 'imwrite'\n",
            "\n",
            "OpenCV(4.6.0) /io/opencv/modules/imgcodecs/src/loadsave.cpp:801: error: (-215:Assertion failed) !_img.empty() in function 'imwrite'\n",
            "\n",
            "OpenCV(4.6.0) /io/opencv/modules/imgcodecs/src/loadsave.cpp:801: error: (-215:Assertion failed) !_img.empty() in function 'imwrite'\n",
            "\n",
            "OpenCV(4.6.0) /io/opencv/modules/imgcodecs/src/loadsave.cpp:801: error: (-215:Assertion failed) !_img.empty() in function 'imwrite'\n",
            "\n",
            "OpenCV(4.6.0) /io/opencv/modules/imgcodecs/src/loadsave.cpp:801: error: (-215:Assertion failed) !_img.empty() in function 'imwrite'\n",
            "\n",
            "OpenCV(4.6.0) /io/opencv/modules/imgcodecs/src/loadsave.cpp:801: error: (-215:Assertion failed) !_img.empty() in function 'imwrite'\n",
            "\n",
            "OpenCV(4.6.0) /io/opencv/modules/imgcodecs/src/loadsave.cpp:801: error: (-215:Assertion failed) !_img.empty() in function 'imwrite'\n",
            "\n",
            "OpenCV(4.6.0) /io/opencv/modules/imgcodecs/src/loadsave.cpp:801: error: (-215:Assertion failed) !_img.empty() in function 'imwrite'\n",
            "\n",
            "OpenCV(4.6.0) /io/opencv/modules/imgcodecs/src/loadsave.cpp:801: error: (-215:Assertion failed) !_img.empty() in function 'imwrite'\n",
            "\n",
            "OpenCV(4.6.0) /io/opencv/modules/imgcodecs/src/loadsave.cpp:801: error: (-215:Assertion failed) !_img.empty() in function 'imwrite'\n",
            "\n",
            "OpenCV(4.6.0) /io/opencv/modules/imgcodecs/src/loadsave.cpp:801: error: (-215:Assertion failed) !_img.empty() in function 'imwrite'\n",
            "\n",
            "OpenCV(4.6.0) /io/opencv/modules/imgcodecs/src/loadsave.cpp:801: error: (-215:Assertion failed) !_img.empty() in function 'imwrite'\n",
            "\n",
            "OpenCV(4.6.0) /io/opencv/modules/imgcodecs/src/loadsave.cpp:801: error: (-215:Assertion failed) !_img.empty() in function 'imwrite'\n",
            "\n",
            "OpenCV(4.6.0) /io/opencv/modules/imgcodecs/src/loadsave.cpp:801: error: (-215:Assertion failed) !_img.empty() in function 'imwrite'\n",
            "\n",
            "OpenCV(4.6.0) /io/opencv/modules/imgcodecs/src/loadsave.cpp:801: error: (-215:Assertion failed) !_img.empty() in function 'imwrite'\n",
            "\n",
            "OpenCV(4.6.0) /io/opencv/modules/imgcodecs/src/loadsave.cpp:801: error: (-215:Assertion failed) !_img.empty() in function 'imwrite'\n",
            "\n",
            "OpenCV(4.6.0) /io/opencv/modules/imgcodecs/src/loadsave.cpp:801: error: (-215:Assertion failed) !_img.empty() in function 'imwrite'\n",
            "\n",
            "OpenCV(4.6.0) /io/opencv/modules/imgcodecs/src/loadsave.cpp:801: error: (-215:Assertion failed) !_img.empty() in function 'imwrite'\n",
            "\n",
            "OpenCV(4.6.0) /io/opencv/modules/imgcodecs/src/loadsave.cpp:801: error: (-215:Assertion failed) !_img.empty() in function 'imwrite'\n",
            "\n",
            "OpenCV(4.6.0) /io/opencv/modules/imgcodecs/src/loadsave.cpp:801: error: (-215:Assertion failed) !_img.empty() in function 'imwrite'\n",
            "\n",
            "OpenCV(4.6.0) /io/opencv/modules/imgcodecs/src/loadsave.cpp:801: error: (-215:Assertion failed) !_img.empty() in function 'imwrite'\n",
            "\n",
            "OpenCV(4.6.0) /io/opencv/modules/imgcodecs/src/loadsave.cpp:801: error: (-215:Assertion failed) !_img.empty() in function 'imwrite'\n",
            "\n",
            "OpenCV(4.6.0) /io/opencv/modules/imgcodecs/src/loadsave.cpp:801: error: (-215:Assertion failed) !_img.empty() in function 'imwrite'\n",
            "\n",
            "OpenCV(4.6.0) /io/opencv/modules/imgcodecs/src/loadsave.cpp:801: error: (-215:Assertion failed) !_img.empty() in function 'imwrite'\n",
            "\n",
            "OpenCV(4.6.0) /io/opencv/modules/imgcodecs/src/loadsave.cpp:801: error: (-215:Assertion failed) !_img.empty() in function 'imwrite'\n",
            "\n",
            "OpenCV(4.6.0) /io/opencv/modules/imgcodecs/src/loadsave.cpp:801: error: (-215:Assertion failed) !_img.empty() in function 'imwrite'\n",
            "\n",
            "OpenCV(4.6.0) /io/opencv/modules/imgcodecs/src/loadsave.cpp:801: error: (-215:Assertion failed) !_img.empty() in function 'imwrite'\n",
            "\n",
            "OpenCV(4.6.0) /io/opencv/modules/imgcodecs/src/loadsave.cpp:801: error: (-215:Assertion failed) !_img.empty() in function 'imwrite'\n",
            "\n",
            "OpenCV(4.6.0) /io/opencv/modules/imgcodecs/src/loadsave.cpp:801: error: (-215:Assertion failed) !_img.empty() in function 'imwrite'\n",
            "\n",
            "OpenCV(4.6.0) /io/opencv/modules/imgcodecs/src/loadsave.cpp:801: error: (-215:Assertion failed) !_img.empty() in function 'imwrite'\n",
            "\n",
            "OpenCV(4.6.0) /io/opencv/modules/imgcodecs/src/loadsave.cpp:801: error: (-215:Assertion failed) !_img.empty() in function 'imwrite'\n",
            "\n",
            "OpenCV(4.6.0) /io/opencv/modules/imgcodecs/src/loadsave.cpp:801: error: (-215:Assertion failed) !_img.empty() in function 'imwrite'\n",
            "\n",
            "OpenCV(4.6.0) /io/opencv/modules/imgcodecs/src/loadsave.cpp:801: error: (-215:Assertion failed) !_img.empty() in function 'imwrite'\n",
            "\n",
            "OpenCV(4.6.0) /io/opencv/modules/imgcodecs/src/loadsave.cpp:801: error: (-215:Assertion failed) !_img.empty() in function 'imwrite'\n",
            "\n",
            "OpenCV(4.6.0) /io/opencv/modules/imgcodecs/src/loadsave.cpp:801: error: (-215:Assertion failed) !_img.empty() in function 'imwrite'\n",
            "\n",
            "OpenCV(4.6.0) /io/opencv/modules/imgcodecs/src/loadsave.cpp:801: error: (-215:Assertion failed) !_img.empty() in function 'imwrite'\n",
            "\n",
            "OpenCV(4.6.0) /io/opencv/modules/imgcodecs/src/loadsave.cpp:801: error: (-215:Assertion failed) !_img.empty() in function 'imwrite'\n",
            "\n",
            "OpenCV(4.6.0) /io/opencv/modules/imgcodecs/src/loadsave.cpp:801: error: (-215:Assertion failed) !_img.empty() in function 'imwrite'\n",
            "\n",
            "OpenCV(4.6.0) /io/opencv/modules/imgcodecs/src/loadsave.cpp:801: error: (-215:Assertion failed) !_img.empty() in function 'imwrite'\n",
            "\n",
            "OpenCV(4.6.0) /io/opencv/modules/imgcodecs/src/loadsave.cpp:801: error: (-215:Assertion failed) !_img.empty() in function 'imwrite'\n",
            "\n",
            "OpenCV(4.6.0) /io/opencv/modules/imgcodecs/src/loadsave.cpp:801: error: (-215:Assertion failed) !_img.empty() in function 'imwrite'\n",
            "\n",
            "OpenCV(4.6.0) /io/opencv/modules/imgcodecs/src/loadsave.cpp:801: error: (-215:Assertion failed) !_img.empty() in function 'imwrite'\n",
            "\n",
            "OpenCV(4.6.0) /io/opencv/modules/imgcodecs/src/loadsave.cpp:801: error: (-215:Assertion failed) !_img.empty() in function 'imwrite'\n",
            "\n",
            "OpenCV(4.6.0) /io/opencv/modules/imgcodecs/src/loadsave.cpp:801: error: (-215:Assertion failed) !_img.empty() in function 'imwrite'\n",
            "\n",
            "OpenCV(4.6.0) /io/opencv/modules/imgcodecs/src/loadsave.cpp:801: error: (-215:Assertion failed) !_img.empty() in function 'imwrite'\n",
            "\n",
            "OpenCV(4.6.0) /io/opencv/modules/imgcodecs/src/loadsave.cpp:801: error: (-215:Assertion failed) !_img.empty() in function 'imwrite'\n",
            "\n",
            "OpenCV(4.6.0) /io/opencv/modules/imgcodecs/src/loadsave.cpp:801: error: (-215:Assertion failed) !_img.empty() in function 'imwrite'\n",
            "\n",
            "OpenCV(4.6.0) /io/opencv/modules/imgcodecs/src/loadsave.cpp:801: error: (-215:Assertion failed) !_img.empty() in function 'imwrite'\n",
            "\n",
            "OpenCV(4.6.0) /io/opencv/modules/imgcodecs/src/loadsave.cpp:801: error: (-215:Assertion failed) !_img.empty() in function 'imwrite'\n",
            "\n",
            "OpenCV(4.6.0) /io/opencv/modules/imgcodecs/src/loadsave.cpp:801: error: (-215:Assertion failed) !_img.empty() in function 'imwrite'\n",
            "\n",
            "OpenCV(4.6.0) /io/opencv/modules/imgcodecs/src/loadsave.cpp:801: error: (-215:Assertion failed) !_img.empty() in function 'imwrite'\n",
            "\n",
            "OpenCV(4.6.0) /io/opencv/modules/imgcodecs/src/loadsave.cpp:801: error: (-215:Assertion failed) !_img.empty() in function 'imwrite'\n",
            "\n",
            "OpenCV(4.6.0) /io/opencv/modules/imgcodecs/src/loadsave.cpp:801: error: (-215:Assertion failed) !_img.empty() in function 'imwrite'\n",
            "\n",
            "OpenCV(4.6.0) /io/opencv/modules/imgcodecs/src/loadsave.cpp:801: error: (-215:Assertion failed) !_img.empty() in function 'imwrite'\n",
            "\n",
            "OpenCV(4.6.0) /io/opencv/modules/imgcodecs/src/loadsave.cpp:801: error: (-215:Assertion failed) !_img.empty() in function 'imwrite'\n",
            "\n",
            "OpenCV(4.6.0) /io/opencv/modules/imgcodecs/src/loadsave.cpp:801: error: (-215:Assertion failed) !_img.empty() in function 'imwrite'\n",
            "\n",
            "OpenCV(4.6.0) /io/opencv/modules/imgcodecs/src/loadsave.cpp:801: error: (-215:Assertion failed) !_img.empty() in function 'imwrite'\n",
            "\n",
            "OpenCV(4.6.0) /io/opencv/modules/imgcodecs/src/loadsave.cpp:801: error: (-215:Assertion failed) !_img.empty() in function 'imwrite'\n",
            "\n",
            "OpenCV(4.6.0) /io/opencv/modules/imgcodecs/src/loadsave.cpp:801: error: (-215:Assertion failed) !_img.empty() in function 'imwrite'\n",
            "\n",
            "OpenCV(4.6.0) /io/opencv/modules/imgcodecs/src/loadsave.cpp:801: error: (-215:Assertion failed) !_img.empty() in function 'imwrite'\n",
            "\n",
            "OpenCV(4.6.0) /io/opencv/modules/imgcodecs/src/loadsave.cpp:801: error: (-215:Assertion failed) !_img.empty() in function 'imwrite'\n",
            "\n",
            "OpenCV(4.6.0) /io/opencv/modules/imgcodecs/src/loadsave.cpp:801: error: (-215:Assertion failed) !_img.empty() in function 'imwrite'\n",
            "\n",
            "OpenCV(4.6.0) /io/opencv/modules/imgcodecs/src/loadsave.cpp:801: error: (-215:Assertion failed) !_img.empty() in function 'imwrite'\n",
            "\n",
            "OpenCV(4.6.0) /io/opencv/modules/imgcodecs/src/loadsave.cpp:801: error: (-215:Assertion failed) !_img.empty() in function 'imwrite'\n",
            "\n",
            "OpenCV(4.6.0) /io/opencv/modules/imgcodecs/src/loadsave.cpp:801: error: (-215:Assertion failed) !_img.empty() in function 'imwrite'\n",
            "\n",
            "OpenCV(4.6.0) /io/opencv/modules/imgcodecs/src/loadsave.cpp:801: error: (-215:Assertion failed) !_img.empty() in function 'imwrite'\n",
            "\n",
            "OpenCV(4.6.0) /io/opencv/modules/imgcodecs/src/loadsave.cpp:801: error: (-215:Assertion failed) !_img.empty() in function 'imwrite'\n",
            "\n"
          ]
        }
      ],
      "source": [
        "for negative_image_name in negative_image_names_dataset_type_test:\n",
        "    image=cv2.imread(os.path.join(datapath2,'test',negative_image_name))\n",
        "    try:\n",
        "        cv2.imwrite(os.path.join(dataset_path,categories[1],negative_image_name),image)\n",
        "    except Exception as e:\n",
        "        print(e)"
      ]
    },
    {
      "cell_type": "code",
      "execution_count": null,
      "metadata": {
        "colab": {
          "base_uri": "https://localhost:8080/"
        },
        "id": "p1K_QQqJKvD6",
        "outputId": "ed91cc18-e34a-4c0d-ad6d-614b4fbf3e89"
      },
      "outputs": [
        {
          "output_type": "execute_result",
          "data": {
            "text/plain": [
              "(1342,)"
            ]
          },
          "metadata": {},
          "execution_count": 33
        }
      ],
      "source": [
        "negative_image_names_dataset_type_train.shape"
      ]
    },
    {
      "cell_type": "code",
      "execution_count": null,
      "metadata": {
        "colab": {
          "base_uri": "https://localhost:8080/"
        },
        "id": "tpcRxSqKG2sY",
        "outputId": "bc92c2f2-ff37-4a28-8ad6-7fadfb8f2f45"
      },
      "outputs": [
        {
          "output_type": "execute_result",
          "data": {
            "text/plain": [
              "(234,)"
            ]
          },
          "metadata": {},
          "execution_count": 34
        }
      ],
      "source": [
        "negative_image_names_dataset_type_test.shape"
      ]
    },
    {
      "cell_type": "markdown",
      "metadata": {
        "id": "jh51q8PnKvD7"
      },
      "source": [
        "# Processamento de dados"
      ]
    },
    {
      "cell_type": "code",
      "execution_count": null,
      "metadata": {
        "colab": {
          "base_uri": "https://localhost:8080/"
        },
        "id": "2PFszHFuKvD7",
        "outputId": "0ac5eb69-bd97-4aaa-cd0f-9ae37898f783"
      },
      "outputs": [
        {
          "output_type": "stream",
          "name": "stdout",
          "text": [
            "{'Covid19_Negative': 0, 'Covid19_Positive': 1}\n",
            "['Covid19_Negative', 'Covid19_Positive']\n",
            "[0, 1]\n"
          ]
        }
      ],
      "source": [
        "import cv2,os\n",
        "\n",
        "data_path='dataset'\n",
        "categories=os.listdir(data_path)\n",
        "labels=[i for i in range(len(categories))]\n",
        "\n",
        "label_dict=dict(zip(categories,labels)) \n",
        "\n",
        "print(label_dict)\n",
        "print(categories)\n",
        "print(labels)"
      ]
    },
    {
      "cell_type": "code",
      "execution_count": null,
      "metadata": {
        "id": "HKn-64dRKvD8"
      },
      "outputs": [],
      "source": [
        "img_size=100\n",
        "data=[]\n",
        "target=[]\n",
        "\n",
        "\n",
        "for category in categories:\n",
        "    folder_path=os.path.join(data_path,category)\n",
        "    img_names=os.listdir(folder_path)\n",
        "        \n",
        "    for img_name in img_names:\n",
        "        img_path=os.path.join(folder_path,img_name)\n",
        "        img=cv2.imread(img_path)\n",
        "\n",
        "        try:\n",
        "            gray=cv2.cvtColor(img,cv2.COLOR_BGR2GRAY)           \n",
        "            #Converte imagem para escala de cinza\n",
        "            resized=cv2.resize(gray,(img_size,img_size))\n",
        "            #Reescala a imagem cinza para 100x100, já que é preciso um tamanho padrao para o dataset\n",
        "            data.append(resized)\n",
        "            target.append(label_dict[category])\n",
        "            #Anexa a imagem e sua classe para a lista do dataset\n",
        "\n",
        "        except Exception as e:\n",
        "            print('Exception:',e)\n",
        "            #Em caso de execao, ela aparecera aqui e passara para a proxima imagem"
      ]
    },
    {
      "cell_type": "code",
      "execution_count": null,
      "metadata": {
        "id": "aMD1xbYGKvD9"
      },
      "outputs": [],
      "source": [
        "import numpy as np\n",
        "\n",
        "data=np.array(data)/255.0\n",
        "data=np.reshape(data,(data.shape[0],img_size,img_size,1))\n",
        "target=np.array(target)\n",
        "\n",
        "from keras.utils import np_utils\n",
        "\n",
        "new_target=np_utils.to_categorical(target)"
      ]
    },
    {
      "cell_type": "code",
      "execution_count": null,
      "metadata": {
        "colab": {
          "base_uri": "https://localhost:8080/"
        },
        "id": "kNo0SNw2H6a_",
        "outputId": "87fe3b1f-e93f-4f36-b92e-800a9ab3093c"
      },
      "outputs": [
        {
          "output_type": "stream",
          "name": "stdout",
          "text": [
            "(1921, 100, 100, 1)\n",
            "(1921, 2)\n"
          ]
        }
      ],
      "source": [
        "print(data.shape)\n",
        "print(new_target.shape)"
      ]
    },
    {
      "cell_type": "code",
      "execution_count": null,
      "metadata": {
        "id": "AElmxAW2KvD9"
      },
      "outputs": [],
      "source": [
        "np.save('data',data)\n",
        "np.save('target',new_target)"
      ]
    },
    {
      "cell_type": "markdown",
      "metadata": {
        "id": "FIa92b_-KvD9"
      },
      "source": [
        "# Treinamento"
      ]
    },
    {
      "cell_type": "code",
      "execution_count": null,
      "metadata": {
        "id": "Dl90hZTfKvD9"
      },
      "outputs": [],
      "source": [
        "import numpy as np\n",
        "\n",
        "data=np.load('data.npy')\n",
        "target=np.load('target.npy')"
      ]
    },
    {
      "cell_type": "code",
      "execution_count": null,
      "metadata": {
        "colab": {
          "base_uri": "https://localhost:8080/"
        },
        "id": "hpBW1gXcIV54",
        "outputId": "42c235c5-adda-4a40-a995-67170e37c7b5"
      },
      "outputs": [
        {
          "output_type": "stream",
          "name": "stdout",
          "text": [
            "(1921, 100, 100, 1)\n",
            "(1921, 2)\n"
          ]
        }
      ],
      "source": [
        "print(data.shape)\n",
        "print(target.shape)"
      ]
    },
    {
      "cell_type": "code",
      "execution_count": null,
      "metadata": {
        "colab": {
          "base_uri": "https://localhost:8080/"
        },
        "id": "WqhzxNmcKHdd",
        "outputId": "b862cf7f-5f87-48cd-f7b8-378fa337b26f"
      },
      "outputs": [
        {
          "output_type": "execute_result",
          "data": {
            "text/plain": [
              "array([[1., 0.],\n",
              "       [1., 0.],\n",
              "       [1., 0.],\n",
              "       ...,\n",
              "       [0., 1.],\n",
              "       [0., 1.],\n",
              "       [0., 1.]], dtype=float32)"
            ]
          },
          "metadata": {},
          "execution_count": 42
        }
      ],
      "source": [
        "target"
      ]
    },
    {
      "cell_type": "code",
      "execution_count": null,
      "metadata": {
        "colab": {
          "base_uri": "https://localhost:8080/"
        },
        "id": "Zfd7BCwtKK7G",
        "outputId": "2ba58193-bad0-49de-bdd8-bd94737331bb"
      },
      "outputs": [
        {
          "output_type": "execute_result",
          "data": {
            "text/plain": [
              "array([[1., 0.],\n",
              "       [1., 0.],\n",
              "       [1., 0.],\n",
              "       ...,\n",
              "       [0., 1.],\n",
              "       [0., 1.],\n",
              "       [0., 1.]], dtype=float32)"
            ]
          },
          "metadata": {},
          "execution_count": 43
        }
      ],
      "source": [
        "target[:]"
      ]
    },
    {
      "cell_type": "markdown",
      "metadata": {
        "id": "K-7T0STrSt0q"
      },
      "source": [
        "\n",
        "#Contando e Criando a Rede\n"
      ]
    },
    {
      "cell_type": "code",
      "execution_count": null,
      "metadata": {
        "colab": {
          "base_uri": "https://localhost:8080/"
        },
        "id": "xRDGxU93IcOA",
        "outputId": "1b0cb434-142c-4204-fa49-8e27c46f6b9a"
      },
      "outputs": [
        {
          "output_type": "execute_result",
          "data": {
            "text/plain": [
              "579"
            ]
          },
          "metadata": {},
          "execution_count": 44
        }
      ],
      "source": [
        "np.count_nonzero(target[:,0] > 0)"
      ]
    },
    {
      "cell_type": "code",
      "execution_count": null,
      "metadata": {
        "colab": {
          "base_uri": "https://localhost:8080/"
        },
        "id": "K4JdGXsxJgMa",
        "outputId": "8969abc7-07d3-4097-e520-40d648f9804a"
      },
      "outputs": [
        {
          "output_type": "execute_result",
          "data": {
            "text/plain": [
              "1342"
            ]
          },
          "metadata": {},
          "execution_count": 45
        }
      ],
      "source": [
        "np.count_nonzero(target[:,0] == 0)"
      ]
    },
    {
      "cell_type": "code",
      "execution_count": null,
      "metadata": {
        "colab": {
          "base_uri": "https://localhost:8080/"
        },
        "id": "6hiiwct7KPUz",
        "outputId": "70a396e9-f664-4111-d6e9-600eed13d630"
      },
      "outputs": [
        {
          "output_type": "stream",
          "name": "stdout",
          "text": [
            "Looking in indexes: https://pypi.org/simple, https://us-python.pkg.dev/colab-wheels/public/simple/\n",
            "Collecting visualkeras\n",
            "  Downloading visualkeras-0.0.2-py3-none-any.whl (12 kB)\n",
            "Collecting aggdraw>=1.3.11\n",
            "  Downloading aggdraw-1.3.15-cp38-cp38-manylinux_2_17_x86_64.manylinux2014_x86_64.whl (992 kB)\n",
            "\u001b[2K     \u001b[90m━━━━━━━━━━━━━━━━━━━━━━━━━━━━━━━━━━━━━━\u001b[0m \u001b[32m992.2/992.2 KB\u001b[0m \u001b[31m55.1 MB/s\u001b[0m eta \u001b[36m0:00:00\u001b[0m\n",
            "\u001b[?25hRequirement already satisfied: pillow>=6.2.0 in /usr/local/lib/python3.8/dist-packages (from visualkeras) (7.1.2)\n",
            "Requirement already satisfied: numpy>=1.18.1 in /usr/local/lib/python3.8/dist-packages (from visualkeras) (1.21.6)\n",
            "Installing collected packages: aggdraw, visualkeras\n",
            "Successfully installed aggdraw-1.3.15 visualkeras-0.0.2\n"
          ]
        }
      ],
      "source": [
        "pip install visualkeras"
      ]
    },
    {
      "cell_type": "code",
      "execution_count": null,
      "metadata": {
        "id": "_t-9sf7BJegu"
      },
      "outputs": [],
      "source": [
        "import visualkeras"
      ]
    },
    {
      "cell_type": "code",
      "execution_count": null,
      "metadata": {
        "colab": {
          "base_uri": "https://localhost:8080/"
        },
        "id": "Stj0PzyMKvD-",
        "outputId": "40d62b61-328f-487d-c849-757cae1035bd"
      },
      "outputs": [
        {
          "output_type": "stream",
          "name": "stdout",
          "text": [
            "Model: \"sequential\"\n",
            "_________________________________________________________________\n",
            " Layer (type)                Output Shape              Param #   \n",
            "=================================================================\n",
            " model (Functional)          (None, 100, 100, 384)     11008     \n",
            "                                                                 \n",
            " conv2d_3 (Conv2D)           (None, 98, 98, 64)        221248    \n",
            "                                                                 \n",
            " activation (Activation)     (None, 98, 98, 64)        0         \n",
            "                                                                 \n",
            " max_pooling2d (MaxPooling2D  (None, 49, 49, 64)       0         \n",
            " )                                                               \n",
            "                                                                 \n",
            " conv2d_4 (Conv2D)           (None, 47, 47, 32)        18464     \n",
            "                                                                 \n",
            " activation_1 (Activation)   (None, 47, 47, 32)        0         \n",
            "                                                                 \n",
            " max_pooling2d_1 (MaxPooling  (None, 23, 23, 32)       0         \n",
            " 2D)                                                             \n",
            "                                                                 \n",
            " flatten (Flatten)           (None, 16928)             0         \n",
            "                                                                 \n",
            " dropout (Dropout)           (None, 16928)             0         \n",
            "                                                                 \n",
            " dense (Dense)               (None, 128)               2166912   \n",
            "                                                                 \n",
            " dropout_1 (Dropout)         (None, 128)               0         \n",
            "                                                                 \n",
            " dense_1 (Dense)             (None, 64)                8256      \n",
            "                                                                 \n",
            " dense_2 (Dense)             (None, 2)                 130       \n",
            "                                                                 \n",
            "=================================================================\n",
            "Total params: 2,426,018\n",
            "Trainable params: 2,426,018\n",
            "Non-trainable params: 0\n",
            "_________________________________________________________________\n"
          ]
        }
      ],
      "source": [
        "from keras.models import Sequential,Model\n",
        "from keras.layers import Dense,Dropout,Flatten\n",
        "from keras.layers import Conv2D,Activation,MaxPooling2D\n",
        "from keras.utils.np_utils import normalize\n",
        "from keras.layers import Concatenate\n",
        "from keras import Input\n",
        "from keras.callbacks import ModelCheckpoint\n",
        "\n",
        "input_shape=data.shape[1:] #100,100,1 \n",
        "inp=Input(shape=input_shape)\n",
        "convs=[]\n",
        "\n",
        "parrallel_kernels=[3,5,7]\n",
        "\n",
        "for k in range (len(parrallel_kernels)):\n",
        "    \n",
        "    conv = Conv2D(128,parrallel_kernels[k],padding='same',activation='relu',input_shape=input_shape,strides=1)(inp)\n",
        "    convs.append(conv)\n",
        "    \n",
        "out = Concatenate()(convs)\n",
        "conv_model = Model(inputs=inp, outputs=out)\n",
        "\n",
        "\n",
        "model=Sequential()\n",
        "model.add(conv_model)\n",
        "\n",
        "model.add(Conv2D(64,(3,3)))  # input_shape=(100,100,1)))\n",
        "model.add(Activation('relu'))\n",
        "model.add(MaxPooling2D(pool_size=(2,2)))\n",
        "# Primeira camada CNN seguida por Relu and MaxPooling\n",
        "\n",
        "model.add(Conv2D(32,(3,3)))\n",
        "model.add(Activation('relu'))\n",
        "model.add(MaxPooling2D(pool_size=(2,2)))\n",
        "# Segunda camada CNN seguida porRelu and MaxPooling\n",
        "\n",
        "model.add(Flatten())\n",
        "model.add(Dropout(0.5))\n",
        "model.add(Dense(128,activation='relu'))\n",
        "model.add(Dropout(0.5))\n",
        "model.add(Dense(64,activation='relu'))\n",
        "# Dense layer de 64 neuronios\n",
        "model.add(Dense(2,input_dim=128,activation='softmax'))\n",
        "model.compile(loss='categorical_crossentropy',optimizer='adam',metrics=['accuracy'])\n",
        "\n",
        "model.summary() # Mostra a rede"
      ]
    },
    {
      "cell_type": "code",
      "execution_count": null,
      "metadata": {
        "id": "jLjDSw_WZQpe"
      },
      "outputs": [],
      "source": [
        "from keras.utils.vis_utils import plot_model"
      ]
    },
    {
      "cell_type": "code",
      "execution_count": null,
      "metadata": {
        "colab": {
          "base_uri": "https://localhost:8080/",
          "height": 1000
        },
        "id": "CyuZFxYzZbJy",
        "outputId": "f13d2db2-adc6-4c9f-ed3f-893d47c071cd"
      },
      "outputs": [
        {
          "output_type": "execute_result",
          "data": {
            "image/png": "[encoded data removed]",
            "text/plain": [
              "<IPython.core.display.Image object>"
            ]
          },
          "metadata": {},
          "execution_count": 50
        }
      ],
      "source": [
        "plot_model(model, to_file='model_plot.png', show_shapes=True, show_layer_names=True)"
      ]
    },
    {
      "cell_type": "code",
      "execution_count": null,
      "metadata": {
        "colab": {
          "base_uri": "https://localhost:8080/",
          "height": 551
        },
        "id": "dy5vlVgRHnZr",
        "outputId": "6a5e986a-a22b-4330-9442-6e9bb66280a8"
      },
      "outputs": [
        {
          "output_type": "execute_result",
          "data": {
            "text/plain": [
              "<PIL.Image.Image image mode=RGBA size=1249x534 at 0x7F743452E3A0>"
            ],
            "image/png": "[encoded data removed]"
          },
          "metadata": {},
          "execution_count": 51
        }
      ],
      "source": [
        "visualkeras.layered_view(model)"
      ]
    },
    {
      "cell_type": "code",
      "execution_count": null,
      "metadata": {
        "id": "2W0zrd8YKvD-"
      },
      "outputs": [],
      "source": [
        "#SEM VALIDAÇÃO CRUZADA\n",
        "\n",
        "#from sklearn.model_selection import train_test_split\n",
        "\n",
        "#train_data,test_data,train_target,test_target=train_test_split(data,target,test_size=0.10) # test_size corresponde a 10% do banco de dados total\n",
        "\n",
        "#checkpoint = ModelCheckpoint('model-{epoch:03d}.model ',monitor='val_loss',verbose=0,save_best_only=True,mode='auto',save_weights_only=True)\n",
        "#history=model.fit(train_data,train_target,epochs=20,callbacks=[checkpoint],validation_split=0.10) \n",
        "\n",
        "\n",
        "# validation_split corresponde a 10% do banco de dados de treino, ou seja, 9% do total"
      ]
    },
    {
      "cell_type": "code",
      "execution_count": null,
      "metadata": {
        "colab": {
          "base_uri": "https://localhost:8080/"
        },
        "id": "DPCEhCCW7u_g",
        "outputId": "2902dc7a-8571-4cb7-dd6d-5b1e71f0775c"
      },
      "outputs": [
        {
          "output_type": "stream",
          "name": "stdout",
          "text": [
            "Epoch 1/20\n",
            "44/44 [==============================] - 23s 171ms/step - loss: 0.4109 - accuracy: 0.8133 - val_loss: 0.0900 - val_accuracy: 0.9595\n",
            "Epoch 2/20\n",
            "44/44 [==============================] - 6s 134ms/step - loss: 0.1429 - accuracy: 0.9501 - val_loss: 0.0496 - val_accuracy: 0.9855\n",
            "Epoch 3/20\n",
            "44/44 [==============================] - 5s 125ms/step - loss: 0.1076 - accuracy: 0.9588 - val_loss: 0.0469 - val_accuracy: 0.9942\n",
            "Epoch 4/20\n",
            "44/44 [==============================] - 5s 123ms/step - loss: 0.0959 - accuracy: 0.9682 - val_loss: 0.0329 - val_accuracy: 0.9855\n",
            "Epoch 5/20\n",
            "44/44 [==============================] - 5s 114ms/step - loss: 0.0695 - accuracy: 0.9747 - val_loss: 0.0455 - val_accuracy: 0.9855\n",
            "Epoch 6/20\n",
            "44/44 [==============================] - 5s 118ms/step - loss: 0.0963 - accuracy: 0.9595 - val_loss: 0.0679 - val_accuracy: 0.9798\n",
            "Epoch 7/20\n",
            "44/44 [==============================] - 5s 115ms/step - loss: 0.1458 - accuracy: 0.9508 - val_loss: 0.1212 - val_accuracy: 0.9538\n",
            "Epoch 8/20\n",
            "44/44 [==============================] - 5s 107ms/step - loss: 0.0838 - accuracy: 0.9747 - val_loss: 0.0549 - val_accuracy: 0.9769\n",
            "Epoch 9/20\n",
            "44/44 [==============================] - 5s 118ms/step - loss: 0.0589 - accuracy: 0.9776 - val_loss: 0.0294 - val_accuracy: 0.9855\n",
            "Epoch 10/20\n",
            "44/44 [==============================] - 5s 107ms/step - loss: 0.1107 - accuracy: 0.9609 - val_loss: 0.0464 - val_accuracy: 0.9769\n",
            "Epoch 11/20\n",
            "44/44 [==============================] - 5s 117ms/step - loss: 0.0557 - accuracy: 0.9819 - val_loss: 0.0167 - val_accuracy: 0.9971\n",
            "Epoch 12/20\n",
            "44/44 [==============================] - 5s 108ms/step - loss: 0.0472 - accuracy: 0.9841 - val_loss: 0.0229 - val_accuracy: 0.9971\n",
            "Epoch 13/20\n",
            "44/44 [==============================] - 5s 116ms/step - loss: 0.0421 - accuracy: 0.9841 - val_loss: 0.0087 - val_accuracy: 1.0000\n",
            "Epoch 14/20\n",
            "44/44 [==============================] - 5s 108ms/step - loss: 0.0297 - accuracy: 0.9863 - val_loss: 0.0093 - val_accuracy: 1.0000\n",
            "Epoch 15/20\n",
            "44/44 [==============================] - 5s 106ms/step - loss: 0.0187 - accuracy: 0.9935 - val_loss: 0.0157 - val_accuracy: 0.9942\n",
            "Epoch 16/20\n",
            "44/44 [==============================] - 5s 109ms/step - loss: 0.0129 - accuracy: 0.9957 - val_loss: 0.0107 - val_accuracy: 0.9942\n",
            "Epoch 17/20\n",
            "44/44 [==============================] - 5s 107ms/step - loss: 0.0113 - accuracy: 0.9964 - val_loss: 0.0137 - val_accuracy: 0.9913\n",
            "Epoch 18/20\n",
            "44/44 [==============================] - 5s 113ms/step - loss: 0.0189 - accuracy: 0.9942 - val_loss: 0.0098 - val_accuracy: 0.9971\n",
            "Epoch 19/20\n",
            "44/44 [==============================] - 5s 111ms/step - loss: 0.0194 - accuracy: 0.9920 - val_loss: 0.0071 - val_accuracy: 1.0000\n",
            "Epoch 20/20\n",
            "44/44 [==============================] - 5s 119ms/step - loss: 0.0106 - accuracy: 0.9964 - val_loss: 0.0092 - val_accuracy: 0.9942\n",
            "Epoch 1/20\n",
            "44/44 [==============================] - 5s 117ms/step - loss: 0.0237 - accuracy: 0.9928 - val_loss: 0.0245 - val_accuracy: 0.9913\n",
            "Epoch 2/20\n",
            "44/44 [==============================] - 5s 107ms/step - loss: 0.0879 - accuracy: 0.9754 - val_loss: 0.0779 - val_accuracy: 0.9798\n",
            "Epoch 3/20\n",
            "44/44 [==============================] - 5s 114ms/step - loss: 0.0607 - accuracy: 0.9812 - val_loss: 0.0408 - val_accuracy: 0.9827\n",
            "Epoch 4/20\n",
            "44/44 [==============================] - 5s 107ms/step - loss: 0.0403 - accuracy: 0.9891 - val_loss: 0.0621 - val_accuracy: 0.9855\n",
            "Epoch 5/20\n",
            "44/44 [==============================] - 5s 108ms/step - loss: 0.0342 - accuracy: 0.9884 - val_loss: 0.0207 - val_accuracy: 0.9913\n",
            "Epoch 6/20\n",
            "44/44 [==============================] - 5s 113ms/step - loss: 0.0199 - accuracy: 0.9906 - val_loss: 0.0535 - val_accuracy: 0.9884\n",
            "Epoch 7/20\n",
            "44/44 [==============================] - 5s 107ms/step - loss: 0.0102 - accuracy: 0.9949 - val_loss: 0.0547 - val_accuracy: 0.9913\n",
            "Epoch 8/20\n",
            "44/44 [==============================] - 5s 106ms/step - loss: 0.0090 - accuracy: 0.9978 - val_loss: 0.0572 - val_accuracy: 0.9913\n",
            "Epoch 9/20\n",
            "44/44 [==============================] - 5s 107ms/step - loss: 0.0189 - accuracy: 0.9964 - val_loss: 0.0691 - val_accuracy: 0.9942\n",
            "Epoch 10/20\n",
            "44/44 [==============================] - 5s 106ms/step - loss: 0.0323 - accuracy: 0.9935 - val_loss: 0.0342 - val_accuracy: 0.9884\n",
            "Epoch 11/20\n",
            "44/44 [==============================] - 5s 113ms/step - loss: 0.0142 - accuracy: 0.9957 - val_loss: 0.0241 - val_accuracy: 0.9913\n",
            "Epoch 12/20\n",
            "44/44 [==============================] - 5s 113ms/step - loss: 0.0094 - accuracy: 0.9978 - val_loss: 0.0495 - val_accuracy: 0.9913\n",
            "Epoch 13/20\n",
            "44/44 [==============================] - 5s 106ms/step - loss: 0.0129 - accuracy: 0.9971 - val_loss: 0.0513 - val_accuracy: 0.9884\n",
            "Epoch 14/20\n",
            "44/44 [==============================] - 5s 107ms/step - loss: 0.0153 - accuracy: 0.9949 - val_loss: 0.0628 - val_accuracy: 0.9827\n",
            "Epoch 15/20\n",
            "44/44 [==============================] - 5s 106ms/step - loss: 0.0091 - accuracy: 0.9949 - val_loss: 0.0522 - val_accuracy: 0.9827\n",
            "Epoch 16/20\n",
            "44/44 [==============================] - 5s 112ms/step - loss: 0.0108 - accuracy: 0.9957 - val_loss: 0.0666 - val_accuracy: 0.9884\n",
            "Epoch 17/20\n",
            "44/44 [==============================] - 5s 107ms/step - loss: 0.0071 - accuracy: 0.9986 - val_loss: 0.0528 - val_accuracy: 0.9913\n",
            "Epoch 18/20\n",
            "44/44 [==============================] - 5s 105ms/step - loss: 0.0042 - accuracy: 0.9986 - val_loss: 0.0775 - val_accuracy: 0.9942\n",
            "Epoch 19/20\n",
            "44/44 [==============================] - 5s 114ms/step - loss: 0.0117 - accuracy: 0.9971 - val_loss: 0.0515 - val_accuracy: 0.9884\n",
            "Epoch 20/20\n",
            "44/44 [==============================] - 5s 106ms/step - loss: 0.0047 - accuracy: 0.9993 - val_loss: 0.0568 - val_accuracy: 0.9913\n",
            "Epoch 1/20\n",
            "44/44 [==============================] - 5s 118ms/step - loss: 0.0327 - accuracy: 0.9949 - val_loss: 0.0013 - val_accuracy: 1.0000\n",
            "Epoch 2/20\n",
            "44/44 [==============================] - 5s 115ms/step - loss: 0.0168 - accuracy: 0.9949 - val_loss: 1.4506e-04 - val_accuracy: 1.0000\n",
            "Epoch 3/20\n",
            "44/44 [==============================] - 5s 106ms/step - loss: 0.0176 - accuracy: 0.9949 - val_loss: 0.0016 - val_accuracy: 1.0000\n",
            "Epoch 4/20\n",
            "44/44 [==============================] - 5s 114ms/step - loss: 0.0075 - accuracy: 0.9971 - val_loss: 0.0015 - val_accuracy: 1.0000\n",
            "Epoch 5/20\n",
            "44/44 [==============================] - 5s 114ms/step - loss: 0.0139 - accuracy: 0.9949 - val_loss: 0.0027 - val_accuracy: 1.0000\n",
            "Epoch 6/20\n",
            "44/44 [==============================] - 5s 109ms/step - loss: 0.0141 - accuracy: 0.9964 - val_loss: 0.0010 - val_accuracy: 1.0000\n",
            "Epoch 7/20\n",
            "44/44 [==============================] - 5s 114ms/step - loss: 0.0070 - accuracy: 0.9964 - val_loss: 3.6269e-04 - val_accuracy: 1.0000\n",
            "Epoch 8/20\n",
            "44/44 [==============================] - 5s 107ms/step - loss: 0.0064 - accuracy: 0.9986 - val_loss: 0.0023 - val_accuracy: 1.0000\n",
            "Epoch 9/20\n",
            "44/44 [==============================] - 5s 108ms/step - loss: 0.0034 - accuracy: 0.9971 - val_loss: 1.9461e-04 - val_accuracy: 1.0000\n",
            "Epoch 10/20\n",
            "44/44 [==============================] - 5s 116ms/step - loss: 0.0046 - accuracy: 0.9986 - val_loss: 3.6438e-05 - val_accuracy: 1.0000\n",
            "Epoch 11/20\n",
            "44/44 [==============================] - 5s 107ms/step - loss: 0.0020 - accuracy: 0.9993 - val_loss: 1.9678e-04 - val_accuracy: 1.0000\n",
            "Epoch 12/20\n",
            "44/44 [==============================] - 5s 113ms/step - loss: 0.0061 - accuracy: 0.9978 - val_loss: 2.7284e-04 - val_accuracy: 1.0000\n",
            "Epoch 13/20\n",
            "44/44 [==============================] - 5s 113ms/step - loss: 0.0023 - accuracy: 0.9993 - val_loss: 4.8859e-05 - val_accuracy: 1.0000\n",
            "Epoch 14/20\n",
            "44/44 [==============================] - 5s 109ms/step - loss: 9.0786e-04 - accuracy: 1.0000 - val_loss: 2.6910e-05 - val_accuracy: 1.0000\n",
            "Epoch 15/20\n",
            "44/44 [==============================] - 5s 113ms/step - loss: 0.0021 - accuracy: 0.9993 - val_loss: 5.7785e-05 - val_accuracy: 1.0000\n",
            "Epoch 16/20\n",
            "44/44 [==============================] - 5s 114ms/step - loss: 2.2544e-04 - accuracy: 1.0000 - val_loss: 1.9582e-04 - val_accuracy: 1.0000\n",
            "Epoch 17/20\n",
            "44/44 [==============================] - 5s 113ms/step - loss: 2.4586e-04 - accuracy: 1.0000 - val_loss: 1.4853e-04 - val_accuracy: 1.0000\n",
            "Epoch 18/20\n",
            "44/44 [==============================] - 5s 114ms/step - loss: 1.2978e-04 - accuracy: 1.0000 - val_loss: 6.6031e-05 - val_accuracy: 1.0000\n",
            "Epoch 19/20\n",
            "44/44 [==============================] - 5s 114ms/step - loss: 6.9028e-04 - accuracy: 1.0000 - val_loss: 3.5485e-05 - val_accuracy: 1.0000\n",
            "Epoch 20/20\n",
            "44/44 [==============================] - 5s 107ms/step - loss: 7.4701e-04 - accuracy: 1.0000 - val_loss: 2.9303e-05 - val_accuracy: 1.0000\n",
            "Epoch 1/20\n",
            "44/44 [==============================] - 7s 154ms/step - loss: 0.0060 - accuracy: 0.9978 - val_loss: 2.8861e-05 - val_accuracy: 1.0000\n",
            "Epoch 2/20\n",
            "44/44 [==============================] - 5s 106ms/step - loss: 0.0029 - accuracy: 0.9986 - val_loss: 1.2132e-04 - val_accuracy: 1.0000\n",
            "Epoch 3/20\n",
            "44/44 [==============================] - 5s 114ms/step - loss: 0.0036 - accuracy: 0.9978 - val_loss: 1.3760e-04 - val_accuracy: 1.0000\n",
            "Epoch 4/20\n",
            "44/44 [==============================] - 5s 114ms/step - loss: 0.0036 - accuracy: 0.9971 - val_loss: 7.3251e-05 - val_accuracy: 1.0000\n",
            "Epoch 5/20\n",
            "44/44 [==============================] - 5s 107ms/step - loss: 0.0037 - accuracy: 0.9993 - val_loss: 0.0014 - val_accuracy: 1.0000\n",
            "Epoch 6/20\n",
            "44/44 [==============================] - 5s 115ms/step - loss: 0.0091 - accuracy: 0.9964 - val_loss: 1.0535e-04 - val_accuracy: 1.0000\n",
            "Epoch 7/20\n",
            "44/44 [==============================] - 5s 107ms/step - loss: 0.0184 - accuracy: 0.9942 - val_loss: 0.0016 - val_accuracy: 1.0000\n",
            "Epoch 8/20\n",
            "44/44 [==============================] - 5s 115ms/step - loss: 0.0348 - accuracy: 0.9899 - val_loss: 0.0954 - val_accuracy: 0.9797\n",
            "Epoch 9/20\n",
            "44/44 [==============================] - 5s 106ms/step - loss: 0.0212 - accuracy: 0.9935 - val_loss: 0.0016 - val_accuracy: 1.0000\n",
            "Epoch 10/20\n",
            "44/44 [==============================] - 5s 114ms/step - loss: 0.0213 - accuracy: 0.9978 - val_loss: 0.0027 - val_accuracy: 1.0000\n",
            "Epoch 11/20\n",
            "44/44 [==============================] - 5s 108ms/step - loss: 0.0404 - accuracy: 0.9899 - val_loss: 0.0326 - val_accuracy: 0.9913\n",
            "Epoch 12/20\n",
            "44/44 [==============================] - 5s 113ms/step - loss: 0.0347 - accuracy: 0.9957 - val_loss: 0.0237 - val_accuracy: 0.9942\n",
            "Epoch 13/20\n",
            "44/44 [==============================] - 5s 116ms/step - loss: 0.0083 - accuracy: 0.9971 - val_loss: 0.0061 - val_accuracy: 1.0000\n",
            "Epoch 14/20\n",
            "44/44 [==============================] - 5s 114ms/step - loss: 0.0069 - accuracy: 0.9971 - val_loss: 0.0028 - val_accuracy: 1.0000\n",
            "Epoch 15/20\n",
            "44/44 [==============================] - 5s 106ms/step - loss: 0.0039 - accuracy: 0.9986 - val_loss: 8.2003e-05 - val_accuracy: 1.0000\n",
            "Epoch 16/20\n",
            "44/44 [==============================] - 5s 106ms/step - loss: 0.0144 - accuracy: 0.9964 - val_loss: 0.0023 - val_accuracy: 1.0000\n",
            "Epoch 17/20\n",
            "44/44 [==============================] - 5s 113ms/step - loss: 0.0289 - accuracy: 0.9942 - val_loss: 0.0283 - val_accuracy: 0.9913\n",
            "Epoch 18/20\n",
            "44/44 [==============================] - 5s 113ms/step - loss: 0.0381 - accuracy: 0.9906 - val_loss: 0.0025 - val_accuracy: 1.0000\n",
            "Epoch 19/20\n",
            "44/44 [==============================] - 5s 106ms/step - loss: 0.0179 - accuracy: 0.9957 - val_loss: 0.0028 - val_accuracy: 1.0000\n",
            "Epoch 20/20\n",
            "44/44 [==============================] - 5s 114ms/step - loss: 0.0017 - accuracy: 1.0000 - val_loss: 0.0017 - val_accuracy: 1.0000\n",
            "Epoch 1/20\n",
            "44/44 [==============================] - 5s 117ms/step - loss: 0.0030 - accuracy: 0.9986 - val_loss: 9.0980e-05 - val_accuracy: 1.0000\n",
            "Epoch 2/20\n",
            "44/44 [==============================] - 5s 106ms/step - loss: 0.0083 - accuracy: 0.9978 - val_loss: 5.5721e-04 - val_accuracy: 1.0000\n",
            "Epoch 3/20\n",
            "44/44 [==============================] - 5s 117ms/step - loss: 0.0055 - accuracy: 0.9978 - val_loss: 8.6634e-05 - val_accuracy: 1.0000\n",
            "Epoch 4/20\n",
            "44/44 [==============================] - 5s 115ms/step - loss: 0.0091 - accuracy: 0.9957 - val_loss: 4.2767e-05 - val_accuracy: 1.0000\n",
            "Epoch 5/20\n",
            "44/44 [==============================] - 5s 117ms/step - loss: 0.0041 - accuracy: 0.9986 - val_loss: 1.0485e-05 - val_accuracy: 1.0000\n",
            "Epoch 6/20\n",
            "44/44 [==============================] - 5s 107ms/step - loss: 0.0240 - accuracy: 0.9949 - val_loss: 0.0288 - val_accuracy: 0.9884\n",
            "Epoch 7/20\n",
            "44/44 [==============================] - 5s 106ms/step - loss: 0.0334 - accuracy: 0.9899 - val_loss: 0.0025 - val_accuracy: 1.0000\n",
            "Epoch 8/20\n",
            "44/44 [==============================] - 5s 115ms/step - loss: 0.0083 - accuracy: 0.9986 - val_loss: 0.0022 - val_accuracy: 1.0000\n",
            "Epoch 9/20\n",
            "44/44 [==============================] - 5s 106ms/step - loss: 0.0013 - accuracy: 1.0000 - val_loss: 0.0017 - val_accuracy: 1.0000\n",
            "Epoch 10/20\n",
            "44/44 [==============================] - 5s 106ms/step - loss: 0.0214 - accuracy: 0.9964 - val_loss: 0.0023 - val_accuracy: 1.0000\n",
            "Epoch 11/20\n",
            "44/44 [==============================] - 5s 107ms/step - loss: 0.0098 - accuracy: 0.9964 - val_loss: 0.0012 - val_accuracy: 1.0000\n",
            "Epoch 12/20\n",
            "44/44 [==============================] - 5s 106ms/step - loss: 8.5684e-04 - accuracy: 1.0000 - val_loss: 3.9667e-04 - val_accuracy: 1.0000\n",
            "Epoch 13/20\n",
            "44/44 [==============================] - 5s 115ms/step - loss: 0.0024 - accuracy: 0.9993 - val_loss: 1.9985e-04 - val_accuracy: 1.0000\n",
            "Epoch 14/20\n",
            "44/44 [==============================] - 5s 105ms/step - loss: 9.8300e-04 - accuracy: 1.0000 - val_loss: 4.3365e-04 - val_accuracy: 1.0000\n",
            "Epoch 15/20\n",
            "44/44 [==============================] - 5s 113ms/step - loss: 9.6940e-04 - accuracy: 1.0000 - val_loss: 1.3831e-04 - val_accuracy: 1.0000\n",
            "Epoch 16/20\n",
            "44/44 [==============================] - 5s 107ms/step - loss: 8.6453e-04 - accuracy: 1.0000 - val_loss: 1.7182e-04 - val_accuracy: 1.0000\n",
            "Epoch 17/20\n",
            "44/44 [==============================] - 5s 113ms/step - loss: 0.0047 - accuracy: 0.9971 - val_loss: 9.2487e-04 - val_accuracy: 1.0000\n",
            "Epoch 18/20\n",
            "44/44 [==============================] - 5s 107ms/step - loss: 0.0046 - accuracy: 0.9986 - val_loss: 3.2904e-04 - val_accuracy: 1.0000\n",
            "Epoch 19/20\n",
            "44/44 [==============================] - 5s 106ms/step - loss: 0.0011 - accuracy: 0.9993 - val_loss: 8.7151e-05 - val_accuracy: 1.0000\n",
            "Epoch 20/20\n",
            "44/44 [==============================] - 5s 113ms/step - loss: 1.4398e-04 - accuracy: 1.0000 - val_loss: 5.5068e-05 - val_accuracy: 1.0000\n"
          ]
        }
      ],
      "source": [
        "from sklearn.model_selection import KFold\n",
        "from sklearn.model_selection import train_test_split\n",
        "from keras.callbacks import ModelCheckpoint\n",
        "\n",
        "\n",
        "# Split the data into train and test sets\n",
        "train_data, test_data, train_target, test_target = train_test_split(data, target, test_size=0.10)\n",
        "\n",
        "\n",
        "# Set up K-fold cross-validation with 5 folds\n",
        "n_folds = 5\n",
        "kf = KFold(n_splits=n_folds, shuffle=True)\n",
        "\n",
        "\n",
        "# Initialize a list to store the validation loss for each fold\n",
        "val_losses = []\n",
        "\n",
        "\n",
        "# Iterate over the folds\n",
        "for fold, (train_idx, val_idx) in enumerate(kf.split(train_data)):\n",
        "    # Split the data into train and validation sets\n",
        "    fold_train_data, fold_train_target = train_data[train_idx], train_target[train_idx]\n",
        "    fold_val_data, fold_val_target = train_data[val_idx], train_target[val_idx]\n",
        "\n",
        "\n",
        "    # Define the checkpoint filename for this fold\n",
        "    checkpoint_filename = 'model-fold-{}-{{epoch:03d}}.model'.format(fold)\n",
        "\n",
        "\n",
        "    # Define the ModelCheckpoint callback for this fold\n",
        "    checkpoint = ModelCheckpoint(checkpoint_filename, monitor='val_loss', verbose=0, save_best_only=True, mode='auto', save_weights_only=True)\n",
        "\n",
        "\n",
        "    # Train the model for this fold\n",
        "    history = model.fit(fold_train_data, fold_train_target, epochs=20, callbacks=[checkpoint], validation_data=(fold_val_data, fold_val_target))\n",
        "\n",
        "\n",
        "    # Save the validation loss for this fold\n",
        "    val_losses.append(history.history['val_loss'])\n",
        "\n",
        "\n",
        "# Compute the average validation loss across all folds\n",
        "avg_val_loss = np.mean(val_losses)\n",
        "\n"
      ]
    },
    {
      "cell_type": "code",
      "source": [
        "import numpy as np\n",
        "import matplotlib.pyplot as plt\n",
        "from sklearn.model_selection import KFold\n",
        "from sklearn.model_selection import train_test_split\n",
        "from keras.callbacks import ModelCheckpoint\n",
        "\n",
        "# Split the data into train and test sets\n",
        "train_data, test_data, train_target, test_target = train_test_split(data, target, test_size=0.10)\n",
        "\n",
        "# Set up K-fold cross-validation with 5 folds\n",
        "n_folds = 5\n",
        "kf = KFold(n_splits=n_folds, shuffle=True)\n",
        "\n",
        "# Initialize lists to store the training and validation losses and accuracies for each epoch and fold\n",
        "train_losses = []\n",
        "val_losses = []\n",
        "train_accs = []\n",
        "val_accs = []\n",
        "\n",
        "# Iterate over the folds\n",
        "for fold, (train_idx, val_idx) in enumerate(kf.split(train_data)):\n",
        "    # Split the data into train and validation sets\n",
        "    fold_train_data, fold_train_target = train_data[train_idx], train_target[train_idx]\n",
        "    fold_val_data, fold_val_target = train_data[val_idx], train_target[val_idx]\n",
        "\n",
        "    # Define the checkpoint filename for this fold\n",
        "    checkpoint_filename = 'model-fold-{}-{{epoch:03d}}.model'.format(fold)\n",
        "\n",
        "    # Define the ModelCheckpoint callback for this fold\n",
        "    checkpoint = ModelCheckpoint(checkpoint_filename, monitor='val_loss', verbose=0, save_best_only=True, mode='auto', save_weights_only=True)\n",
        "\n",
        "    # Train the model for this fold\n",
        "    history = model.fit(fold_train_data, fold_train_target, epochs=20, callbacks=[checkpoint], validation_data=(fold_val_data, fold_val_target))\n",
        "\n",
        "    # Save the training and validation losses and accuracies for this fold\n",
        "    train_losses.append(history.history['loss'])\n",
        "    val_losses.append(history.history['val_loss'])\n",
        "    train_accs.append(history.history['accuracy'])\n",
        "    val_accs.append(history.history['val_accuracy'])\n",
        "\n",
        "# Compute the average training and validation losses and accuracies across all folds and epochs\n",
        "avg_train_loss = np.mean(train_losses, axis=0)\n",
        "avg_val_loss = np.mean(val_losses, axis=0)\n",
        "avg_train_acc = np.mean(train_accs, axis=0)\n",
        "avg_val_acc = np.mean(val_accs, axis=0)"
      ],
      "metadata": {
        "colab": {
          "base_uri": "https://localhost:8080/"
        },
        "id": "YiN79xnoLnxA",
        "outputId": "95674bd3-00d2-433b-ff94-9a1b6650fb1d"
      },
      "execution_count": null,
      "outputs": [
        {
          "output_type": "stream",
          "name": "stdout",
          "text": [
            "Epoch 1/20\n",
            "44/44 [==============================] - 5s 111ms/step - loss: 0.0054 - accuracy: 0.9978 - val_loss: 1.7274e-05 - val_accuracy: 1.0000\n",
            "Epoch 2/20\n",
            "44/44 [==============================] - 5s 108ms/step - loss: 0.0175 - accuracy: 0.9928 - val_loss: 2.9097e-04 - val_accuracy: 1.0000\n",
            "Epoch 3/20\n",
            "44/44 [==============================] - 5s 114ms/step - loss: 0.0059 - accuracy: 0.9971 - val_loss: 1.3835e-04 - val_accuracy: 1.0000\n",
            "Epoch 4/20\n",
            "44/44 [==============================] - 5s 107ms/step - loss: 0.0057 - accuracy: 0.9986 - val_loss: 1.3893e-04 - val_accuracy: 1.0000\n",
            "Epoch 5/20\n",
            "44/44 [==============================] - 5s 114ms/step - loss: 7.5710e-04 - accuracy: 1.0000 - val_loss: 1.1716e-04 - val_accuracy: 1.0000\n",
            "Epoch 6/20\n",
            "44/44 [==============================] - 5s 106ms/step - loss: 0.0026 - accuracy: 0.9986 - val_loss: 1.2966e-04 - val_accuracy: 1.0000\n",
            "Epoch 7/20\n",
            "44/44 [==============================] - 5s 113ms/step - loss: 5.4226e-04 - accuracy: 1.0000 - val_loss: 4.8699e-05 - val_accuracy: 1.0000\n",
            "Epoch 8/20\n",
            "44/44 [==============================] - 5s 116ms/step - loss: 4.9576e-04 - accuracy: 1.0000 - val_loss: 1.3340e-05 - val_accuracy: 1.0000\n",
            "Epoch 9/20\n",
            "44/44 [==============================] - 5s 108ms/step - loss: 8.1564e-05 - accuracy: 1.0000 - val_loss: 1.1268e-05 - val_accuracy: 1.0000\n",
            "Epoch 10/20\n",
            "44/44 [==============================] - 5s 109ms/step - loss: 7.7381e-04 - accuracy: 0.9993 - val_loss: 5.7349e-06 - val_accuracy: 1.0000\n",
            "Epoch 11/20\n",
            "44/44 [==============================] - 5s 106ms/step - loss: 1.1741e-04 - accuracy: 1.0000 - val_loss: 7.0296e-06 - val_accuracy: 1.0000\n",
            "Epoch 12/20\n",
            "44/44 [==============================] - 5s 105ms/step - loss: 1.5645e-04 - accuracy: 1.0000 - val_loss: 6.5299e-06 - val_accuracy: 1.0000\n",
            "Epoch 13/20\n",
            "44/44 [==============================] - 5s 106ms/step - loss: 0.0015 - accuracy: 0.9993 - val_loss: 2.2374e-05 - val_accuracy: 1.0000\n",
            "Epoch 14/20\n",
            "44/44 [==============================] - 5s 105ms/step - loss: 0.0011 - accuracy: 0.9993 - val_loss: 3.1592e-05 - val_accuracy: 1.0000\n",
            "Epoch 15/20\n",
            "44/44 [==============================] - 6s 135ms/step - loss: 2.5181e-04 - accuracy: 1.0000 - val_loss: 5.5153e-06 - val_accuracy: 1.0000\n",
            "Epoch 16/20\n",
            "44/44 [==============================] - 5s 114ms/step - loss: 6.7428e-04 - accuracy: 0.9993 - val_loss: 1.0625e-05 - val_accuracy: 1.0000\n",
            "Epoch 17/20\n",
            "44/44 [==============================] - 5s 105ms/step - loss: 0.0016 - accuracy: 0.9986 - val_loss: 1.4884e-05 - val_accuracy: 1.0000\n",
            "Epoch 18/20\n",
            "44/44 [==============================] - 5s 107ms/step - loss: 2.3338e-04 - accuracy: 1.0000 - val_loss: 9.4692e-06 - val_accuracy: 1.0000\n",
            "Epoch 19/20\n",
            "44/44 [==============================] - 5s 116ms/step - loss: 2.7440e-04 - accuracy: 1.0000 - val_loss: 2.9191e-06 - val_accuracy: 1.0000\n",
            "Epoch 20/20\n",
            "44/44 [==============================] - 5s 117ms/step - loss: 2.4712e-05 - accuracy: 1.0000 - val_loss: 2.0818e-06 - val_accuracy: 1.0000\n",
            "Epoch 1/20\n",
            "44/44 [==============================] - 5s 109ms/step - loss: 2.9287e-04 - accuracy: 1.0000 - val_loss: 1.1439e-07 - val_accuracy: 1.0000\n",
            "Epoch 2/20\n",
            "44/44 [==============================] - 5s 106ms/step - loss: 1.9325e-04 - accuracy: 1.0000 - val_loss: 1.2989e-07 - val_accuracy: 1.0000\n",
            "Epoch 3/20\n",
            "44/44 [==============================] - 5s 114ms/step - loss: 0.0022 - accuracy: 0.9993 - val_loss: 1.5524e-06 - val_accuracy: 1.0000\n",
            "Epoch 4/20\n",
            "44/44 [==============================] - 5s 106ms/step - loss: 0.0049 - accuracy: 0.9986 - val_loss: 0.1334 - val_accuracy: 0.9913\n",
            "Epoch 5/20\n",
            "44/44 [==============================] - 5s 114ms/step - loss: 0.4465 - accuracy: 0.9660 - val_loss: 0.0439 - val_accuracy: 0.9942\n",
            "Epoch 6/20\n",
            "44/44 [==============================] - 5s 105ms/step - loss: 0.0261 - accuracy: 0.9949 - val_loss: 0.0034 - val_accuracy: 0.9971\n",
            "Epoch 7/20\n",
            "44/44 [==============================] - 5s 112ms/step - loss: 0.0129 - accuracy: 0.9957 - val_loss: 6.0078e-04 - val_accuracy: 1.0000\n",
            "Epoch 8/20\n",
            "44/44 [==============================] - 5s 114ms/step - loss: 0.0063 - accuracy: 0.9978 - val_loss: 0.0020 - val_accuracy: 1.0000\n",
            "Epoch 9/20\n",
            "44/44 [==============================] - 5s 113ms/step - loss: 0.0041 - accuracy: 0.9986 - val_loss: 0.0015 - val_accuracy: 1.0000\n",
            "Epoch 10/20\n",
            "44/44 [==============================] - 5s 106ms/step - loss: 0.0072 - accuracy: 0.9986 - val_loss: 0.0021 - val_accuracy: 1.0000\n",
            "Epoch 11/20\n",
            "44/44 [==============================] - 5s 105ms/step - loss: 0.0065 - accuracy: 0.9964 - val_loss: 0.0024 - val_accuracy: 1.0000\n",
            "Epoch 12/20\n",
            "44/44 [==============================] - 5s 112ms/step - loss: 0.0040 - accuracy: 0.9986 - val_loss: 0.0025 - val_accuracy: 1.0000\n",
            "Epoch 13/20\n",
            "44/44 [==============================] - 5s 113ms/step - loss: 0.0144 - accuracy: 0.9986 - val_loss: 0.0010 - val_accuracy: 1.0000\n",
            "Epoch 14/20\n",
            "44/44 [==============================] - 5s 105ms/step - loss: 0.0019 - accuracy: 0.9993 - val_loss: 3.7031e-04 - val_accuracy: 1.0000\n",
            "Epoch 15/20\n",
            "44/44 [==============================] - 5s 113ms/step - loss: 0.0018 - accuracy: 0.9993 - val_loss: 2.7593e-05 - val_accuracy: 1.0000\n",
            "Epoch 16/20\n",
            "44/44 [==============================] - 5s 105ms/step - loss: 0.0015 - accuracy: 0.9986 - val_loss: 4.6655e-04 - val_accuracy: 1.0000\n",
            "Epoch 17/20\n",
            "44/44 [==============================] - 5s 113ms/step - loss: 1.7005e-04 - accuracy: 1.0000 - val_loss: 7.4678e-05 - val_accuracy: 1.0000\n",
            "Epoch 18/20\n",
            "44/44 [==============================] - 5s 107ms/step - loss: 5.7728e-04 - accuracy: 1.0000 - val_loss: 3.8113e-05 - val_accuracy: 1.0000\n",
            "Epoch 19/20\n",
            "44/44 [==============================] - 5s 113ms/step - loss: 1.1969e-04 - accuracy: 1.0000 - val_loss: 7.7852e-05 - val_accuracy: 1.0000\n",
            "Epoch 20/20\n",
            "44/44 [==============================] - 5s 113ms/step - loss: 3.4245e-04 - accuracy: 1.0000 - val_loss: 7.9835e-05 - val_accuracy: 1.0000\n",
            "Epoch 1/20\n",
            "44/44 [==============================] - 5s 109ms/step - loss: 0.0056 - accuracy: 0.9971 - val_loss: 9.0822e-06 - val_accuracy: 1.0000\n",
            "Epoch 2/20\n",
            "44/44 [==============================] - 5s 108ms/step - loss: 9.5302e-04 - accuracy: 0.9993 - val_loss: 4.1000e-08 - val_accuracy: 1.0000\n",
            "Epoch 3/20\n",
            "44/44 [==============================] - 5s 106ms/step - loss: 0.0102 - accuracy: 0.9964 - val_loss: 1.2727e-05 - val_accuracy: 1.0000\n",
            "Epoch 4/20\n",
            "44/44 [==============================] - 5s 105ms/step - loss: 0.0131 - accuracy: 0.9964 - val_loss: 0.0028 - val_accuracy: 1.0000\n",
            "Epoch 5/20\n",
            "44/44 [==============================] - 5s 107ms/step - loss: 0.0170 - accuracy: 0.9957 - val_loss: 0.1177 - val_accuracy: 0.9711\n",
            "Epoch 6/20\n",
            "44/44 [==============================] - 5s 114ms/step - loss: 0.0073 - accuracy: 0.9978 - val_loss: 6.3243e-05 - val_accuracy: 1.0000\n",
            "Epoch 7/20\n",
            "44/44 [==============================] - 5s 107ms/step - loss: 0.0052 - accuracy: 0.9986 - val_loss: 1.2007e-04 - val_accuracy: 1.0000\n",
            "Epoch 8/20\n",
            "44/44 [==============================] - 5s 114ms/step - loss: 0.0110 - accuracy: 0.9971 - val_loss: 2.5351e-05 - val_accuracy: 1.0000\n",
            "Epoch 9/20\n",
            "44/44 [==============================] - 5s 113ms/step - loss: 0.0097 - accuracy: 0.9978 - val_loss: 3.0704e-05 - val_accuracy: 1.0000\n",
            "Epoch 10/20\n",
            "44/44 [==============================] - 5s 113ms/step - loss: 0.0018 - accuracy: 0.9993 - val_loss: 8.5802e-05 - val_accuracy: 1.0000\n",
            "Epoch 11/20\n",
            "44/44 [==============================] - 5s 105ms/step - loss: 0.0013 - accuracy: 1.0000 - val_loss: 2.5236e-05 - val_accuracy: 1.0000\n",
            "Epoch 12/20\n",
            "44/44 [==============================] - 5s 106ms/step - loss: 8.9001e-04 - accuracy: 0.9993 - val_loss: 8.6065e-06 - val_accuracy: 1.0000\n",
            "Epoch 13/20\n",
            "44/44 [==============================] - 5s 114ms/step - loss: 1.3613e-04 - accuracy: 1.0000 - val_loss: 7.7680e-06 - val_accuracy: 1.0000\n",
            "Epoch 14/20\n",
            "44/44 [==============================] - 5s 105ms/step - loss: 0.0022 - accuracy: 0.9993 - val_loss: 1.4702e-05 - val_accuracy: 1.0000\n",
            "Epoch 15/20\n",
            "44/44 [==============================] - 5s 113ms/step - loss: 0.0031 - accuracy: 0.9993 - val_loss: 1.1706e-05 - val_accuracy: 1.0000\n",
            "Epoch 16/20\n",
            "44/44 [==============================] - 5s 105ms/step - loss: 0.0104 - accuracy: 0.9993 - val_loss: 4.3674e-05 - val_accuracy: 1.0000\n",
            "Epoch 17/20\n",
            "44/44 [==============================] - 5s 105ms/step - loss: 0.0014 - accuracy: 0.9993 - val_loss: 1.3617e-04 - val_accuracy: 1.0000\n",
            "Epoch 18/20\n",
            "44/44 [==============================] - 5s 107ms/step - loss: 5.4570e-04 - accuracy: 1.0000 - val_loss: 7.3858e-05 - val_accuracy: 1.0000\n",
            "Epoch 19/20\n",
            "44/44 [==============================] - 5s 105ms/step - loss: 0.0012 - accuracy: 1.0000 - val_loss: 1.8811e-05 - val_accuracy: 1.0000\n",
            "Epoch 20/20\n",
            "44/44 [==============================] - 5s 113ms/step - loss: 3.0918e-04 - accuracy: 1.0000 - val_loss: 0.0033 - val_accuracy: 0.9971\n",
            "Epoch 1/20\n",
            "44/44 [==============================] - 5s 109ms/step - loss: 0.0067 - accuracy: 0.9986 - val_loss: 1.2173e-04 - val_accuracy: 1.0000\n",
            "Epoch 2/20\n",
            "44/44 [==============================] - 5s 108ms/step - loss: 5.3397e-04 - accuracy: 1.0000 - val_loss: 5.9760e-05 - val_accuracy: 1.0000\n",
            "Epoch 3/20\n",
            "44/44 [==============================] - 5s 117ms/step - loss: 2.0402e-04 - accuracy: 1.0000 - val_loss: 3.5713e-05 - val_accuracy: 1.0000\n",
            "Epoch 4/20\n",
            "44/44 [==============================] - 5s 108ms/step - loss: 2.2690e-04 - accuracy: 1.0000 - val_loss: 3.3499e-05 - val_accuracy: 1.0000\n",
            "Epoch 5/20\n",
            "44/44 [==============================] - 5s 117ms/step - loss: 2.7367e-04 - accuracy: 1.0000 - val_loss: 2.0186e-05 - val_accuracy: 1.0000\n",
            "Epoch 6/20\n",
            "44/44 [==============================] - 5s 116ms/step - loss: 5.8425e-05 - accuracy: 1.0000 - val_loss: 1.8280e-05 - val_accuracy: 1.0000\n",
            "Epoch 7/20\n",
            "44/44 [==============================] - 5s 110ms/step - loss: 8.2050e-05 - accuracy: 1.0000 - val_loss: 1.5011e-05 - val_accuracy: 1.0000\n",
            "Epoch 8/20\n",
            "44/44 [==============================] - 5s 109ms/step - loss: 2.6402e-05 - accuracy: 1.0000 - val_loss: 1.3694e-05 - val_accuracy: 1.0000\n",
            "Epoch 9/20\n",
            "44/44 [==============================] - 5s 107ms/step - loss: 6.6880e-05 - accuracy: 1.0000 - val_loss: 1.3750e-05 - val_accuracy: 1.0000\n",
            "Epoch 10/20\n",
            "44/44 [==============================] - 5s 116ms/step - loss: 4.9399e-05 - accuracy: 1.0000 - val_loss: 1.2192e-05 - val_accuracy: 1.0000\n",
            "Epoch 11/20\n",
            "44/44 [==============================] - 5s 115ms/step - loss: 4.2171e-05 - accuracy: 1.0000 - val_loss: 1.1120e-05 - val_accuracy: 1.0000\n",
            "Epoch 12/20\n",
            "44/44 [==============================] - 5s 116ms/step - loss: 4.6568e-05 - accuracy: 1.0000 - val_loss: 9.4703e-06 - val_accuracy: 1.0000\n",
            "Epoch 13/20\n",
            "44/44 [==============================] - 5s 115ms/step - loss: 9.4721e-05 - accuracy: 1.0000 - val_loss: 8.5141e-06 - val_accuracy: 1.0000\n",
            "Epoch 14/20\n",
            "44/44 [==============================] - 5s 107ms/step - loss: 3.5957e-05 - accuracy: 1.0000 - val_loss: 7.3779e-06 - val_accuracy: 1.0000\n",
            "Epoch 15/20\n",
            "44/44 [==============================] - 5s 108ms/step - loss: 2.8127e-05 - accuracy: 1.0000 - val_loss: 6.4849e-06 - val_accuracy: 1.0000\n",
            "Epoch 16/20\n",
            "44/44 [==============================] - 5s 115ms/step - loss: 1.4500e-05 - accuracy: 1.0000 - val_loss: 5.6763e-06 - val_accuracy: 1.0000\n",
            "Epoch 17/20\n",
            "44/44 [==============================] - 5s 109ms/step - loss: 4.3093e-05 - accuracy: 1.0000 - val_loss: 5.3774e-06 - val_accuracy: 1.0000\n",
            "Epoch 18/20\n",
            "44/44 [==============================] - 5s 115ms/step - loss: 4.1868e-05 - accuracy: 1.0000 - val_loss: 4.0910e-06 - val_accuracy: 1.0000\n",
            "Epoch 19/20\n",
            "44/44 [==============================] - 5s 108ms/step - loss: 1.0811e-05 - accuracy: 1.0000 - val_loss: 3.7611e-06 - val_accuracy: 1.0000\n",
            "Epoch 20/20\n",
            "44/44 [==============================] - 5s 116ms/step - loss: 8.6425e-06 - accuracy: 1.0000 - val_loss: 3.7394e-06 - val_accuracy: 1.0000\n",
            "Epoch 1/20\n",
            "44/44 [==============================] - 5s 117ms/step - loss: 1.7558e-04 - accuracy: 1.0000 - val_loss: 8.3273e-08 - val_accuracy: 1.0000\n",
            "Epoch 2/20\n",
            "44/44 [==============================] - 5s 114ms/step - loss: 1.1362e-04 - accuracy: 1.0000 - val_loss: 1.6309e-07 - val_accuracy: 1.0000\n",
            "Epoch 3/20\n",
            "44/44 [==============================] - 5s 108ms/step - loss: 0.0018 - accuracy: 0.9993 - val_loss: 0.0000e+00 - val_accuracy: 1.0000\n",
            "Epoch 4/20\n",
            "44/44 [==============================] - 5s 112ms/step - loss: 0.0257 - accuracy: 0.9949 - val_loss: 0.0013 - val_accuracy: 1.0000\n",
            "Epoch 5/20\n",
            "44/44 [==============================] - 5s 114ms/step - loss: 0.0055 - accuracy: 0.9986 - val_loss: 4.0774e-04 - val_accuracy: 1.0000\n",
            "Epoch 6/20\n",
            "44/44 [==============================] - 5s 105ms/step - loss: 0.0031 - accuracy: 0.9993 - val_loss: 1.7554e-06 - val_accuracy: 1.0000\n",
            "Epoch 7/20\n",
            "44/44 [==============================] - 5s 113ms/step - loss: 0.0105 - accuracy: 0.9964 - val_loss: 0.0032 - val_accuracy: 0.9971\n",
            "Epoch 8/20\n",
            "44/44 [==============================] - 5s 105ms/step - loss: 0.0020 - accuracy: 0.9993 - val_loss: 8.9005e-07 - val_accuracy: 1.0000\n",
            "Epoch 9/20\n",
            "44/44 [==============================] - 5s 105ms/step - loss: 2.3245e-04 - accuracy: 1.0000 - val_loss: 2.9093e-07 - val_accuracy: 1.0000\n",
            "Epoch 10/20\n",
            "44/44 [==============================] - 5s 114ms/step - loss: 0.0010 - accuracy: 0.9993 - val_loss: 1.4823e-06 - val_accuracy: 1.0000\n",
            "Epoch 11/20\n",
            "44/44 [==============================] - 5s 113ms/step - loss: 5.2260e-04 - accuracy: 1.0000 - val_loss: 1.6689e-07 - val_accuracy: 1.0000\n",
            "Epoch 12/20\n",
            "44/44 [==============================] - 5s 114ms/step - loss: 0.0024 - accuracy: 0.9986 - val_loss: 2.3226e-05 - val_accuracy: 1.0000\n",
            "Epoch 13/20\n",
            "44/44 [==============================] - 5s 112ms/step - loss: 0.0088 - accuracy: 0.9978 - val_loss: 1.1678e-04 - val_accuracy: 1.0000\n",
            "Epoch 14/20\n",
            "44/44 [==============================] - 5s 105ms/step - loss: 0.0066 - accuracy: 0.9978 - val_loss: 6.0861e-04 - val_accuracy: 1.0000\n",
            "Epoch 15/20\n",
            "44/44 [==============================] - 5s 106ms/step - loss: 0.0095 - accuracy: 0.9986 - val_loss: 9.9923e-07 - val_accuracy: 1.0000\n",
            "Epoch 16/20\n",
            "44/44 [==============================] - 5s 112ms/step - loss: 0.0021 - accuracy: 0.9993 - val_loss: 1.0721e-04 - val_accuracy: 1.0000\n",
            "Epoch 17/20\n",
            "44/44 [==============================] - 5s 114ms/step - loss: 0.0013 - accuracy: 0.9993 - val_loss: 4.6672e-05 - val_accuracy: 1.0000\n",
            "Epoch 18/20\n",
            "44/44 [==============================] - 5s 105ms/step - loss: 2.7600e-04 - accuracy: 1.0000 - val_loss: 1.3672e-05 - val_accuracy: 1.0000\n",
            "Epoch 19/20\n",
            "44/44 [==============================] - 5s 106ms/step - loss: 1.8866e-04 - accuracy: 1.0000 - val_loss: 6.3503e-06 - val_accuracy: 1.0000\n",
            "Epoch 20/20\n",
            "44/44 [==============================] - 5s 107ms/step - loss: 0.0018 - accuracy: 0.9993 - val_loss: 4.9432e-05 - val_accuracy: 1.0000\n"
          ]
        }
      ]
    },
    {
      "cell_type": "code",
      "source": [
        "\n",
        "# Plot the curves of training and validation loss and accuracy\n",
        "plt.plot(avg_train_acc, label='Acurácia de Treinamento')\n",
        "plt.plot(avg_val_acc, label='Acurácia de Validação')\n",
        "#plt.plot(avg_train_acc, label='Training Accuracy')\n",
        "#plt.plot(avg_val_acc, label='Validation Accuracy')\n",
        "plt.xlabel('# epochs')\n",
        "plt.ylabel('Acurácia')\n",
        "plt.legend(loc=\"lower right\", prop={'size': 10})\n",
        "plt.show()"
      ],
      "metadata": {
        "colab": {
          "base_uri": "https://localhost:8080/",
          "height": 295
        },
        "id": "oahsZV8QMXCE",
        "outputId": "cd0d5dd9-afc7-4f10-dd44-3901865a54d3"
      },
      "execution_count": null,
      "outputs": [
        {
          "output_type": "display_data",
          "data": {
            "text/plain": [
              "<Figure size 432x288 with 1 Axes>"
            ],
            "image/png": "[encoded data removed]"
          },
          "metadata": {}
        }
      ]
    },
    {
      "cell_type": "code",
      "source": [
        "# Plot the curves of training and validation loss and accuracy\n",
        "plt.plot(avg_train_loss, label='Perda de Treinamento')\n",
        "plt.plot(avg_val_loss, label='Perda de Validação')\n",
        "#plt.plot(avg_train_acc, label='Training Accuracy')\n",
        "#plt.plot(avg_val_acc, label='Validation Accuracy')\n",
        "plt.xlabel('# epochs')\n",
        "plt.ylabel('Perda')\n",
        "plt.legend(loc=\"upper right\", prop={'size': 10})\n",
        "plt.show()"
      ],
      "metadata": {
        "colab": {
          "base_uri": "https://localhost:8080/",
          "height": 295
        },
        "id": "YTtkSSn3OZd0",
        "outputId": "3faa67f1-c7fd-48fc-ac87-6e85398c8bc1"
      },
      "execution_count": null,
      "outputs": [
        {
          "output_type": "display_data",
          "data": {
            "text/plain": [
              "<Figure size 432x288 with 1 Axes>"
            ],
            "image/png": "[encoded data removed]"
          },
          "metadata": {}
        }
      ]
    },
    {
      "cell_type": "code",
      "execution_count": null,
      "metadata": {
        "colab": {
          "base_uri": "https://localhost:8080/",
          "height": 295
        },
        "id": "xhcj7P9HKvD_",
        "outputId": "c5e67c15-7eb5-4a39-acaa-97d603518960"
      },
      "outputs": [
        {
          "output_type": "display_data",
          "data": {
            "text/plain": [
              "<Figure size 432x288 with 1 Axes>"
            ],
            "image/png": "[encoded data removed]"
          },
          "metadata": {}
        }
      ],
      "source": [
        "from matplotlib import pyplot as plt\n",
        "\n",
        "plt.plot(history.history['loss'],'r',label='Perda de Treinamento')\n",
        "plt.plot(history.history['val_loss'],label='Perda de Validação')\n",
        "plt.xlabel('# epochs')\n",
        "plt.ylabel('Perda')\n",
        "plt.legend(loc=\"upper left\", prop={'size': 10})\n",
        "plt.show()"
      ]
    },
    {
      "cell_type": "code",
      "execution_count": null,
      "metadata": {
        "colab": {
          "base_uri": "https://localhost:8080/",
          "height": 279
        },
        "id": "aFIJ7de9KvEA",
        "outputId": "ae2e796d-03f0-4949-df2b-1d4d2c224d0f"
      },
      "outputs": [
        {
          "output_type": "display_data",
          "data": {
            "text/plain": [
              "<Figure size 432x288 with 1 Axes>"
            ],
            "image/png": "[encoded data removed]"
          },
          "metadata": {
            "needs_background": "light"
          }
        }
      ],
      "source": [
        "plt.plot(history.history['accuracy'],'r',label='Acurácia de Treinamento')\n",
        "plt.plot(history.history['val_accuracy'],label='Acurácia de Validação')\n",
        "plt.xlabel('# epochs')\n",
        "plt.ylabel('Acurácia')\n",
        "plt.legend(loc=\"lower right\", prop={'size': 10})\n",
        "plt.show()"
      ]
    },
    {
      "cell_type": "code",
      "execution_count": null,
      "metadata": {
        "colab": {
          "base_uri": "https://localhost:8080/"
        },
        "id": "IZ6kfJEJKvEA",
        "outputId": "573e37c8-d5b4-44aa-93bf-1413fde15a28"
      },
      "outputs": [
        {
          "output_type": "stream",
          "name": "stdout",
          "text": [
            "7/7 [==============================] - 0s 72ms/step - loss: 2.5262e-04 - accuracy: 1.0000\n",
            "[0.0002526192110963166, 1.0]\n"
          ]
        }
      ],
      "source": [
        "print(model.evaluate(test_data,test_target))"
      ]
    },
    {
      "cell_type": "markdown",
      "metadata": {
        "id": "kszPv_TnpENN"
      },
      "source": [
        "##Matriz de Confusão"
      ]
    },
    {
      "cell_type": "code",
      "execution_count": null,
      "metadata": {
        "id": "NLQBM-CMo78t"
      },
      "outputs": [],
      "source": [
        "from sklearn.metrics import confusion_matrix"
      ]
    },
    {
      "cell_type": "code",
      "execution_count": null,
      "metadata": {
        "colab": {
          "base_uri": "https://localhost:8080/"
        },
        "id": "HMu0w--IpPNO",
        "outputId": "8bcd5e28-1b11-4416-b62f-7e437a5ac8a7"
      },
      "outputs": [
        {
          "output_type": "stream",
          "name": "stdout",
          "text": [
            "7/7 [==============================] - 0s 28ms/step\n"
          ]
        }
      ],
      "source": [
        "y_pred = model.predict(test_data)"
      ]
    },
    {
      "cell_type": "code",
      "execution_count": null,
      "metadata": {
        "id": "KER_J_SWpWEr"
      },
      "outputs": [],
      "source": [
        "y_true = [np.argmax(y, axis=None, out=None) for y in test_target]\n",
        "y_true = np.array(y_true)"
      ]
    },
    {
      "cell_type": "code",
      "execution_count": null,
      "metadata": {
        "id": "-IHMJJHcpbdI"
      },
      "outputs": [],
      "source": [
        "y_hat = [np.argmax(y, axis=None, out=None) for y in y_pred]\n",
        "y_hat = np.array(y_hat)"
      ]
    },
    {
      "cell_type": "code",
      "execution_count": null,
      "metadata": {
        "id": "Y6BmotUqpJH1"
      },
      "outputs": [],
      "source": [
        "cm = confusion_matrix(y_true, y_hat)"
      ]
    },
    {
      "cell_type": "code",
      "execution_count": null,
      "metadata": {
        "colab": {
          "base_uri": "https://localhost:8080/"
        },
        "id": "dzOB3L6ipLhl",
        "outputId": "50585d29-ffbd-4cce-f7a0-fadf422cb1c7"
      },
      "outputs": [
        {
          "output_type": "stream",
          "name": "stdout",
          "text": [
            "[[ 59   0]\n",
            " [  0 134]]\n"
          ]
        }
      ],
      "source": [
        "print(cm)"
      ]
    },
    {
      "cell_type": "code",
      "execution_count": null,
      "metadata": {
        "id": "93z2EF9qphDl"
      },
      "outputs": [],
      "source": [
        "import seaborn as sn"
      ]
    },
    {
      "cell_type": "code",
      "execution_count": null,
      "metadata": {
        "colab": {
          "base_uri": "https://localhost:8080/",
          "height": 453
        },
        "id": "F73F66tdpjvd",
        "outputId": "b8613138-0cb7-4ad4-ad59-746a68604c8b"
      },
      "outputs": [
        {
          "output_type": "execute_result",
          "data": {
            "text/plain": [
              "<matplotlib.axes._subplots.AxesSubplot at 0x7f741cb0fc70>"
            ]
          },
          "metadata": {},
          "execution_count": 64
        },
        {
          "output_type": "display_data",
          "data": {
            "text/plain": [
              "<Figure size 720x504 with 2 Axes>"
            ],
            "image/png": "[encoded data removed]"
          },
          "metadata": {
            "needs_background": "light"
          }
        }
      ],
      "source": [
        "plt.figure(figsize = (10,7))\n",
        "sn.set(font_scale=1.4)#for label size\n",
        "sn.heatmap(cm, annot=True,annot_kws={\"size\": 16})# font size"
      ]
    },
    {
      "cell_type": "code",
      "execution_count": null,
      "metadata": {
        "colab": {
          "base_uri": "https://localhost:8080/"
        },
        "id": "lD0hesE-V6SN",
        "outputId": "51a9460a-17f0-4640-ec43-5e4634ed6a27"
      },
      "outputs": [
        {
          "output_type": "execute_result",
          "data": {
            "text/plain": [
              "1.0"
            ]
          },
          "metadata": {},
          "execution_count": 65
        }
      ],
      "source": [
        "from sklearn.metrics import recall_score\n",
        "recall_score(y_true, y_hat, average='macro')"
      ]
    },
    {
      "cell_type": "code",
      "execution_count": null,
      "metadata": {
        "colab": {
          "base_uri": "https://localhost:8080/"
        },
        "id": "Xv4h0kxPYb0U",
        "outputId": "ec844af4-ef8f-4b5b-e592-61bfa931b676"
      },
      "outputs": [
        {
          "output_type": "execute_result",
          "data": {
            "text/plain": [
              "1.0"
            ]
          },
          "metadata": {},
          "execution_count": 66
        }
      ],
      "source": [
        "from sklearn.metrics import f1_score\n",
        "f1_score(y_true, y_hat, average='macro')"
      ]
    },
    {
      "cell_type": "markdown",
      "metadata": {
        "id": "RbzVZUPBqU_X"
      },
      "source": [
        "##Curva ROC"
      ]
    },
    {
      "cell_type": "markdown",
      "metadata": {
        "id": "cNBoHNKj3E0b"
      },
      "source": [
        "ROC E AUROC\n"
      ]
    },
    {
      "cell_type": "code",
      "execution_count": null,
      "metadata": {
        "id": "WCD45vYK3RbB"
      },
      "outputs": [],
      "source": [
        "from sklearn.metrics import roc_curve, roc_auc_score"
      ]
    },
    {
      "cell_type": "markdown",
      "metadata": {
        "id": "CSJSMVzq3L5H"
      },
      "source": [
        "Calcular AUROC"
      ]
    },
    {
      "cell_type": "code",
      "execution_count": null,
      "metadata": {
        "id": "Hmh2Wycx16Bd"
      },
      "outputs": [],
      "source": [
        "# ROC é o receptor operando a característica AUROC (área sob a curva)\n",
        "r_auc = roc_auc_score(y_true, y_hat)"
      ]
    },
    {
      "cell_type": "markdown",
      "metadata": {
        "id": "CR3L_zx63o1n"
      },
      "source": [
        "Mostra os resultados AUROC"
      ]
    },
    {
      "cell_type": "code",
      "execution_count": null,
      "metadata": {
        "colab": {
          "base_uri": "https://localhost:8080/"
        },
        "id": "nuIEkSgG16D_",
        "outputId": "19b9ba3e-4584-4e7b-93e8-c9b04d6f6fbd"
      },
      "outputs": [
        {
          "output_type": "stream",
          "name": "stdout",
          "text": [
            "Neural Network Prediction: AUROC = 1.0000\n"
          ]
        }
      ],
      "source": [
        "print('Neural Network Prediction: AUROC = %.4f' % (r_auc))"
      ]
    },
    {
      "cell_type": "markdown",
      "metadata": {
        "id": "SnF46ueS34BB"
      },
      "source": [
        "Calcula a curva ROC"
      ]
    },
    {
      "cell_type": "code",
      "execution_count": null,
      "metadata": {
        "id": "on12V2Vf37BT"
      },
      "outputs": [],
      "source": [
        "r_fpr, r_tpr, _ = roc_curve(y_true, y_hat)\n"
      ]
    },
    {
      "cell_type": "markdown",
      "metadata": {
        "id": "9TVaXD8Z39Kq"
      },
      "source": [
        "Gráfico da Curva ROC"
      ]
    },
    {
      "cell_type": "code",
      "execution_count": null,
      "metadata": {
        "id": "lUciaA1C4DYu"
      },
      "outputs": [],
      "source": [
        "import matplotlib.pyplot as plt"
      ]
    },
    {
      "cell_type": "code",
      "execution_count": null,
      "metadata": {
        "colab": {
          "base_uri": "https://localhost:8080/",
          "height": 315
        },
        "id": "IgO0SEli4xmX",
        "outputId": "4d7aead6-2a8d-45ba-d035-2ad069325a91"
      },
      "outputs": [
        {
          "output_type": "display_data",
          "data": {
            "text/plain": [
              "<Figure size 432x288 with 1 Axes>"
            ],
            "image/png": "[encoded data removed]"
          },
          "metadata": {}
        }
      ],
      "source": [
        "plt.plot(r_fpr, r_tpr, linestyle='--', label='Precisão da Rede Neural (AUROC = %0.4f)' % r_auc)\n",
        "\n",
        "\n",
        "# Título\n",
        "plt.title('Curva ROC')\n",
        "# legendas eixos\n",
        "plt.xlabel('Taxa de Falso Positivo')\n",
        "plt.ylabel('Taxa de Verdadeiro Positivo')\n",
        "# mostra legenda\n",
        "plt.legend(loc=\"lower right\", prop={'size': 12})\n",
        "# mostra gráfico\n",
        "plt.show()"
      ]
    }
  ],
  "metadata": {
    "accelerator": "GPU",
    "colab": {
      "provenance": []
    },
    "kernelspec": {
      "display_name": "Python 3 (ipykernel)",
      "language": "python",
      "name": "python3"
    },
    "language_info": {
      "codemirror_mode": {
        "name": "ipython",
        "version": 3
      },
      "file_extension": ".py",
      "mimetype": "text/x-python",
      "name": "python",
      "nbconvert_exporter": "python",
      "pygments_lexer": "ipython3",
      "version": "3.10.6"
    }
  },
  "nbformat": 4,
  "nbformat_minor": 0
}